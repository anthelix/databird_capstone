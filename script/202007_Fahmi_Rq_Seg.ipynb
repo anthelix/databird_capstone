{
 "cells": [
  {
   "cell_type": "markdown",
   "metadata": {},
   "source": [
    "# \"Give me\" les requetes par segments anatomiques par établissement de santé\n",
    "\n",
    "Jointure de la table Req_HI_Lab_Users et BODYLOCATION pour avoir le nombre de requetes en fonction du segement anatomique de la prothese par etablissement de sante"
   ]
  },
  {
   "cell_type": "markdown",
   "metadata": {},
   "source": [
    "- Input\n",
    "    * Request.csv\n",
    "    * OperatingBlock.csv\n",
    "    * HealthInstitution.csv\n",
    "    * Laboratory.csv\n",
    "    * Req_HI_Lab_Users.csv\n",
    "- Ouput\n",
    "    * segments_par_client.csv\n",
    "    * segment_hi_1.csv\n",
    "    "
   ]
  },
  {
   "cell_type": "markdown",
   "metadata": {},
   "source": [
    "## Imports & settings"
   ]
  },
  {
   "cell_type": "code",
   "execution_count": null,
   "metadata": {
    "ExecuteTime": {
     "end_time": "2020-07-30T13:19:55.456163Z",
     "start_time": "2020-07-30T13:19:55.441482Z"
    },
    "hide_input": false
   },
   "outputs": [],
   "source": [
    "import pandas as pd\n",
    "# Display all the columns\n",
    "pd.set_option('display.max_columns', None)\n",
    "path_input='./../data/data_raw/'\n",
    "path_output='./../data/data_created/' "
   ]
  },
  {
   "cell_type": "markdown",
   "metadata": {},
   "source": [
    "## Loading and cleaning"
   ]
  },
  {
   "cell_type": "code",
   "execution_count": null,
   "metadata": {
    "ExecuteTime": {
     "end_time": "2020-07-30T13:19:56.697225Z",
     "start_time": "2020-07-30T13:19:56.410233Z"
    }
   },
   "outputs": [],
   "source": [
    "df = pd.read_csv(path_output+\"Req_HI_Lab_Users.csv\")\n",
    "df.head(2)"
   ]
  },
  {
   "cell_type": "code",
   "execution_count": null,
   "metadata": {
    "ExecuteTime": {
     "end_time": "2020-07-30T13:19:57.097590Z",
     "start_time": "2020-07-30T13:19:57.080078Z"
    }
   },
   "outputs": [],
   "source": [
    "body_loc = pd.read_csv(path_input+\"BodyLocation_modif.csv\")\n",
    "body_loc.head(2)"
   ]
  },
  {
   "cell_type": "code",
   "execution_count": null,
   "metadata": {
    "ExecuteTime": {
     "end_time": "2020-07-30T13:19:57.506821Z",
     "start_time": "2020-07-30T13:19:57.491047Z"
    }
   },
   "outputs": [],
   "source": [
    "df.drop('Unnamed: 0', axis=1, inplace=True)"
   ]
  },
  {
   "cell_type": "code",
   "execution_count": null,
   "metadata": {
    "ExecuteTime": {
     "end_time": "2020-07-30T13:19:59.246991Z",
     "start_time": "2020-07-30T13:19:59.231349Z"
    }
   },
   "outputs": [],
   "source": [
    "df.drop('Dt Y Pe', axis=1, inplace=True)"
   ]
  },
  {
   "cell_type": "code",
   "execution_count": null,
   "metadata": {
    "ExecuteTime": {
     "end_time": "2020-07-30T13:19:59.693560Z",
     "start_time": "2020-07-30T13:19:59.670515Z"
    }
   },
   "outputs": [],
   "source": [
    "# Dropping 'Centre hospitalier du Pélican' -> Testing rows\n",
    "df = df[df['Name_hi'] != 'Centre hospitalier du Pélican']"
   ]
  },
  {
   "cell_type": "code",
   "execution_count": null,
   "metadata": {
    "ExecuteTime": {
     "end_time": "2020-07-30T13:20:00.150177Z",
     "start_time": "2020-07-30T13:20:00.124300Z"
    }
   },
   "outputs": [],
   "source": [
    "df = df[df['Name_lab'] != 'TEST']"
   ]
  },
  {
   "cell_type": "code",
   "execution_count": null,
   "metadata": {
    "ExecuteTime": {
     "end_time": "2020-07-30T13:20:00.552694Z",
     "start_time": "2020-07-30T13:20:00.503067Z"
    }
   },
   "outputs": [],
   "source": [
    "df['Date'] = df['Date'].str[:10]\n",
    "df['Date'] = pd.to_datetime(df['Date'], format='%Y/%m/%d')"
   ]
  },
  {
   "cell_type": "code",
   "execution_count": null,
   "metadata": {
    "ExecuteTime": {
     "end_time": "2020-07-30T13:20:00.989172Z",
     "start_time": "2020-07-30T13:20:00.917100Z"
    }
   },
   "outputs": [],
   "source": [
    "df = df.merge(body_loc, left_on=\"Location ID\", right_on=\"ID\")\n",
    "df.drop(\"ID\", axis=1, inplace=True)"
   ]
  },
  {
   "cell_type": "code",
   "execution_count": null,
   "metadata": {
    "ExecuteTime": {
     "end_time": "2020-07-30T13:20:01.367648Z",
     "start_time": "2020-07-30T13:20:01.337998Z"
    }
   },
   "outputs": [],
   "source": [
    "df = df.rename({'Name': 'BodyLoc'}, axis=1)"
   ]
  },
  {
   "cell_type": "markdown",
   "metadata": {},
   "source": [
    "## Joining and exporting"
   ]
  },
  {
   "cell_type": "code",
   "execution_count": null,
   "metadata": {
    "ExecuteTime": {
     "end_time": "2020-07-30T13:20:51.257726Z",
     "start_time": "2020-07-30T13:20:51.241252Z"
    }
   },
   "outputs": [],
   "source": [
    "agg_hi = df.groupby([\"SegmentAnat\", \"Name_hi\"]).agg({\"ID_rq\": 'count'})\n",
    "#agg_hi = df.groupby([\"Name_hi\"]).agg({\"ID_rq\": 'count'})"
   ]
  },
  {
   "cell_type": "code",
   "execution_count": null,
   "metadata": {
    "ExecuteTime": {
     "end_time": "2020-07-30T13:20:51.693198Z",
     "start_time": "2020-07-30T13:20:51.667569Z"
    }
   },
   "outputs": [],
   "source": [
    "agg_hi"
   ]
  },
  {
   "cell_type": "code",
   "execution_count": null,
   "metadata": {
    "ExecuteTime": {
     "end_time": "2020-07-30T13:21:09.058639Z",
     "start_time": "2020-07-30T13:21:09.001490Z"
    }
   },
   "outputs": [],
   "source": [
    "agg_hi = agg_hi.reset_index()\n",
    "agg_hi = agg_hi.merge(df[[\"Name_hi\", \"Zip Code_hi\"]],\n",
    "                      left_on=\"Name_hi\", right_on=\"Name_hi\")\n",
    "agg_hi"
   ]
  },
  {
   "cell_type": "code",
   "execution_count": null,
   "metadata": {
    "ExecuteTime": {
     "end_time": "2020-07-30T13:21:12.762797Z",
     "start_time": "2020-07-30T13:21:12.706412Z"
    }
   },
   "outputs": [],
   "source": [
    "agg_hi.drop_duplicates(inplace=True)\n",
    "agg_hi.head(2)"
   ]
  },
  {
   "cell_type": "code",
   "execution_count": null,
   "metadata": {
    "ExecuteTime": {
     "end_time": "2020-07-30T13:21:18.497233Z",
     "start_time": "2020-07-30T13:21:18.485119Z"
    }
   },
   "outputs": [],
   "source": [
    "agg_hi.to_csv(path_output+\"segments_par_client.csv\")"
   ]
  },
  {
   "cell_type": "code",
   "execution_count": null,
   "metadata": {
    "ExecuteTime": {
     "end_time": "2020-07-30T12:56:00.158941Z",
     "start_time": "2020-07-30T12:56:00.143533Z"
    },
    "hide_input": false
   },
   "outputs": [],
   "source": [
    "agg_hi = df.groupby([\"SegmentAnat\", \"Zip Code_hi\"]).agg({\"ID_rq\": 'count'})"
   ]
  },
  {
   "cell_type": "code",
   "execution_count": null,
   "metadata": {
    "ExecuteTime": {
     "end_time": "2020-07-30T12:56:01.498055Z",
     "start_time": "2020-07-30T12:56:01.490614Z"
    }
   },
   "outputs": [],
   "source": [
    "agg_hi = agg_hi.reset_index()"
   ]
  },
  {
   "cell_type": "code",
   "execution_count": null,
   "metadata": {
    "ExecuteTime": {
     "end_time": "2020-07-30T12:56:01.956417Z",
     "start_time": "2020-07-30T12:56:01.948238Z"
    }
   },
   "outputs": [],
   "source": [
    "agg_hi = agg_hi.rename({'ID_rq': 'Nb_Rq'}, axis=1)"
   ]
  },
  {
   "cell_type": "code",
   "execution_count": null,
   "metadata": {
    "ExecuteTime": {
     "end_time": "2020-07-30T12:57:50.036452Z",
     "start_time": "2020-07-30T12:57:49.858200Z"
    }
   },
   "outputs": [],
   "source": [
    "agg_hi\n",
    "# Uncomment to save as csv file\n",
    "agg_hi.to_csv(path_output+\"segment_hi_1.csv\")\n",
    "agg_hi.head(2)"
   ]
  },
  {
   "cell_type": "code",
   "execution_count": null,
   "metadata": {},
   "outputs": [],
   "source": []
  }
 ],
 "metadata": {
  "kernelspec": {
   "display_name": "Python 3",
   "language": "python",
   "name": "python3"
  },
  "language_info": {
   "codemirror_mode": {
    "name": "ipython",
    "version": 3
   },
   "file_extension": ".py",
   "mimetype": "text/x-python",
   "name": "python",
   "nbconvert_exporter": "python",
   "pygments_lexer": "ipython3",
   "version": "3.7.4"
  },
  "toc": {
   "base_numbering": 1,
   "nav_menu": {},
   "number_sections": false,
   "sideBar": true,
   "skip_h1_title": false,
   "title_cell": "Table of Contents",
   "title_sidebar": "Contents",
   "toc_cell": false,
   "toc_position": {},
   "toc_section_display": true,
   "toc_window_display": false
  },
  "varInspector": {
   "cols": {
    "lenName": 16,
    "lenType": 16,
    "lenVar": 40
   },
   "kernels_config": {
    "python": {
     "delete_cmd_postfix": "",
     "delete_cmd_prefix": "del ",
     "library": "var_list.py",
     "varRefreshCmd": "print(var_dic_list())"
    },
    "r": {
     "delete_cmd_postfix": ") ",
     "delete_cmd_prefix": "rm(",
     "library": "var_list.r",
     "varRefreshCmd": "cat(var_dic_list()) "
    }
   },
   "types_to_exclude": [
    "module",
    "function",
    "builtin_function_or_method",
    "instance",
    "_Feature"
   ],
   "window_display": false
  }
 },
 "nbformat": 4,
 "nbformat_minor": 4
}
