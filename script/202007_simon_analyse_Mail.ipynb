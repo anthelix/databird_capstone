{
 "cells": [
  {
   "cell_type": "markdown",
   "metadata": {
    "toc": true
   },
   "source": [
    "<h1>Table of Contents<span class=\"tocSkip\"></span></h1>\n",
    "<div class=\"toc\"><ul class=\"toc-item\"></ul></div>"
   ]
  },
  {
   "cell_type": "code",
   "execution_count": null,
   "metadata": {
    "ExecuteTime": {
     "end_time": "2020-07-28T10:33:41.488697Z",
     "start_time": "2020-07-28T10:33:13.430559Z"
    }
   },
   "outputs": [],
   "source": [
    "import pandas as pd\n",
    "# Display all the columns\n",
    "pd.set_option('display.max_columns', None)\n",
    "path_input='./../data/data_raw/'\n",
    "path_output='./../data/data_created/' "
   ]
  },
  {
   "cell_type": "markdown",
   "metadata": {},
   "source": [
    "* input\n",
    "    * sendInBlue.csv\n",
    "    * Req_HI_Lab_Users.csv\n",
    "* output\n",
    "    * 20200728_simon_fahmi_mailopnening.csv\n",
    "    * 20200728_simon_fahmi_reasonsopnening.csv\n",
    "    "
   ]
  },
  {
   "cell_type": "code",
   "execution_count": null,
   "metadata": {
    "ExecuteTime": {
     "end_time": "2020-07-28T10:33:44.470816Z",
     "start_time": "2020-07-28T10:33:44.463076Z"
    }
   },
   "outputs": [],
   "source": []
  },
  {
   "cell_type": "code",
   "execution_count": null,
   "metadata": {
    "ExecuteTime": {
     "end_time": "2020-07-28T10:33:48.644523Z",
     "start_time": "2020-07-28T10:33:46.225297Z"
    }
   },
   "outputs": [],
   "source": [
    "df = pd.read_csv(path_output+\"sendInBlue.csv\")"
   ]
  },
  {
   "cell_type": "code",
   "execution_count": null,
   "metadata": {
    "ExecuteTime": {
     "end_time": "2020-07-28T10:34:02.158806Z",
     "start_time": "2020-07-28T10:34:02.139412Z"
    }
   },
   "outputs": [],
   "source": [
    "df.head()"
   ]
  },
  {
   "cell_type": "code",
   "execution_count": null,
   "metadata": {
    "ExecuteTime": {
     "end_time": "2020-07-28T10:34:07.009815Z",
     "start_time": "2020-07-28T10:34:06.991712Z"
    }
   },
   "outputs": [],
   "source": [
    "df.shape"
   ]
  },
  {
   "cell_type": "code",
   "execution_count": null,
   "metadata": {
    "ExecuteTime": {
     "end_time": "2020-07-28T10:34:11.025131Z",
     "start_time": "2020-07-28T10:34:10.908242Z"
    }
   },
   "outputs": [],
   "source": [
    "df[\"st_text\"].value_counts()"
   ]
  },
  {
   "cell_type": "code",
   "execution_count": null,
   "metadata": {
    "ExecuteTime": {
     "end_time": "2020-07-28T10:34:16.442468Z",
     "start_time": "2020-07-28T10:34:16.319263Z"
    }
   },
   "outputs": [],
   "source": [
    "df[df[\"st_text\"] == 'Envoyé'].shape[0]"
   ]
  },
  {
   "cell_type": "code",
   "execution_count": null,
   "metadata": {
    "ExecuteTime": {
     "end_time": "2020-07-28T10:34:20.016276Z",
     "start_time": "2020-07-28T10:34:19.850157Z"
    }
   },
   "outputs": [],
   "source": [
    "deliverability_rate = round(((df[df[\"st_text\"] == 'Délivré'].shape[0]/df[df[\"st_text\"] == 'Envoyé'].shape[0])*100),2)\n",
    "print(f\"deliverability rate = {deliverability_rate}%\")"
   ]
  },
  {
   "cell_type": "code",
   "execution_count": null,
   "metadata": {
    "ExecuteTime": {
     "end_time": "2020-07-28T10:34:20.848842Z",
     "start_time": "2020-07-28T10:34:20.677494Z"
    }
   },
   "outputs": [],
   "source": [
    "open_rate = round(((df[df[\"st_text\"] == 'Ouvert'].shape[0]/df[df[\"st_text\"] == 'Délivré'].shape[0])*100),2)\n",
    "print(f\"open rate = {open_rate}%\")"
   ]
  },
  {
   "cell_type": "code",
   "execution_count": null,
   "metadata": {
    "ExecuteTime": {
     "end_time": "2020-07-28T10:34:22.019721Z",
     "start_time": "2020-07-28T10:34:21.958311Z"
    }
   },
   "outputs": [],
   "source": [
    "df[\"PretID\"].nunique()"
   ]
  },
  {
   "cell_type": "code",
   "execution_count": null,
   "metadata": {
    "ExecuteTime": {
     "end_time": "2020-07-28T10:34:26.004732Z",
     "start_time": "2020-07-28T10:34:25.912784Z"
    }
   },
   "outputs": [],
   "source": [
    "df[df[\"PretID\"] == 'A32433']"
   ]
  },
  {
   "cell_type": "code",
   "execution_count": null,
   "metadata": {
    "ExecuteTime": {
     "end_time": "2020-07-28T10:34:30.028907Z",
     "start_time": "2020-07-28T10:34:29.913805Z"
    }
   },
   "outputs": [],
   "source": [
    "df[\"Status\"].value_counts()"
   ]
  },
  {
   "cell_type": "code",
   "execution_count": null,
   "metadata": {
    "ExecuteTime": {
     "end_time": "2020-07-28T10:34:34.673003Z",
     "start_time": "2020-07-28T10:34:32.922294Z"
    }
   },
   "outputs": [],
   "source": [
    "df_Req_HI_Lab_Users = pd.read_csv(path_output+'Req_HI_Lab_Users.csv')"
   ]
  },
  {
   "cell_type": "code",
   "execution_count": null,
   "metadata": {
    "ExecuteTime": {
     "end_time": "2020-07-28T10:34:35.826267Z",
     "start_time": "2020-07-28T10:34:35.741350Z"
    }
   },
   "outputs": [],
   "source": [
    "df_Req_HI_Lab_Users.sample(5)"
   ]
  },
  {
   "cell_type": "code",
   "execution_count": null,
   "metadata": {
    "ExecuteTime": {
     "end_time": "2020-07-28T10:34:40.092097Z",
     "start_time": "2020-07-28T10:34:40.082009Z"
    }
   },
   "outputs": [],
   "source": [
    "df_Req_HI_Lab_Users[\"ID_rq\"].nunique()"
   ]
  },
  {
   "cell_type": "code",
   "execution_count": null,
   "metadata": {
    "ExecuteTime": {
     "end_time": "2020-07-28T10:34:42.341751Z",
     "start_time": "2020-07-28T10:34:42.293091Z"
    }
   },
   "outputs": [],
   "source": [
    "df_Req_HI_Lab_Users_2 = df_Req_HI_Lab_Users[[\"ID_rq\", \"Name_hi\", \"Name_lab\"]]"
   ]
  },
  {
   "cell_type": "code",
   "execution_count": null,
   "metadata": {
    "ExecuteTime": {
     "end_time": "2020-07-28T10:34:42.989970Z",
     "start_time": "2020-07-28T10:34:42.981450Z"
    }
   },
   "outputs": [],
   "source": [
    "df_Req_HI_Lab_Users_2.head()"
   ]
  },
  {
   "cell_type": "code",
   "execution_count": null,
   "metadata": {
    "ExecuteTime": {
     "end_time": "2020-07-28T10:34:44.932368Z",
     "start_time": "2020-07-28T10:34:44.918195Z"
    }
   },
   "outputs": [],
   "source": [
    "df_Req_HI_Lab_Users_2.dtypes"
   ]
  },
  {
   "cell_type": "code",
   "execution_count": null,
   "metadata": {
    "ExecuteTime": {
     "end_time": "2020-07-28T10:34:46.572722Z",
     "start_time": "2020-07-28T10:34:46.540340Z"
    }
   },
   "outputs": [],
   "source": [
    "df_mail2 = df.copy()"
   ]
  },
  {
   "cell_type": "code",
   "execution_count": null,
   "metadata": {
    "ExecuteTime": {
     "end_time": "2020-07-28T10:34:47.621172Z",
     "start_time": "2020-07-28T10:34:47.351578Z"
    }
   },
   "outputs": [],
   "source": [
    "df_mail2['PretID'] = df_mail2['PretID'].str[1:]"
   ]
  },
  {
   "cell_type": "code",
   "execution_count": null,
   "metadata": {
    "ExecuteTime": {
     "end_time": "2020-07-28T10:34:48.418808Z",
     "start_time": "2020-07-28T10:34:48.402379Z"
    }
   },
   "outputs": [],
   "source": [
    "df_mail2.dtypes"
   ]
  },
  {
   "cell_type": "code",
   "execution_count": null,
   "metadata": {
    "ExecuteTime": {
     "end_time": "2020-07-28T10:34:50.999932Z",
     "start_time": "2020-07-28T10:34:50.944222Z"
    }
   },
   "outputs": [],
   "source": [
    "df_mail2['PretID'].isna().sum()"
   ]
  },
  {
   "cell_type": "code",
   "execution_count": null,
   "metadata": {
    "ExecuteTime": {
     "end_time": "2020-07-28T10:34:52.036655Z",
     "start_time": "2020-07-28T10:34:51.929639Z"
    }
   },
   "outputs": [],
   "source": [
    "df_mail2[df_mail2[\"PretID\"] == 'nknow']"
   ]
  },
  {
   "cell_type": "code",
   "execution_count": null,
   "metadata": {
    "ExecuteTime": {
     "end_time": "2020-07-28T10:34:55.617773Z",
     "start_time": "2020-07-28T10:34:55.456987Z"
    }
   },
   "outputs": [],
   "source": [
    "mask_drop_nkow = df_mail2[\"PretID\"] == 'nknow'\n",
    "\n",
    "df_mail3 = df_mail2.loc[-mask_drop_nkow,:]\n",
    "df_mail3.shape"
   ]
  },
  {
   "cell_type": "code",
   "execution_count": null,
   "metadata": {
    "ExecuteTime": {
     "end_time": "2020-07-28T10:34:59.891435Z",
     "start_time": "2020-07-28T10:34:59.507398Z"
    }
   },
   "outputs": [],
   "source": [
    "df_mail3['PretID'] =  df_mail3['PretID'].astype('int64')"
   ]
  },
  {
   "cell_type": "code",
   "execution_count": null,
   "metadata": {
    "ExecuteTime": {
     "end_time": "2020-07-28T10:35:01.764684Z",
     "start_time": "2020-07-28T10:35:01.756967Z"
    }
   },
   "outputs": [],
   "source": [
    "print(df_mail3.dtypes, df_Req_HI_Lab_Users_2.dtypes, end=\" \")"
   ]
  },
  {
   "cell_type": "code",
   "execution_count": null,
   "metadata": {
    "ExecuteTime": {
     "end_time": "2020-07-28T12:40:45.698690Z",
     "start_time": "2020-07-28T12:40:44.296125Z"
    }
   },
   "outputs": [],
   "source": [
    "#df_mail4 = pd.merge(df_mail3, df_Req_HI_Lab_Users_2)\n",
    "df_mail4 = df_mail3.merge(df_Req_HI_Lab_Users_2, left_on='PretID', right_on='ID_rq')"
   ]
  },
  {
   "cell_type": "code",
   "execution_count": null,
   "metadata": {
    "ExecuteTime": {
     "end_time": "2020-07-28T12:40:46.655229Z",
     "start_time": "2020-07-28T12:40:46.407985Z"
    }
   },
   "outputs": [],
   "source": [
    "df_mail4.shape"
   ]
  },
  {
   "cell_type": "code",
   "execution_count": null,
   "metadata": {
    "ExecuteTime": {
     "end_time": "2020-07-28T10:35:10.480358Z",
     "start_time": "2020-07-28T10:35:10.465332Z"
    }
   },
   "outputs": [],
   "source": [
    "df_mail4.head()"
   ]
  },
  {
   "cell_type": "code",
   "execution_count": null,
   "metadata": {
    "ExecuteTime": {
     "end_time": "2020-07-28T09:14:43.031133Z",
     "start_time": "2020-07-28T09:14:42.728305Z"
    }
   },
   "outputs": [],
   "source": [
    "df_lab_answer = df_mail4.groupby(['Name_lab'])['PretID'].nunique()"
   ]
  },
  {
   "cell_type": "code",
   "execution_count": null,
   "metadata": {
    "ExecuteTime": {
     "end_time": "2020-07-28T09:04:24.853580Z",
     "start_time": "2020-07-28T09:04:24.383472Z"
    }
   },
   "outputs": [],
   "source": [
    "df_mail4.groupby(['Name_lab'])['ID_rq'].nunique().sort_values()"
   ]
  },
  {
   "cell_type": "code",
   "execution_count": null,
   "metadata": {
    "ExecuteTime": {
     "end_time": "2020-07-28T09:15:00.792736Z",
     "start_time": "2020-07-28T09:15:00.771378Z"
    }
   },
   "outputs": [],
   "source": [
    "df_lab_answer"
   ]
  },
  {
   "cell_type": "code",
   "execution_count": null,
   "metadata": {
    "ExecuteTime": {
     "end_time": "2020-07-28T09:31:24.672492Z",
     "start_time": "2020-07-28T09:31:24.365784Z"
    }
   },
   "outputs": [],
   "source": [
    "#df_lab_answer = df_mail4.groupby(['Name_lab'])['PretID'].nunique()\n",
    "\n",
    "df_mail4.groupby([\"Name_lab\", \"PretID\"])[\"PretID\"].nunique()"
   ]
  },
  {
   "cell_type": "code",
   "execution_count": null,
   "metadata": {
    "ExecuteTime": {
     "end_time": "2020-07-28T12:30:27.508595Z",
     "start_time": "2020-07-28T12:30:19.090952Z"
    }
   },
   "outputs": [],
   "source": [
    "df_mail4.groupby([\"Name_lab\", \"PretID\"])[\"st_text\"].apply(lambda ser: ser.str.contains(\"Ouvert\").nunique())\n",
    "\n",
    "#df_mail4.groupby([\"Name_lab\", \"PretID\"])[\"st_text\"].apply(lambda ser: ser.str.contains(\"Ouvert\"))"
   ]
  },
  {
   "cell_type": "code",
   "execution_count": null,
   "metadata": {
    "ExecuteTime": {
     "end_time": "2020-07-28T09:53:28.951219Z",
     "start_time": "2020-07-28T09:53:21.769630Z"
    }
   },
   "outputs": [],
   "source": [
    "df_mail_ouvert = df_mail4.groupby([\"Name_lab\", \"PretID\"])[\"st_text\"].apply(lambda ser: ser.str.contains(\"Ouvert\").nunique()).to_frame()"
   ]
  },
  {
   "cell_type": "code",
   "execution_count": null,
   "metadata": {
    "ExecuteTime": {
     "end_time": "2020-07-28T09:54:35.033288Z",
     "start_time": "2020-07-28T09:54:32.929965Z"
    }
   },
   "outputs": [],
   "source": [
    "df_mail_ouvert[\"st_text\"].value_counts()"
   ]
  },
  {
   "cell_type": "code",
   "execution_count": null,
   "metadata": {
    "ExecuteTime": {
     "end_time": "2020-07-28T12:42:54.568476Z",
     "start_time": "2020-07-28T12:42:53.691035Z"
    }
   },
   "outputs": [],
   "source": [
    "#création d'une colonne booléen\n",
    "\n",
    "df_mail4['bool_open'] = 0\n",
    "cond_open = df_mail4['st_text'].str.contains(\"Ouvert\")\n",
    "cond_open2 = df_mail4['st_text'].str.contains(\"1ère ouverture\")\n",
    "df_mail4.loc[cond_open, 'bool_open'] = 1\n",
    "df_mail4.loc[cond_open2, 'bool_open'] = 1\n",
    "df_mail4.sample(20)"
   ]
  },
  {
   "cell_type": "code",
   "execution_count": null,
   "metadata": {
    "ExecuteTime": {
     "end_time": "2020-07-28T12:43:55.460590Z",
     "start_time": "2020-07-28T12:43:54.831197Z"
    }
   },
   "outputs": [],
   "source": [
    "df_mail4.groupby([\"Name_lab\", \"PretID\"])[\"bool_open\"].sum()"
   ]
  },
  {
   "cell_type": "code",
   "execution_count": null,
   "metadata": {
    "ExecuteTime": {
     "end_time": "2020-07-28T12:44:45.429783Z",
     "start_time": "2020-07-28T12:44:45.223275Z"
    }
   },
   "outputs": [],
   "source": [
    "dfmail_final = df_mail4.groupby([\"Name_lab\", \"PretID\"])[\"bool_open\"].sum().to_frame()"
   ]
  },
  {
   "cell_type": "code",
   "execution_count": null,
   "metadata": {
    "ExecuteTime": {
     "end_time": "2020-07-28T13:29:53.073501Z",
     "start_time": "2020-07-28T13:29:53.037070Z"
    }
   },
   "outputs": [],
   "source": [
    "dfmail_final.head()"
   ]
  },
  {
   "cell_type": "code",
   "execution_count": null,
   "metadata": {
    "ExecuteTime": {
     "end_time": "2020-07-28T13:29:07.693464Z",
     "start_time": "2020-07-28T13:29:07.606387Z"
    }
   },
   "outputs": [],
   "source": [
    "#1 sur la colonne booléen\n",
    "\n",
    "cond_1 = dfmail_final['bool_open'] > 0\n",
    "dfmail_final.loc[cond_1, 'bool_open'] = 1\n",
    "dfmail_final.sample(20)"
   ]
  },
  {
   "cell_type": "code",
   "execution_count": null,
   "metadata": {
    "ExecuteTime": {
     "end_time": "2020-07-28T13:36:24.556105Z",
     "start_time": "2020-07-28T13:36:24.519492Z"
    }
   },
   "outputs": [],
   "source": [
    "df_openfin = dfmail_final.groupby([\"Name_lab\"])[\"bool_open\"].sum().to_frame()"
   ]
  },
  {
   "cell_type": "code",
   "execution_count": null,
   "metadata": {
    "ExecuteTime": {
     "end_time": "2020-07-28T13:36:28.214879Z",
     "start_time": "2020-07-28T13:36:28.162820Z"
    }
   },
   "outputs": [],
   "source": [
    "df_totfin = dfmail_final.groupby([\"Name_lab\"])[\"bool_open\"].count().to_frame()"
   ]
  },
  {
   "cell_type": "code",
   "execution_count": null,
   "metadata": {
    "ExecuteTime": {
     "end_time": "2020-07-28T13:36:34.905032Z",
     "start_time": "2020-07-28T13:36:34.868347Z"
    }
   },
   "outputs": [],
   "source": [
    "df_openfin.head()"
   ]
  },
  {
   "cell_type": "code",
   "execution_count": null,
   "metadata": {
    "ExecuteTime": {
     "end_time": "2020-07-28T13:36:45.002402Z",
     "start_time": "2020-07-28T13:36:44.966571Z"
    }
   },
   "outputs": [],
   "source": [
    "df_totfin.head()"
   ]
  },
  {
   "cell_type": "code",
   "execution_count": null,
   "metadata": {
    "ExecuteTime": {
     "end_time": "2020-07-28T13:40:20.629127Z",
     "start_time": "2020-07-28T13:40:19.486051Z"
    }
   },
   "outputs": [],
   "source": [
    "df_finalfinal = pd.merge(df_openfin, df_totfin, left_index=True, right_index=True)"
   ]
  },
  {
   "cell_type": "code",
   "execution_count": null,
   "metadata": {
    "ExecuteTime": {
     "end_time": "2020-07-28T13:40:26.688514Z",
     "start_time": "2020-07-28T13:40:26.594635Z"
    }
   },
   "outputs": [],
   "source": [
    "df_finalfinal.head()"
   ]
  },
  {
   "cell_type": "code",
   "execution_count": null,
   "metadata": {
    "ExecuteTime": {
     "end_time": "2020-07-28T13:42:29.505136Z",
     "start_time": "2020-07-28T13:42:29.399199Z"
    }
   },
   "outputs": [],
   "source": [
    "df_finalfinal[\"open_rate\"] = round((df_finalfinal[\"bool_open_x\"]/df_finalfinal[\"bool_open_y\"])*100, 2)"
   ]
  },
  {
   "cell_type": "code",
   "execution_count": null,
   "metadata": {
    "ExecuteTime": {
     "end_time": "2020-07-28T13:42:30.202954Z",
     "start_time": "2020-07-28T13:42:30.148312Z"
    }
   },
   "outputs": [],
   "source": [
    "df_finalfinal.tail()"
   ]
  },
  {
   "cell_type": "code",
   "execution_count": null,
   "metadata": {
    "ExecuteTime": {
     "end_time": "2020-07-28T13:43:37.360057Z",
     "start_time": "2020-07-28T13:43:37.047011Z"
    }
   },
   "outputs": [],
   "source": [
    "df_finalfinal[\"open_rate\"].sort_values()"
   ]
  },
  {
   "cell_type": "code",
   "execution_count": null,
   "metadata": {
    "ExecuteTime": {
     "end_time": "2020-07-28T13:45:32.820338Z",
     "start_time": "2020-07-28T13:45:31.426527Z"
    }
   },
   "outputs": [],
   "source": [
    "df_finalfinal.to_csv(path_output+\"simon_fahmi_mailopnening.csv\")"
   ]
  },
  {
   "cell_type": "code",
   "execution_count": null,
   "metadata": {},
   "outputs": [],
   "source": []
  },
  {
   "cell_type": "code",
   "execution_count": null,
   "metadata": {},
   "outputs": [],
   "source": []
  },
  {
   "cell_type": "code",
   "execution_count": null,
   "metadata": {},
   "outputs": [],
   "source": []
  },
  {
   "cell_type": "code",
   "execution_count": null,
   "metadata": {},
   "outputs": [],
   "source": []
  },
  {
   "cell_type": "code",
   "execution_count": null,
   "metadata": {
    "ExecuteTime": {
     "end_time": "2020-07-28T15:49:05.363427Z",
     "start_time": "2020-07-28T15:49:05.304526Z"
    }
   },
   "outputs": [],
   "source": [
    "df_mail4.shape"
   ]
  },
  {
   "cell_type": "code",
   "execution_count": null,
   "metadata": {
    "ExecuteTime": {
     "end_time": "2020-07-28T15:38:38.977031Z",
     "start_time": "2020-07-28T15:38:38.696399Z"
    }
   },
   "outputs": [],
   "source": [
    "df_mail4.groupby([\"Status\", \"ID_rq\"])[\"bool_open\"].sum()"
   ]
  },
  {
   "cell_type": "code",
   "execution_count": null,
   "metadata": {
    "ExecuteTime": {
     "end_time": "2020-07-28T15:38:47.709184Z",
     "start_time": "2020-07-28T15:38:47.566676Z"
    }
   },
   "outputs": [],
   "source": [
    "df_reasons_1 = df_mail4.groupby([\"Status\", \"ID_rq\"])[\"bool_open\"].sum().to_frame()"
   ]
  },
  {
   "cell_type": "code",
   "execution_count": null,
   "metadata": {
    "ExecuteTime": {
     "end_time": "2020-07-28T15:38:48.555539Z",
     "start_time": "2020-07-28T15:38:48.511874Z"
    }
   },
   "outputs": [],
   "source": [
    "df_reasons_1"
   ]
  },
  {
   "cell_type": "code",
   "execution_count": null,
   "metadata": {
    "ExecuteTime": {
     "end_time": "2020-07-28T15:38:52.793334Z",
     "start_time": "2020-07-28T15:38:52.583495Z"
    }
   },
   "outputs": [],
   "source": [
    "cond_2 = df_reasons_1['bool_open'] > 0\n",
    "df_reasons_1.loc[cond_2, 'bool_open'] = 1\n",
    "df_reasons_1"
   ]
  },
  {
   "cell_type": "code",
   "execution_count": null,
   "metadata": {
    "ExecuteTime": {
     "end_time": "2020-07-28T15:38:55.390368Z",
     "start_time": "2020-07-28T15:38:55.363057Z"
    }
   },
   "outputs": [],
   "source": [
    "df_openreason = df_reasons_1.groupby([\"Status\"])[\"bool_open\"].sum().to_frame()\n",
    "df_totreason = df_reasons_1.groupby([\"Status\"])[\"bool_open\"].count().to_frame()\n"
   ]
  },
  {
   "cell_type": "code",
   "execution_count": null,
   "metadata": {
    "ExecuteTime": {
     "end_time": "2020-07-28T15:38:56.616301Z",
     "start_time": "2020-07-28T15:38:56.549240Z"
    }
   },
   "outputs": [],
   "source": [
    "df_openreason"
   ]
  },
  {
   "cell_type": "code",
   "execution_count": null,
   "metadata": {
    "ExecuteTime": {
     "end_time": "2020-07-28T15:38:59.683504Z",
     "start_time": "2020-07-28T15:38:59.649566Z"
    }
   },
   "outputs": [],
   "source": [
    "df_totreason"
   ]
  },
  {
   "cell_type": "code",
   "execution_count": null,
   "metadata": {
    "ExecuteTime": {
     "end_time": "2020-07-28T15:40:04.127525Z",
     "start_time": "2020-07-28T15:40:04.007529Z"
    }
   },
   "outputs": [],
   "source": [
    "df_reasonfinal = pd.merge(df_openreason, df_totreason, left_index=True, right_index=True)"
   ]
  },
  {
   "cell_type": "code",
   "execution_count": null,
   "metadata": {
    "ExecuteTime": {
     "end_time": "2020-07-28T15:40:37.524920Z",
     "start_time": "2020-07-28T15:40:37.485985Z"
    }
   },
   "outputs": [],
   "source": [
    "df_reasonfinal[\"open_rate\"] = round((df_reasonfinal[\"bool_open_x\"]/df_reasonfinal[\"bool_open_y\"])*100, 2)"
   ]
  },
  {
   "cell_type": "code",
   "execution_count": null,
   "metadata": {
    "ExecuteTime": {
     "end_time": "2020-07-28T15:40:42.397260Z",
     "start_time": "2020-07-28T15:40:42.218418Z"
    }
   },
   "outputs": [],
   "source": [
    "df_reasonfinal"
   ]
  },
  {
   "cell_type": "code",
   "execution_count": null,
   "metadata": {
    "ExecuteTime": {
     "end_time": "2020-07-28T15:44:01.436753Z",
     "start_time": "2020-07-28T15:43:55.884976Z"
    }
   },
   "outputs": [],
   "source": [
    "df_mail4[\"Status\"].isnull().sum()"
   ]
  },
  {
   "cell_type": "code",
   "execution_count": null,
   "metadata": {
    "ExecuteTime": {
     "end_time": "2020-07-28T15:55:49.668328Z",
     "start_time": "2020-07-28T15:55:49.067345Z"
    }
   },
   "outputs": [],
   "source": [
    "df_reasonfinal.to_csv(path_output+\"simon_fahmi_reasonsopnening.csv\")"
   ]
  },
  {
   "cell_type": "code",
   "execution_count": null,
   "metadata": {},
   "outputs": [],
   "source": []
  }
 ],
 "metadata": {
  "kernelspec": {
   "display_name": "Python 3",
   "language": "python",
   "name": "python3"
  },
  "language_info": {
   "codemirror_mode": {
    "name": "ipython",
    "version": 3
   },
   "file_extension": ".py",
   "mimetype": "text/x-python",
   "name": "python",
   "nbconvert_exporter": "python",
   "pygments_lexer": "ipython3",
   "version": "3.7.4"
  },
  "toc": {
   "base_numbering": 1,
   "nav_menu": {},
   "number_sections": true,
   "sideBar": true,
   "skip_h1_title": true,
   "title_cell": "Table of Contents",
   "title_sidebar": "Contents",
   "toc_cell": true,
   "toc_position": {},
   "toc_section_display": true,
   "toc_window_display": true
  },
  "varInspector": {
   "cols": {
    "lenName": 16,
    "lenType": 16,
    "lenVar": 40
   },
   "kernels_config": {
    "python": {
     "delete_cmd_postfix": "",
     "delete_cmd_prefix": "del ",
     "library": "var_list.py",
     "varRefreshCmd": "print(var_dic_list())"
    },
    "r": {
     "delete_cmd_postfix": ") ",
     "delete_cmd_prefix": "rm(",
     "library": "var_list.r",
     "varRefreshCmd": "cat(var_dic_list()) "
    }
   },
   "types_to_exclude": [
    "module",
    "function",
    "builtin_function_or_method",
    "instance",
    "_Feature"
   ],
   "window_display": false
  }
 },
 "nbformat": 4,
 "nbformat_minor": 4
}
