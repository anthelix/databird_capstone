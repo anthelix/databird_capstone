{
 "cells": [
  {
   "cell_type": "markdown",
   "metadata": {},
   "source": [
    "## Give me DMI & anatomic segment split by Health Insititions (with geographic details)"
   ]
  },
  {
   "cell_type": "code",
   "execution_count": null,
   "metadata": {
    "ExecuteTime": {
     "end_time": "2020-07-30T14:53:43.130801Z",
     "start_time": "2020-07-30T14:53:42.991085Z"
    }
   },
   "outputs": [],
   "source": [
    "import pandas as pd \n",
    "\n",
    "path_input='./../data/data_raw/'\n",
    "path_output='./../data/data_created/' \n",
    "\n",
    "pd.set_option(\"display.max_columns\",None)"
   ]
  },
  {
   "cell_type": "markdown",
   "metadata": {},
   "source": [
    "### input and output du notebook\n",
    "- Input\n",
    "    * Req_HI_Lab_Users.csv\n",
    "    * Request.csv\n",
    "    * HealthInstitution.csv\n",
    "    * FosUserUser.csv\n",
    "    * OperatingBlock.csv\n",
    "    * BodyLocation_modif.csv\n",
    "    * Laboratory.csv\n",
    "    * Specialty.csv\n",
    "    * OperatingSpecialty.csv\n",
    "- Ouput\n",
    "    * MaterialByHi.csv\n",
    "    * HiMatGeo.csv\n",
    "    "
   ]
  },
  {
   "cell_type": "code",
   "execution_count": null,
   "metadata": {
    "ExecuteTime": {
     "end_time": "2020-07-30T14:53:58.007656Z",
     "start_time": "2020-07-30T14:53:57.091439Z"
    },
    "scrolled": true
   },
   "outputs": [],
   "source": [
    "df_hi = pd.read_csv(path_output+\"Req_HI_Lab_Users.csv\", low_memory=False)\n",
    "df_hi.head(3)"
   ]
  },
  {
   "cell_type": "code",
   "execution_count": null,
   "metadata": {
    "ExecuteTime": {
     "end_time": "2020-07-30T14:54:24.405783Z",
     "start_time": "2020-07-30T14:54:22.819246Z"
    }
   },
   "outputs": [],
   "source": [
    "df_rq = pd.read_csv(path_input+\"Request.csv\")\n",
    "df_lab = pd.read_csv(path_input+\"Laboratory.csv\")\n",
    "df_hi = pd.read_csv(path_input+\"HealthInstitution.csv\")\n",
    "df_ob = pd.read_csv(path_input+\"OperatingBlock.csv\")\n",
    "df_user = pd.read_csv(path_input+\"FosUserUser.csv\")\n",
    "df_spec = pd.read_csv(path_input+\"Specialty.csv\")\n",
    "df_bodyloc = pd.read_csv(path_input+\"BodyLocation_modif.csv\")\n",
    "df_SpeOpe = pd.read_csv(path_input+\"OperatingSpecialty.csv\")"
   ]
  },
  {
   "cell_type": "code",
   "execution_count": null,
   "metadata": {
    "ExecuteTime": {
     "end_time": "2020-07-30T14:54:42.421040Z",
     "start_time": "2020-07-30T14:54:42.035231Z"
    }
   },
   "outputs": [],
   "source": [
    "df_Spe = pd.merge(df_rq, df_SpeOpe, left_on = \"Specialty ID\", right_on = \"ID\" )\n",
    "df_Spe.head(3)"
   ]
  },
  {
   "cell_type": "code",
   "execution_count": null,
   "metadata": {
    "ExecuteTime": {
     "end_time": "2020-07-30T14:54:53.688406Z",
     "start_time": "2020-07-30T14:54:53.592478Z"
    },
    "scrolled": true
   },
   "outputs": [],
   "source": [
    "df_operation = pd.merge(df_Spe, df_bodyloc, left_on = \"Location ID\", right_on = \"ID\" )\n",
    "df_operation.head(2)"
   ]
  },
  {
   "cell_type": "markdown",
   "metadata": {},
   "source": [
    "### `df_operation` : tables requête, materiel (specialty), segment anatomique (body location)"
   ]
  },
  {
   "cell_type": "code",
   "execution_count": null,
   "metadata": {
    "ExecuteTime": {
     "end_time": "2020-07-30T14:54:53.905866Z",
     "start_time": "2020-07-30T14:53:57.529Z"
    },
    "scrolled": true
   },
   "outputs": [],
   "source": [
    "df_operation = df_operation[[\"ID_x\",\"Name_x\",\"SegmentAnat\"]]\n",
    "df_operation = df_operation.rename(columns = {\"ID_x\":\"Id_rq\",\"Name_x\" : \"Material\"})\n",
    "df_operation.head(3)"
   ]
  },
  {
   "cell_type": "markdown",
   "metadata": {},
   "source": [
    "### Columns selection"
   ]
  },
  {
   "cell_type": "code",
   "execution_count": null,
   "metadata": {
    "ExecuteTime": {
     "end_time": "2020-07-30T08:09:05.715852Z",
     "start_time": "2020-07-30T08:09:05.682051Z"
    }
   },
   "outputs": [],
   "source": [
    "#Request\n",
    "df = df_rq[['ID', 'Chosen Laboratory ID', \"Specialty ID\",\n",
    "            'Location ID', 'Operating Block User ID']]\n",
    "#Labos \n",
    "df_lab = df_lab[['ID','Name','Bloc ID']]\n",
    "\n",
    "#HI\n",
    "df_hi=df_hi[[\"ID\",\"Name\",\"City\",\"Zip Code\"]]\n",
    "\n",
    "#OpeBlock\n",
    "df_ob = df_ob[[\"ID\", \"Name\", \"City\", \"Health Institution ID\"]]\n",
    "\n",
    "#Users\n",
    "df_user = df_user[[\"ID\",\"Laboratory ID\", \"Operating Block ID\", \"Surgeon\"]]"
   ]
  },
  {
   "cell_type": "code",
   "execution_count": null,
   "metadata": {
    "ExecuteTime": {
     "end_time": "2020-07-30T08:09:05.745237Z",
     "start_time": "2020-07-30T08:09:05.719339Z"
    },
    "scrolled": true
   },
   "outputs": [],
   "source": [
    "df_ob.head(3)"
   ]
  },
  {
   "cell_type": "code",
   "execution_count": null,
   "metadata": {
    "ExecuteTime": {
     "end_time": "2020-07-30T08:09:05.822004Z",
     "start_time": "2020-07-30T08:09:05.751054Z"
    }
   },
   "outputs": [],
   "source": [
    "df = df.merge(df_lab, left_on=\"Chosen Laboratory ID\", right_on=\"ID\")\n",
    "df = df.rename(columns={'ID_x': 'ID_rq', 'ID_y': 'ID_lab',\"Name\":\"Name_labo\"})\n",
    "df.head(4)"
   ]
  },
  {
   "cell_type": "markdown",
   "metadata": {},
   "source": [
    "### Merging"
   ]
  },
  {
   "cell_type": "code",
   "execution_count": null,
   "metadata": {
    "ExecuteTime": {
     "end_time": "2020-07-30T08:09:06.384214Z",
     "start_time": "2020-07-30T08:09:05.827374Z"
    }
   },
   "outputs": [],
   "source": [
    "#Labos \n",
    "df = df.merge(df_lab, left_on=\"Chosen Laboratory ID\", right_on=\"ID\")\n",
    "df = df.rename(columns={'ID_x': 'ID_rq', 'ID_y': 'ID_lab'})\n",
    "\n",
    "#Users\n",
    "df = df.merge(df_user, left_on=\"Operating Block User ID\", right_on=\"ID\")\n",
    "df = df.rename(columns={'ID': 'ID_user'})\n",
    "\n",
    "#OpeBlock\n",
    "df = df.merge(df_ob, left_on=\"Operating Block ID\", right_on=\"ID\")\n",
    "df = df.rename(columns={'Name_x': 'Name_lab',\n",
    "                        'Name_y': 'Name_ob', 'ID': 'ID_ob'})\n",
    "\n",
    "#HI\n",
    "df = df.merge(df_hi, left_on=\"Health Institution ID\", right_on=\"ID\")\n",
    "df = df.rename(columns={'City_x': 'City_ob', 'Zip Code_x': 'Zip Code_ob',\n",
    "                        'City_y': 'City_hi', 'Zip Code_y': 'Zip Code_hi',\n",
    "                        'Name': 'Name_hi', 'ID': 'ID_hi'})\n"
   ]
  },
  {
   "cell_type": "code",
   "execution_count": null,
   "metadata": {
    "ExecuteTime": {
     "end_time": "2020-07-30T08:09:06.418738Z",
     "start_time": "2020-07-30T08:09:06.386924Z"
    },
    "scrolled": true
   },
   "outputs": [],
   "source": [
    "df.head(3)"
   ]
  },
  {
   "cell_type": "code",
   "execution_count": null,
   "metadata": {
    "ExecuteTime": {
     "end_time": "2020-07-30T08:12:35.524827Z",
     "start_time": "2020-07-30T08:12:35.405986Z"
    },
    "scrolled": false
   },
   "outputs": [],
   "source": [
    "df_all = df.merge(df_operation, left_on = \"ID_rq\",right_on = \"Id_rq\")\n",
    "df_all.head(2)"
   ]
  },
  {
   "cell_type": "code",
   "execution_count": null,
   "metadata": {
    "ExecuteTime": {
     "end_time": "2020-07-30T08:12:52.155630Z",
     "start_time": "2020-07-30T08:12:52.111111Z"
    }
   },
   "outputs": [],
   "source": [
    "df_all = df_all[df_all[\"Name_lab\"] != \"TEST\"]\n",
    "df_all.head(3)"
   ]
  },
  {
   "cell_type": "markdown",
   "metadata": {},
   "source": [
    "# HiMatGeo.csv\n",
    "ID_rq, Name_hi, City_hi, Zip Code, Material, SegmentAnat"
   ]
  },
  {
   "cell_type": "markdown",
   "metadata": {},
   "source": [
    "### `df_HiMat` =>> df HI & material "
   ]
  },
  {
   "cell_type": "code",
   "execution_count": null,
   "metadata": {
    "ExecuteTime": {
     "end_time": "2020-07-30T08:13:21.188279Z",
     "start_time": "2020-07-30T08:13:21.043349Z"
    },
    "scrolled": true
   },
   "outputs": [],
   "source": [
    "df_HiMat = df_all [[\"ID_rq\",\"Name_hi\",\"City_hi\",\"Zip Code\",\"Material\",\"SegmentAnat\"]]\n",
    "df_HiMat.sample(5)"
   ]
  },
  {
   "cell_type": "code",
   "execution_count": null,
   "metadata": {
    "ExecuteTime": {
     "end_time": "2020-07-30T08:15:12.338467Z",
     "start_time": "2020-07-30T08:15:12.313755Z"
    }
   },
   "outputs": [],
   "source": [
    "df_HiMat = df_HiMat [df_HiMat[\"Name_hi\"] != \"Centre hospitalier du Pélican\"]\n",
    "df_HiMat.sample(3)"
   ]
  },
  {
   "cell_type": "code",
   "execution_count": null,
   "metadata": {
    "ExecuteTime": {
     "end_time": "2020-07-30T08:17:32.201554Z",
     "start_time": "2020-07-30T08:17:32.020514Z"
    }
   },
   "outputs": [],
   "source": [
    "df_HiMat.to_csv(path_output+\"HiMatGeo.csv\")"
   ]
  },
  {
   "cell_type": "markdown",
   "metadata": {},
   "source": [
    "# MaterialByHi.csv"
   ]
  },
  {
   "cell_type": "code",
   "execution_count": null,
   "metadata": {
    "ExecuteTime": {
     "end_time": "2020-07-30T08:16:20.354027Z",
     "start_time": "2020-07-30T08:16:20.292096Z"
    },
    "scrolled": true
   },
   "outputs": [],
   "source": [
    "df_materialbyHIBIS = df_HiMat.groupby([\"Material\",\"Name_hi\"])[\"ID_rq\"].count().sort_values(ascending=False).to_frame()\n",
    "df_materialbyHIBIS"
   ]
  },
  {
   "cell_type": "code",
   "execution_count": null,
   "metadata": {
    "ExecuteTime": {
     "end_time": "2020-07-30T08:10:04.041214Z",
     "start_time": "2020-07-30T08:10:03.978Z"
    }
   },
   "outputs": [],
   "source": [
    "df_merge = df_HiMat.merge(df_materialbyHIBIS, on = \"Name_hi\")\n",
    "df_merge.head()"
   ]
  },
  {
   "cell_type": "code",
   "execution_count": null,
   "metadata": {
    "ExecuteTime": {
     "end_time": "2020-07-30T08:10:04.034231Z",
     "start_time": "2020-07-30T08:10:03.963Z"
    }
   },
   "outputs": [],
   "source": [
    "df_materialbyHIBIS.to_csv(path_output+\"MaterialByHi.csv\")"
   ]
  },
  {
   "cell_type": "markdown",
   "metadata": {},
   "source": [
    "### Nb requetes par ES : "
   ]
  },
  {
   "cell_type": "code",
   "execution_count": null,
   "metadata": {
    "ExecuteTime": {
     "end_time": "2020-07-30T08:10:04.045147Z",
     "start_time": "2020-07-30T08:10:03.988Z"
    },
    "scrolled": true
   },
   "outputs": [],
   "source": [
    "df_RqbyHI = df_HiMat.groupby('Name_hi')[\"ID_rq\"].count().sort_values(ascending=False).to_frame()\n",
    "df_RqbyHI.head()"
   ]
  },
  {
   "cell_type": "code",
   "execution_count": null,
   "metadata": {},
   "outputs": [],
   "source": []
  },
  {
   "cell_type": "code",
   "execution_count": null,
   "metadata": {},
   "outputs": [],
   "source": []
  }
 ],
 "metadata": {
  "hide_input": false,
  "kernelspec": {
   "display_name": "Python 3",
   "language": "python",
   "name": "python3"
  },
  "language_info": {
   "codemirror_mode": {
    "name": "ipython",
    "version": 3
   },
   "file_extension": ".py",
   "mimetype": "text/x-python",
   "name": "python",
   "nbconvert_exporter": "python",
   "pygments_lexer": "ipython3",
   "version": "3.7.4"
  },
  "toc": {
   "base_numbering": 1,
   "nav_menu": {},
   "number_sections": true,
   "sideBar": true,
   "skip_h1_title": false,
   "title_cell": "Table of Contents",
   "title_sidebar": "Contents",
   "toc_cell": false,
   "toc_position": {},
   "toc_section_display": true,
   "toc_window_display": false
  },
  "varInspector": {
   "cols": {
    "lenName": 16,
    "lenType": 16,
    "lenVar": 40
   },
   "kernels_config": {
    "python": {
     "delete_cmd_postfix": "",
     "delete_cmd_prefix": "del ",
     "library": "var_list.py",
     "varRefreshCmd": "print(var_dic_list())"
    },
    "r": {
     "delete_cmd_postfix": ") ",
     "delete_cmd_prefix": "rm(",
     "library": "var_list.r",
     "varRefreshCmd": "cat(var_dic_list()) "
    }
   },
   "types_to_exclude": [
    "module",
    "function",
    "builtin_function_or_method",
    "instance",
    "_Feature"
   ],
   "window_display": false
  }
 },
 "nbformat": 4,
 "nbformat_minor": 4
}
