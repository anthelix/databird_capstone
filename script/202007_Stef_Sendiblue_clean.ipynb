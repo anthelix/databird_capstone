{
 "cells": [
  {
   "cell_type": "markdown",
   "metadata": {
    "toc": true
   },
   "source": [
    "<h1>Table of Contents<span class=\"tocSkip\"></span></h1>\n",
    "<div class=\"toc\"><ul class=\"toc-item\"><li><span><a href=\"#Exploration\" data-toc-modified-id=\"Exploration-1\"><span class=\"toc-item-num\">1&nbsp;&nbsp;</span>Exploration</a></span></li><li><span><a href=\"#Exploration-by-columns\" data-toc-modified-id=\"Exploration-by-columns-2\"><span class=\"toc-item-num\">2&nbsp;&nbsp;</span>Exploration by columns</a></span></li><li><span><a href=\"#data-prep\" data-toc-modified-id=\"data-prep-3\"><span class=\"toc-item-num\">3&nbsp;&nbsp;</span>data prep</a></span></li></ul></div>"
   ]
  },
  {
   "cell_type": "code",
   "execution_count": 2,
   "metadata": {},
   "outputs": [],
   "source": [
    "import pandas as pd\n",
    "import re\n",
    "# Display all the columns\n",
    "pd.set_option('display.max_columns', None)\n",
    "path_input='./../data/data_raw/'\n",
    "path_output='./../data/data_created/' "
   ]
  },
  {
   "cell_type": "code",
   "execution_count": 3,
   "metadata": {},
   "outputs": [],
   "source": [
    "#lod file\n",
    "df_mail = pd.read_csv(path_input+'Sendiblue_logs-2016-07-15_2020-07-21.csv')"
   ]
  },
  {
   "cell_type": "markdown",
   "metadata": {},
   "source": [
    "## Exploration\n"
   ]
  },
  {
   "cell_type": "code",
   "execution_count": 4,
   "metadata": {},
   "outputs": [
    {
     "data": {
      "text/plain": [
       "717869"
      ]
     },
     "execution_count": 4,
     "metadata": {},
     "output_type": "execute_result"
    }
   ],
   "source": [
    "len(df_mail)"
   ]
  },
  {
   "cell_type": "code",
   "execution_count": 5,
   "metadata": {},
   "outputs": [
    {
     "data": {
      "text/plain": [
       "(717869, 7)"
      ]
     },
     "execution_count": 5,
     "metadata": {},
     "output_type": "execute_result"
    }
   ],
   "source": [
    "df_mail.shape"
   ]
  },
  {
   "cell_type": "code",
   "execution_count": 6,
   "metadata": {},
   "outputs": [
    {
     "name": "stdout",
     "output_type": "stream",
     "text": [
      "<class 'pandas.core.frame.DataFrame'>\n",
      "RangeIndex: 717869 entries, 0 to 717868\n",
      "Data columns (total 7 columns):\n",
      "st_text    717869 non-null object\n",
      "ts         717869 non-null object\n",
      "sub        717869 non-null object\n",
      "frm        717869 non-null object\n",
      "email      717869 non-null object\n",
      "tag        717869 non-null object\n",
      "mid        717869 non-null object\n",
      "dtypes: object(7)\n",
      "memory usage: 38.3+ MB\n"
     ]
    }
   ],
   "source": [
    "df_mail.info()"
   ]
  },
  {
   "cell_type": "code",
   "execution_count": 7,
   "metadata": {},
   "outputs": [
    {
     "data": {
      "text/html": [
       "<div>\n",
       "<style scoped>\n",
       "    .dataframe tbody tr th:only-of-type {\n",
       "        vertical-align: middle;\n",
       "    }\n",
       "\n",
       "    .dataframe tbody tr th {\n",
       "        vertical-align: top;\n",
       "    }\n",
       "\n",
       "    .dataframe thead th {\n",
       "        text-align: right;\n",
       "    }\n",
       "</style>\n",
       "<table border=\"1\" class=\"dataframe\">\n",
       "  <thead>\n",
       "    <tr style=\"text-align: right;\">\n",
       "      <th></th>\n",
       "      <th>st_text</th>\n",
       "      <th>ts</th>\n",
       "      <th>sub</th>\n",
       "      <th>frm</th>\n",
       "      <th>email</th>\n",
       "      <th>tag</th>\n",
       "      <th>mid</th>\n",
       "    </tr>\n",
       "  </thead>\n",
       "  <tbody>\n",
       "    <tr>\n",
       "      <td>0</td>\n",
       "      <td>Ouvert</td>\n",
       "      <td>21-07-2020 12:03:35</td>\n",
       "      <td>Demande de prêt : A36518</td>\n",
       "      <td>contact@arsenalchirurgical.com</td>\n",
       "      <td>sergedmt@gmail.com</td>\n",
       "      <td>Aucun</td>\n",
       "      <td>&lt;c3f187d347a17cafe825615c8054ecfa@app.arsenalc...</td>\n",
       "    </tr>\n",
       "    <tr>\n",
       "      <td>1</td>\n",
       "      <td>Ouvert</td>\n",
       "      <td>21-07-2020 12:01:11</td>\n",
       "      <td>A35996 : Nouvelle demande</td>\n",
       "      <td>contact@arsenalchirurgical.com</td>\n",
       "      <td>advortho@serf.fr</td>\n",
       "      <td>Aucun</td>\n",
       "      <td>&lt;9d4d67a01cd9f7d3433b664baa2c0cd6@app.arsenalc...</td>\n",
       "    </tr>\n",
       "  </tbody>\n",
       "</table>\n",
       "</div>"
      ],
      "text/plain": [
       "  st_text                   ts                        sub  \\\n",
       "0  Ouvert  21-07-2020 12:03:35   Demande de prêt : A36518   \n",
       "1  Ouvert  21-07-2020 12:01:11  A35996 : Nouvelle demande   \n",
       "\n",
       "                              frm               email    tag  \\\n",
       "0  contact@arsenalchirurgical.com  sergedmt@gmail.com  Aucun   \n",
       "1  contact@arsenalchirurgical.com    advortho@serf.fr  Aucun   \n",
       "\n",
       "                                                 mid  \n",
       "0  <c3f187d347a17cafe825615c8054ecfa@app.arsenalc...  \n",
       "1  <9d4d67a01cd9f7d3433b664baa2c0cd6@app.arsenalc...  "
      ]
     },
     "execution_count": 7,
     "metadata": {},
     "output_type": "execute_result"
    }
   ],
   "source": [
    "df_mail.head(2)"
   ]
  },
  {
   "cell_type": "code",
   "execution_count": 8,
   "metadata": {},
   "outputs": [
    {
     "data": {
      "text/plain": [
       "st_text        12\n",
       "ts         399927\n",
       "sub         73481\n",
       "frm             5\n",
       "email        1405\n",
       "tag             1\n",
       "mid         90969\n",
       "dtype: int64"
      ]
     },
     "metadata": {},
     "output_type": "display_data"
    },
    {
     "data": {
      "text/plain": [
       "717869"
      ]
     },
     "metadata": {},
     "output_type": "display_data"
    }
   ],
   "source": [
    "display(df_mail.nunique())\n",
    "display(len(df_mail))"
   ]
  },
  {
   "cell_type": "markdown",
   "metadata": {},
   "source": [
    "## Exploration by columns"
   ]
  },
  {
   "cell_type": "code",
   "execution_count": 10,
   "metadata": {},
   "outputs": [],
   "source": [
    "dfDrop = df_mail.copy().drop_duplicates()"
   ]
  },
  {
   "cell_type": "code",
   "execution_count": 11,
   "metadata": {},
   "outputs": [
    {
     "data": {
      "text/plain": [
       "st_text        12\n",
       "ts         399927\n",
       "sub         73481\n",
       "frm             5\n",
       "email        1405\n",
       "tag             1\n",
       "mid         90969\n",
       "dtype: int64"
      ]
     },
     "metadata": {},
     "output_type": "display_data"
    },
    {
     "data": {
      "text/plain": [
       "701751"
      ]
     },
     "metadata": {},
     "output_type": "display_data"
    }
   ],
   "source": [
    "display(dfDrop.nunique())\n",
    "display(len(dfDrop))"
   ]
  },
  {
   "cell_type": "code",
   "execution_count": 12,
   "metadata": {},
   "outputs": [
    {
     "data": {
      "text/html": [
       "<div>\n",
       "<style scoped>\n",
       "    .dataframe tbody tr th:only-of-type {\n",
       "        vertical-align: middle;\n",
       "    }\n",
       "\n",
       "    .dataframe tbody tr th {\n",
       "        vertical-align: top;\n",
       "    }\n",
       "\n",
       "    .dataframe thead th {\n",
       "        text-align: right;\n",
       "    }\n",
       "</style>\n",
       "<table border=\"1\" class=\"dataframe\">\n",
       "  <thead>\n",
       "    <tr style=\"text-align: right;\">\n",
       "      <th></th>\n",
       "      <th>st_text</th>\n",
       "      <th>ts</th>\n",
       "      <th>sub</th>\n",
       "      <th>frm</th>\n",
       "      <th>email</th>\n",
       "      <th>tag</th>\n",
       "      <th>mid</th>\n",
       "    </tr>\n",
       "  </thead>\n",
       "  <tbody>\n",
       "    <tr>\n",
       "      <td>44880</td>\n",
       "      <td>Hard bounce</td>\n",
       "      <td>30-06-2020 09:59:21</td>\n",
       "      <td>Demande de prêt : A35475</td>\n",
       "      <td>contact@arsenalchirurgical.com</td>\n",
       "      <td>fducher@atf-implants.com</td>\n",
       "      <td>Aucun</td>\n",
       "      <td>&lt;f9350079498fe49fa9539195e5891b40@app.arsenalc...</td>\n",
       "    </tr>\n",
       "    <tr>\n",
       "      <td>398442</td>\n",
       "      <td>Hard bounce</td>\n",
       "      <td>13-12-2019 15:08:50</td>\n",
       "      <td>[Arsenal Chirurgical] - Inscription sur notre ...</td>\n",
       "      <td>contact@arsenalchirurgical.com</td>\n",
       "      <td>moustafa.rkiba@sfr.fr</td>\n",
       "      <td>Aucun</td>\n",
       "      <td>&lt;f03cddcb83133b41fcdf3dd914a90804@app.arsenalc...</td>\n",
       "    </tr>\n",
       "    <tr>\n",
       "      <td>313028</td>\n",
       "      <td>Hard bounce</td>\n",
       "      <td>29-01-2020 11:29:02</td>\n",
       "      <td>[Arsenal Chirurgical] - Inscription sur notre ...</td>\n",
       "      <td>contact@arsenalchirurgical.com</td>\n",
       "      <td>laurent.boulard@louispasteursante.fr</td>\n",
       "      <td>Aucun</td>\n",
       "      <td>&lt;32a574705d05fcaafdf33429c9ca4af0@app.arsenalc...</td>\n",
       "    </tr>\n",
       "  </tbody>\n",
       "</table>\n",
       "</div>"
      ],
      "text/plain": [
       "            st_text                   ts  \\\n",
       "44880   Hard bounce  30-06-2020 09:59:21   \n",
       "398442  Hard bounce  13-12-2019 15:08:50   \n",
       "313028  Hard bounce  29-01-2020 11:29:02   \n",
       "\n",
       "                                                      sub  \\\n",
       "44880                            Demande de prêt : A35475   \n",
       "398442  [Arsenal Chirurgical] - Inscription sur notre ...   \n",
       "313028  [Arsenal Chirurgical] - Inscription sur notre ...   \n",
       "\n",
       "                                   frm                                 email  \\\n",
       "44880   contact@arsenalchirurgical.com              fducher@atf-implants.com   \n",
       "398442  contact@arsenalchirurgical.com                 moustafa.rkiba@sfr.fr   \n",
       "313028  contact@arsenalchirurgical.com  laurent.boulard@louispasteursante.fr   \n",
       "\n",
       "          tag                                                mid  \n",
       "44880   Aucun  <f9350079498fe49fa9539195e5891b40@app.arsenalc...  \n",
       "398442  Aucun  <f03cddcb83133b41fcdf3dd914a90804@app.arsenalc...  \n",
       "313028  Aucun  <32a574705d05fcaafdf33429c9ca4af0@app.arsenalc...  "
      ]
     },
     "execution_count": 12,
     "metadata": {},
     "output_type": "execute_result"
    }
   ],
   "source": [
    "dfDrop[dfDrop['st_text'] == 'Hard bounce'].sample(3)"
   ]
  },
  {
   "cell_type": "code",
   "execution_count": 13,
   "metadata": {},
   "outputs": [
    {
     "data": {
      "text/html": [
       "<div>\n",
       "<style scoped>\n",
       "    .dataframe tbody tr th:only-of-type {\n",
       "        vertical-align: middle;\n",
       "    }\n",
       "\n",
       "    .dataframe tbody tr th {\n",
       "        vertical-align: top;\n",
       "    }\n",
       "\n",
       "    .dataframe thead th {\n",
       "        text-align: right;\n",
       "    }\n",
       "</style>\n",
       "<table border=\"1\" class=\"dataframe\">\n",
       "  <thead>\n",
       "    <tr style=\"text-align: right;\">\n",
       "      <th></th>\n",
       "      <th>st_text</th>\n",
       "      <th>ts</th>\n",
       "      <th>sub</th>\n",
       "      <th>frm</th>\n",
       "      <th>email</th>\n",
       "      <th>tag</th>\n",
       "      <th>mid</th>\n",
       "    </tr>\n",
       "  </thead>\n",
       "  <tbody>\n",
       "    <tr>\n",
       "      <td>0</td>\n",
       "      <td>Ouvert</td>\n",
       "      <td>21-07-2020 12:03:35</td>\n",
       "      <td>Demande de prêt : A36518</td>\n",
       "      <td>contact@arsenalchirurgical.com</td>\n",
       "      <td>sergedmt@gmail.com</td>\n",
       "      <td>Aucun</td>\n",
       "      <td>&lt;c3f187d347a17cafe825615c8054ecfa@app.arsenalc...</td>\n",
       "    </tr>\n",
       "    <tr>\n",
       "      <td>1</td>\n",
       "      <td>Ouvert</td>\n",
       "      <td>21-07-2020 12:01:11</td>\n",
       "      <td>A35996 : Nouvelle demande</td>\n",
       "      <td>contact@arsenalchirurgical.com</td>\n",
       "      <td>advortho@serf.fr</td>\n",
       "      <td>Aucun</td>\n",
       "      <td>&lt;9d4d67a01cd9f7d3433b664baa2c0cd6@app.arsenalc...</td>\n",
       "    </tr>\n",
       "    <tr>\n",
       "      <td>2</td>\n",
       "      <td>1ère ouverture</td>\n",
       "      <td>21-07-2020 12:00:22</td>\n",
       "      <td>A34993 : prêt pour l'enlevement</td>\n",
       "      <td>contact@arsenalchirurgical.com</td>\n",
       "      <td>service.prets@stryker.com</td>\n",
       "      <td>Aucun</td>\n",
       "      <td>&lt;fcdf7d09432f62fd7e071f0f125ae93a@app.arsenalc...</td>\n",
       "    </tr>\n",
       "  </tbody>\n",
       "</table>\n",
       "</div>"
      ],
      "text/plain": [
       "          st_text                   ts                              sub  \\\n",
       "0          Ouvert  21-07-2020 12:03:35         Demande de prêt : A36518   \n",
       "1          Ouvert  21-07-2020 12:01:11        A35996 : Nouvelle demande   \n",
       "2  1ère ouverture  21-07-2020 12:00:22  A34993 : prêt pour l'enlevement   \n",
       "\n",
       "                              frm                      email    tag  \\\n",
       "0  contact@arsenalchirurgical.com         sergedmt@gmail.com  Aucun   \n",
       "1  contact@arsenalchirurgical.com           advortho@serf.fr  Aucun   \n",
       "2  contact@arsenalchirurgical.com  service.prets@stryker.com  Aucun   \n",
       "\n",
       "                                                 mid  \n",
       "0  <c3f187d347a17cafe825615c8054ecfa@app.arsenalc...  \n",
       "1  <9d4d67a01cd9f7d3433b664baa2c0cd6@app.arsenalc...  \n",
       "2  <fcdf7d09432f62fd7e071f0f125ae93a@app.arsenalc...  "
      ]
     },
     "execution_count": 13,
     "metadata": {},
     "output_type": "execute_result"
    }
   ],
   "source": [
    "dfDrop.head(3)"
   ]
  },
  {
   "cell_type": "code",
   "execution_count": 14,
   "metadata": {},
   "outputs": [
    {
     "data": {
      "text/plain": [
       "['Ouvert',\n",
       " '1ère ouverture',\n",
       " 'Délivré',\n",
       " 'Envoyé',\n",
       " 'Cliqué',\n",
       " 'Différé',\n",
       " 'Bloqué',\n",
       " 'Hard bounce',\n",
       " 'Soft bounce',\n",
       " 'Error',\n",
       " 'Désinscrit',\n",
       " 'Email invalide']"
      ]
     },
     "execution_count": 14,
     "metadata": {},
     "output_type": "execute_result"
    }
   ],
   "source": [
    "list(dfDrop['st_text'].unique())"
   ]
  },
  {
   "cell_type": "code",
   "execution_count": 15,
   "metadata": {},
   "outputs": [
    {
     "data": {
      "text/plain": [
       "['contact@arsenalchirurgical.com',\n",
       " 'arsenalrapport@medialeads.fr',\n",
       " 'Aucun',\n",
       " 'roxanne@arsenalchirurgical.com',\n",
       " 'arsenalrapport@europeansourcing.com']"
      ]
     },
     "execution_count": 15,
     "metadata": {},
     "output_type": "execute_result"
    }
   ],
   "source": [
    "list(dfDrop['frm'].unique())"
   ]
  },
  {
   "cell_type": "code",
   "execution_count": 16,
   "metadata": {},
   "outputs": [],
   "source": [
    "dfDrop['date'] = pd.to_datetime(dfDrop['ts'], format='%d-%m-%Y %H:%M:%S')"
   ]
  },
  {
   "cell_type": "code",
   "execution_count": 17,
   "metadata": {},
   "outputs": [
    {
     "data": {
      "text/html": [
       "<div>\n",
       "<style scoped>\n",
       "    .dataframe tbody tr th:only-of-type {\n",
       "        vertical-align: middle;\n",
       "    }\n",
       "\n",
       "    .dataframe tbody tr th {\n",
       "        vertical-align: top;\n",
       "    }\n",
       "\n",
       "    .dataframe thead th {\n",
       "        text-align: right;\n",
       "    }\n",
       "</style>\n",
       "<table border=\"1\" class=\"dataframe\">\n",
       "  <thead>\n",
       "    <tr style=\"text-align: right;\">\n",
       "      <th></th>\n",
       "      <th>st_text</th>\n",
       "      <th>ts</th>\n",
       "      <th>sub</th>\n",
       "      <th>frm</th>\n",
       "      <th>email</th>\n",
       "      <th>tag</th>\n",
       "      <th>mid</th>\n",
       "      <th>date</th>\n",
       "    </tr>\n",
       "  </thead>\n",
       "  <tbody>\n",
       "    <tr>\n",
       "      <td>0</td>\n",
       "      <td>Ouvert</td>\n",
       "      <td>21-07-2020 12:03:35</td>\n",
       "      <td>Demande de prêt : A36518</td>\n",
       "      <td>contact@arsenalchirurgical.com</td>\n",
       "      <td>sergedmt@gmail.com</td>\n",
       "      <td>Aucun</td>\n",
       "      <td>&lt;c3f187d347a17cafe825615c8054ecfa@app.arsenalc...</td>\n",
       "      <td>2020-07-21 12:03:35</td>\n",
       "    </tr>\n",
       "    <tr>\n",
       "      <td>1</td>\n",
       "      <td>Ouvert</td>\n",
       "      <td>21-07-2020 12:01:11</td>\n",
       "      <td>A35996 : Nouvelle demande</td>\n",
       "      <td>contact@arsenalchirurgical.com</td>\n",
       "      <td>advortho@serf.fr</td>\n",
       "      <td>Aucun</td>\n",
       "      <td>&lt;9d4d67a01cd9f7d3433b664baa2c0cd6@app.arsenalc...</td>\n",
       "      <td>2020-07-21 12:01:11</td>\n",
       "    </tr>\n",
       "    <tr>\n",
       "      <td>2</td>\n",
       "      <td>1ère ouverture</td>\n",
       "      <td>21-07-2020 12:00:22</td>\n",
       "      <td>A34993 : prêt pour l'enlevement</td>\n",
       "      <td>contact@arsenalchirurgical.com</td>\n",
       "      <td>service.prets@stryker.com</td>\n",
       "      <td>Aucun</td>\n",
       "      <td>&lt;fcdf7d09432f62fd7e071f0f125ae93a@app.arsenalc...</td>\n",
       "      <td>2020-07-21 12:00:22</td>\n",
       "    </tr>\n",
       "    <tr>\n",
       "      <td>3</td>\n",
       "      <td>Ouvert</td>\n",
       "      <td>21-07-2020 12:00:17</td>\n",
       "      <td>Demande de prêt : A36518</td>\n",
       "      <td>contact@arsenalchirurgical.com</td>\n",
       "      <td>sergedmt@gmail.com</td>\n",
       "      <td>Aucun</td>\n",
       "      <td>&lt;c3f187d347a17cafe825615c8054ecfa@app.arsenalc...</td>\n",
       "      <td>2020-07-21 12:00:17</td>\n",
       "    </tr>\n",
       "    <tr>\n",
       "      <td>4</td>\n",
       "      <td>Ouvert</td>\n",
       "      <td>21-07-2020 12:00:04</td>\n",
       "      <td>Demande de prêt : A36518</td>\n",
       "      <td>contact@arsenalchirurgical.com</td>\n",
       "      <td>sergedmt@gmail.com</td>\n",
       "      <td>Aucun</td>\n",
       "      <td>&lt;c3f187d347a17cafe825615c8054ecfa@app.arsenalc...</td>\n",
       "      <td>2020-07-21 12:00:04</td>\n",
       "    </tr>\n",
       "  </tbody>\n",
       "</table>\n",
       "</div>"
      ],
      "text/plain": [
       "          st_text                   ts                              sub  \\\n",
       "0          Ouvert  21-07-2020 12:03:35         Demande de prêt : A36518   \n",
       "1          Ouvert  21-07-2020 12:01:11        A35996 : Nouvelle demande   \n",
       "2  1ère ouverture  21-07-2020 12:00:22  A34993 : prêt pour l'enlevement   \n",
       "3          Ouvert  21-07-2020 12:00:17         Demande de prêt : A36518   \n",
       "4          Ouvert  21-07-2020 12:00:04         Demande de prêt : A36518   \n",
       "\n",
       "                              frm                      email    tag  \\\n",
       "0  contact@arsenalchirurgical.com         sergedmt@gmail.com  Aucun   \n",
       "1  contact@arsenalchirurgical.com           advortho@serf.fr  Aucun   \n",
       "2  contact@arsenalchirurgical.com  service.prets@stryker.com  Aucun   \n",
       "3  contact@arsenalchirurgical.com         sergedmt@gmail.com  Aucun   \n",
       "4  contact@arsenalchirurgical.com         sergedmt@gmail.com  Aucun   \n",
       "\n",
       "                                                 mid                date  \n",
       "0  <c3f187d347a17cafe825615c8054ecfa@app.arsenalc... 2020-07-21 12:03:35  \n",
       "1  <9d4d67a01cd9f7d3433b664baa2c0cd6@app.arsenalc... 2020-07-21 12:01:11  \n",
       "2  <fcdf7d09432f62fd7e071f0f125ae93a@app.arsenalc... 2020-07-21 12:00:22  \n",
       "3  <c3f187d347a17cafe825615c8054ecfa@app.arsenalc... 2020-07-21 12:00:17  \n",
       "4  <c3f187d347a17cafe825615c8054ecfa@app.arsenalc... 2020-07-21 12:00:04  "
      ]
     },
     "execution_count": 17,
     "metadata": {},
     "output_type": "execute_result"
    }
   ],
   "source": [
    "dfDrop.head()"
   ]
  },
  {
   "cell_type": "code",
   "execution_count": 18,
   "metadata": {},
   "outputs": [],
   "source": [
    "df_error = dfDrop[dfDrop['st_text'] == 'Error']"
   ]
  },
  {
   "cell_type": "code",
   "execution_count": null,
   "metadata": {},
   "outputs": [],
   "source": []
  },
  {
   "cell_type": "code",
   "execution_count": 19,
   "metadata": {},
   "outputs": [
    {
     "data": {
      "text/plain": [
       "50186"
      ]
     },
     "execution_count": 19,
     "metadata": {},
     "output_type": "execute_result"
    }
   ],
   "source": [
    "len(dfDrop[dfDrop['email'] == 'thomas@medialeads.fr'])"
   ]
  },
  {
   "cell_type": "code",
   "execution_count": 20,
   "metadata": {},
   "outputs": [
    {
     "data": {
      "text/plain": [
       "28"
      ]
     },
     "execution_count": 20,
     "metadata": {},
     "output_type": "execute_result"
    }
   ],
   "source": [
    "len(df_error[df_error['email'] == 'thomas@medialeads.fr'])"
   ]
  },
  {
   "cell_type": "code",
   "execution_count": 21,
   "metadata": {},
   "outputs": [
    {
     "data": {
      "text/plain": [
       "st_text        12\n",
       "ts         399927\n",
       "sub         73481\n",
       "frm             5\n",
       "email        1405\n",
       "tag             1\n",
       "mid         90969\n",
       "date       399927\n",
       "dtype: int64"
      ]
     },
     "metadata": {},
     "output_type": "display_data"
    },
    {
     "data": {
      "text/html": [
       "<div>\n",
       "<style scoped>\n",
       "    .dataframe tbody tr th:only-of-type {\n",
       "        vertical-align: middle;\n",
       "    }\n",
       "\n",
       "    .dataframe tbody tr th {\n",
       "        vertical-align: top;\n",
       "    }\n",
       "\n",
       "    .dataframe thead th {\n",
       "        text-align: right;\n",
       "    }\n",
       "</style>\n",
       "<table border=\"1\" class=\"dataframe\">\n",
       "  <thead>\n",
       "    <tr style=\"text-align: right;\">\n",
       "      <th></th>\n",
       "      <th>st_text</th>\n",
       "      <th>ts</th>\n",
       "      <th>sub</th>\n",
       "      <th>frm</th>\n",
       "      <th>email</th>\n",
       "      <th>tag</th>\n",
       "      <th>mid</th>\n",
       "      <th>date</th>\n",
       "    </tr>\n",
       "  </thead>\n",
       "  <tbody>\n",
       "    <tr>\n",
       "      <td>109224</td>\n",
       "      <td>Délivré</td>\n",
       "      <td>04-06-2020 15:05:24</td>\n",
       "      <td>Votre demande A34054 - Confirmation de réserva...</td>\n",
       "      <td>contact@arsenalchirurgical.com</td>\n",
       "      <td>pph24@chu-reims.fr</td>\n",
       "      <td>Aucun</td>\n",
       "      <td>&lt;30f802c743ca3e3bac2a32790df28820@app.arsenalc...</td>\n",
       "      <td>2020-06-04 15:05:24</td>\n",
       "    </tr>\n",
       "    <tr>\n",
       "      <td>342934</td>\n",
       "      <td>Ouvert</td>\n",
       "      <td>15-01-2020 10:10:37</td>\n",
       "      <td>Demande de prêt : A28947</td>\n",
       "      <td>contact@arsenalchirurgical.com</td>\n",
       "      <td>agroll@its.jnj.com</td>\n",
       "      <td>Aucun</td>\n",
       "      <td>&lt;3aa83256575838ef798ea36bc31f8fc6@app.arsenalc...</td>\n",
       "      <td>2020-01-15 10:10:37</td>\n",
       "    </tr>\n",
       "    <tr>\n",
       "      <td>556673</td>\n",
       "      <td>Délivré</td>\n",
       "      <td>16-09-2019 16:54:18</td>\n",
       "      <td>Votre demande A23449 : réponse positive</td>\n",
       "      <td>contact@arsenalchirurgical.com</td>\n",
       "      <td>cdp-secretaires-bloc@cliniqueduparclyon.com</td>\n",
       "      <td>Aucun</td>\n",
       "      <td>&lt;1afa8be919d3363132302399d8d894dc@app.arsenalc...</td>\n",
       "      <td>2019-09-16 16:54:18</td>\n",
       "    </tr>\n",
       "  </tbody>\n",
       "</table>\n",
       "</div>"
      ],
      "text/plain": [
       "        st_text                   ts  \\\n",
       "109224  Délivré  04-06-2020 15:05:24   \n",
       "342934   Ouvert  15-01-2020 10:10:37   \n",
       "556673  Délivré  16-09-2019 16:54:18   \n",
       "\n",
       "                                                      sub  \\\n",
       "109224  Votre demande A34054 - Confirmation de réserva...   \n",
       "342934                           Demande de prêt : A28947   \n",
       "556673            Votre demande A23449 : réponse positive   \n",
       "\n",
       "                                   frm  \\\n",
       "109224  contact@arsenalchirurgical.com   \n",
       "342934  contact@arsenalchirurgical.com   \n",
       "556673  contact@arsenalchirurgical.com   \n",
       "\n",
       "                                              email    tag  \\\n",
       "109224                           pph24@chu-reims.fr  Aucun   \n",
       "342934                           agroll@its.jnj.com  Aucun   \n",
       "556673  cdp-secretaires-bloc@cliniqueduparclyon.com  Aucun   \n",
       "\n",
       "                                                      mid                date  \n",
       "109224  <30f802c743ca3e3bac2a32790df28820@app.arsenalc... 2020-06-04 15:05:24  \n",
       "342934  <3aa83256575838ef798ea36bc31f8fc6@app.arsenalc... 2020-01-15 10:10:37  \n",
       "556673  <1afa8be919d3363132302399d8d894dc@app.arsenalc... 2019-09-16 16:54:18  "
      ]
     },
     "metadata": {},
     "output_type": "display_data"
    },
    {
     "name": "stdout",
     "output_type": "stream",
     "text": [
      "<class 'pandas.core.frame.DataFrame'>\n",
      "Int64Index: 701751 entries, 0 to 717868\n",
      "Data columns (total 8 columns):\n",
      "st_text    701751 non-null object\n",
      "ts         701751 non-null object\n",
      "sub        701751 non-null object\n",
      "frm        701751 non-null object\n",
      "email      701751 non-null object\n",
      "tag        701751 non-null object\n",
      "mid        701751 non-null object\n",
      "date       701751 non-null datetime64[ns]\n",
      "dtypes: datetime64[ns](1), object(7)\n",
      "memory usage: 48.2+ MB\n"
     ]
    },
    {
     "data": {
      "text/plain": [
       "None"
      ]
     },
     "metadata": {},
     "output_type": "display_data"
    },
    {
     "data": {
      "text/plain": [
       "Timestamp('2019-05-17 15:26:55')"
      ]
     },
     "metadata": {},
     "output_type": "display_data"
    },
    {
     "data": {
      "text/plain": [
       "Timestamp('2020-07-21 12:03:35')"
      ]
     },
     "metadata": {},
     "output_type": "display_data"
    }
   ],
   "source": [
    "display(dfDrop.nunique())\n",
    "display(dfDrop.sample(3))\n",
    "display(dfDrop.info())\n",
    "display(dfDrop['date'].min())\n",
    "display(dfDrop['date'].max())"
   ]
  },
  {
   "cell_type": "code",
   "execution_count": 22,
   "metadata": {},
   "outputs": [
    {
     "data": {
      "text/plain": [
       "Envoyé            215887\n",
       "Délivré           215362\n",
       "Ouvert            188791\n",
       "1ère ouverture     60699\n",
       "Cliqué             18388\n",
       "Soft bounce         1235\n",
       "Différé             1037\n",
       "Bloqué               235\n",
       "Hard bounce           78\n",
       "Error                 28\n",
       "Email invalide         7\n",
       "Désinscrit             4\n",
       "Name: st_text, dtype: int64"
      ]
     },
     "execution_count": 22,
     "metadata": {},
     "output_type": "execute_result"
    }
   ],
   "source": [
    "dfDrop['st_text'].value_counts()"
   ]
  },
  {
   "cell_type": "code",
   "execution_count": 23,
   "metadata": {},
   "outputs": [
    {
     "data": {
      "text/html": [
       "<div>\n",
       "<style scoped>\n",
       "    .dataframe tbody tr th:only-of-type {\n",
       "        vertical-align: middle;\n",
       "    }\n",
       "\n",
       "    .dataframe tbody tr th {\n",
       "        vertical-align: top;\n",
       "    }\n",
       "\n",
       "    .dataframe thead th {\n",
       "        text-align: right;\n",
       "    }\n",
       "</style>\n",
       "<table border=\"1\" class=\"dataframe\">\n",
       "  <thead>\n",
       "    <tr style=\"text-align: right;\">\n",
       "      <th></th>\n",
       "      <th>st_text</th>\n",
       "      <th>ts</th>\n",
       "      <th>sub</th>\n",
       "      <th>frm</th>\n",
       "      <th>email</th>\n",
       "      <th>tag</th>\n",
       "      <th>mid</th>\n",
       "      <th>date</th>\n",
       "    </tr>\n",
       "  </thead>\n",
       "  <tbody>\n",
       "    <tr>\n",
       "      <td>0</td>\n",
       "      <td>Ouvert</td>\n",
       "      <td>21-07-2020 12:03:35</td>\n",
       "      <td>Demande de prêt : A36518</td>\n",
       "      <td>contact@arsenalchirurgical.com</td>\n",
       "      <td>sergedmt@gmail.com</td>\n",
       "      <td>Aucun</td>\n",
       "      <td>&lt;c3f187d347a17cafe825615c8054ecfa@app.arsenalc...</td>\n",
       "      <td>2020-07-21 12:03:35</td>\n",
       "    </tr>\n",
       "    <tr>\n",
       "      <td>1</td>\n",
       "      <td>Ouvert</td>\n",
       "      <td>21-07-2020 12:01:11</td>\n",
       "      <td>A35996 : Nouvelle demande</td>\n",
       "      <td>contact@arsenalchirurgical.com</td>\n",
       "      <td>advortho@serf.fr</td>\n",
       "      <td>Aucun</td>\n",
       "      <td>&lt;9d4d67a01cd9f7d3433b664baa2c0cd6@app.arsenalc...</td>\n",
       "      <td>2020-07-21 12:01:11</td>\n",
       "    </tr>\n",
       "    <tr>\n",
       "      <td>3</td>\n",
       "      <td>Ouvert</td>\n",
       "      <td>21-07-2020 12:00:17</td>\n",
       "      <td>Demande de prêt : A36518</td>\n",
       "      <td>contact@arsenalchirurgical.com</td>\n",
       "      <td>sergedmt@gmail.com</td>\n",
       "      <td>Aucun</td>\n",
       "      <td>&lt;c3f187d347a17cafe825615c8054ecfa@app.arsenalc...</td>\n",
       "      <td>2020-07-21 12:00:17</td>\n",
       "    </tr>\n",
       "    <tr>\n",
       "      <td>4</td>\n",
       "      <td>Ouvert</td>\n",
       "      <td>21-07-2020 12:00:04</td>\n",
       "      <td>Demande de prêt : A36518</td>\n",
       "      <td>contact@arsenalchirurgical.com</td>\n",
       "      <td>sergedmt@gmail.com</td>\n",
       "      <td>Aucun</td>\n",
       "      <td>&lt;c3f187d347a17cafe825615c8054ecfa@app.arsenalc...</td>\n",
       "      <td>2020-07-21 12:00:04</td>\n",
       "    </tr>\n",
       "    <tr>\n",
       "      <td>5</td>\n",
       "      <td>Ouvert</td>\n",
       "      <td>21-07-2020 11:59:51</td>\n",
       "      <td>Demande de prêt : A36518</td>\n",
       "      <td>contact@arsenalchirurgical.com</td>\n",
       "      <td>sergedmt@gmail.com</td>\n",
       "      <td>Aucun</td>\n",
       "      <td>&lt;c3f187d347a17cafe825615c8054ecfa@app.arsenalc...</td>\n",
       "      <td>2020-07-21 11:59:51</td>\n",
       "    </tr>\n",
       "    <tr>\n",
       "      <td>...</td>\n",
       "      <td>...</td>\n",
       "      <td>...</td>\n",
       "      <td>...</td>\n",
       "      <td>...</td>\n",
       "      <td>...</td>\n",
       "      <td>...</td>\n",
       "      <td>...</td>\n",
       "      <td>...</td>\n",
       "    </tr>\n",
       "    <tr>\n",
       "      <td>717792</td>\n",
       "      <td>Ouvert</td>\n",
       "      <td>20-05-2019 09:38:01</td>\n",
       "      <td>A19063 : Nouvelle demande</td>\n",
       "      <td>contact@arsenalchirurgical.com</td>\n",
       "      <td>servicecommercialfrance@amplitude-ortho.com</td>\n",
       "      <td>Aucun</td>\n",
       "      <td>&lt;d3a45d5c034cb9621d88099f17eb7152@app.arsenalc...</td>\n",
       "      <td>2019-05-20 09:38:01</td>\n",
       "    </tr>\n",
       "    <tr>\n",
       "      <td>717802</td>\n",
       "      <td>Ouvert</td>\n",
       "      <td>20-05-2019 09:35:19</td>\n",
       "      <td>Votre demande A19063 a bien été prise en compte</td>\n",
       "      <td>contact@arsenalchirurgical.com</td>\n",
       "      <td>magasinbloc.clp@gmail.com</td>\n",
       "      <td>Aucun</td>\n",
       "      <td>&lt;a37fc9bba76a43a6b5ba7f5b4605e582@app.arsenalc...</td>\n",
       "      <td>2019-05-20 09:35:19</td>\n",
       "    </tr>\n",
       "    <tr>\n",
       "      <td>717806</td>\n",
       "      <td>Ouvert</td>\n",
       "      <td>20-05-2019 09:35:17</td>\n",
       "      <td>Votre demande A19062 a bien été prise en compte</td>\n",
       "      <td>contact@arsenalchirurgical.com</td>\n",
       "      <td>magasinbloc.clp@gmail.com</td>\n",
       "      <td>Aucun</td>\n",
       "      <td>&lt;392469fa1a8adccd92d8af4e01e55768@app.arsenalc...</td>\n",
       "      <td>2019-05-20 09:35:17</td>\n",
       "    </tr>\n",
       "    <tr>\n",
       "      <td>717853</td>\n",
       "      <td>Ouvert</td>\n",
       "      <td>17-05-2019 17:59:55</td>\n",
       "      <td>[Arsenal Chirurgical] - Inscription sur notre ...</td>\n",
       "      <td>contact@arsenalchirurgical.com</td>\n",
       "      <td>copyresa@free.fr</td>\n",
       "      <td>Aucun</td>\n",
       "      <td>&lt;500b97d5b321e79b990bb73fb497882a@arsenal.medi...</td>\n",
       "      <td>2019-05-17 17:59:55</td>\n",
       "    </tr>\n",
       "    <tr>\n",
       "      <td>717865</td>\n",
       "      <td>Ouvert</td>\n",
       "      <td>17-05-2019 15:26:57</td>\n",
       "      <td>An Error Occurred! Failed to create object: Dw...</td>\n",
       "      <td>arsenalrapport@europeansourcing.com</td>\n",
       "      <td>christopher.rochadias@europeansourcing.com</td>\n",
       "      <td>Aucun</td>\n",
       "      <td>&lt;7c2eee2f5b3e4643c7daff151ad2dc52@arsenal.medi...</td>\n",
       "      <td>2019-05-17 15:26:57</td>\n",
       "    </tr>\n",
       "  </tbody>\n",
       "</table>\n",
       "<p>188791 rows × 8 columns</p>\n",
       "</div>"
      ],
      "text/plain": [
       "       st_text                   ts  \\\n",
       "0       Ouvert  21-07-2020 12:03:35   \n",
       "1       Ouvert  21-07-2020 12:01:11   \n",
       "3       Ouvert  21-07-2020 12:00:17   \n",
       "4       Ouvert  21-07-2020 12:00:04   \n",
       "5       Ouvert  21-07-2020 11:59:51   \n",
       "...        ...                  ...   \n",
       "717792  Ouvert  20-05-2019 09:38:01   \n",
       "717802  Ouvert  20-05-2019 09:35:19   \n",
       "717806  Ouvert  20-05-2019 09:35:17   \n",
       "717853  Ouvert  17-05-2019 17:59:55   \n",
       "717865  Ouvert  17-05-2019 15:26:57   \n",
       "\n",
       "                                                      sub  \\\n",
       "0                                Demande de prêt : A36518   \n",
       "1                               A35996 : Nouvelle demande   \n",
       "3                                Demande de prêt : A36518   \n",
       "4                                Demande de prêt : A36518   \n",
       "5                                Demande de prêt : A36518   \n",
       "...                                                   ...   \n",
       "717792                          A19063 : Nouvelle demande   \n",
       "717802    Votre demande A19063 a bien été prise en compte   \n",
       "717806    Votre demande A19062 a bien été prise en compte   \n",
       "717853  [Arsenal Chirurgical] - Inscription sur notre ...   \n",
       "717865  An Error Occurred! Failed to create object: Dw...   \n",
       "\n",
       "                                        frm  \\\n",
       "0            contact@arsenalchirurgical.com   \n",
       "1            contact@arsenalchirurgical.com   \n",
       "3            contact@arsenalchirurgical.com   \n",
       "4            contact@arsenalchirurgical.com   \n",
       "5            contact@arsenalchirurgical.com   \n",
       "...                                     ...   \n",
       "717792       contact@arsenalchirurgical.com   \n",
       "717802       contact@arsenalchirurgical.com   \n",
       "717806       contact@arsenalchirurgical.com   \n",
       "717853       contact@arsenalchirurgical.com   \n",
       "717865  arsenalrapport@europeansourcing.com   \n",
       "\n",
       "                                              email    tag  \\\n",
       "0                                sergedmt@gmail.com  Aucun   \n",
       "1                                  advortho@serf.fr  Aucun   \n",
       "3                                sergedmt@gmail.com  Aucun   \n",
       "4                                sergedmt@gmail.com  Aucun   \n",
       "5                                sergedmt@gmail.com  Aucun   \n",
       "...                                             ...    ...   \n",
       "717792  servicecommercialfrance@amplitude-ortho.com  Aucun   \n",
       "717802                    magasinbloc.clp@gmail.com  Aucun   \n",
       "717806                    magasinbloc.clp@gmail.com  Aucun   \n",
       "717853                             copyresa@free.fr  Aucun   \n",
       "717865   christopher.rochadias@europeansourcing.com  Aucun   \n",
       "\n",
       "                                                      mid                date  \n",
       "0       <c3f187d347a17cafe825615c8054ecfa@app.arsenalc... 2020-07-21 12:03:35  \n",
       "1       <9d4d67a01cd9f7d3433b664baa2c0cd6@app.arsenalc... 2020-07-21 12:01:11  \n",
       "3       <c3f187d347a17cafe825615c8054ecfa@app.arsenalc... 2020-07-21 12:00:17  \n",
       "4       <c3f187d347a17cafe825615c8054ecfa@app.arsenalc... 2020-07-21 12:00:04  \n",
       "5       <c3f187d347a17cafe825615c8054ecfa@app.arsenalc... 2020-07-21 11:59:51  \n",
       "...                                                   ...                 ...  \n",
       "717792  <d3a45d5c034cb9621d88099f17eb7152@app.arsenalc... 2019-05-20 09:38:01  \n",
       "717802  <a37fc9bba76a43a6b5ba7f5b4605e582@app.arsenalc... 2019-05-20 09:35:19  \n",
       "717806  <392469fa1a8adccd92d8af4e01e55768@app.arsenalc... 2019-05-20 09:35:17  \n",
       "717853  <500b97d5b321e79b990bb73fb497882a@arsenal.medi... 2019-05-17 17:59:55  \n",
       "717865  <7c2eee2f5b3e4643c7daff151ad2dc52@arsenal.medi... 2019-05-17 15:26:57  \n",
       "\n",
       "[188791 rows x 8 columns]"
      ]
     },
     "execution_count": 23,
     "metadata": {},
     "output_type": "execute_result"
    }
   ],
   "source": [
    "dfDrop[dfDrop['st_text'] == 'Ouvert']"
   ]
  },
  {
   "cell_type": "markdown",
   "metadata": {},
   "source": [
    "## data prep"
   ]
  },
  {
   "cell_type": "code",
   "execution_count": 28,
   "metadata": {},
   "outputs": [],
   "source": [
    "df_mail = pd.read_csv(path_input+'Sendiblue_logs-2016-07-15_2020-07-21.csv')\n",
    "dfDrop = df_mail.copy().drop_duplicates()"
   ]
  },
  {
   "cell_type": "code",
   "execution_count": 29,
   "metadata": {},
   "outputs": [],
   "source": [
    "dfDrop['PretID'] = dfDrop['sub'].str.extract(pat = '([A-Z][0-9]{5})')"
   ]
  },
  {
   "cell_type": "code",
   "execution_count": 30,
   "metadata": {},
   "outputs": [],
   "source": [
    "dfDrop['PretID'].fillna('Unknow', inplace=True)"
   ]
  },
  {
   "cell_type": "code",
   "execution_count": 31,
   "metadata": {},
   "outputs": [
    {
     "name": "stderr",
     "output_type": "stream",
     "text": [
      "/home/anthelix/anaconda3/lib/python3.7/site-packages/pandas/core/strings.py:1843: UserWarning: This pattern has match groups. To actually get the groups, use str.extract.\n",
      "  return func(self, *args, **kwargs)\n"
     ]
    },
    {
     "data": {
      "text/plain": [
       "reservation        174511\n",
       "DemandePret        157962\n",
       "priseEnCompte      107466\n",
       "nouvelleDemande     84187\n",
       "Error               50139\n",
       "réponsePos          48939\n",
       "enlevement          20199\n",
       "terminee            15120\n",
       "nonRetenu           12133\n",
       "commAnnulee          9479\n",
       "relance              8717\n",
       "inscription          7799\n",
       "réponseNeg           4672\n",
       "pret                  191\n",
       "99                    103\n",
       "aucun                  88\n",
       "meessageRoxanne        40\n",
       "confirmation            6\n",
       "Name: Status, dtype: int64"
      ]
     },
     "execution_count": 31,
     "metadata": {},
     "output_type": "execute_result"
    }
   ],
   "source": [
    "#Create a 'Status' column with default value set to 'ok'\n",
    "dfDrop['Status'] = '99'\n",
    "#Replace the '99' by 'A....' for the orders that have ID\n",
    "mask = (dfDrop['sub'].str.contains(pat = '(enlevement)'))\n",
    "dfDrop.loc[mask,'Status'] = 'enlevement'\n",
    "\n",
    "mask = (dfDrop['sub'].str.contains(pat = '(relance)'))\n",
    "dfDrop.loc[mask,'Status'] = 'relance'\n",
    "\n",
    "mask = (dfDrop['sub'].str.contains(pat = '(Inscription)'))\n",
    "dfDrop.loc[mask,'Status'] = 'inscription'\n",
    "\n",
    "mask = (dfDrop['sub'].str.contains(pat = '(Error)'))\n",
    "dfDrop.loc[mask,'Status'] = 'Error'\n",
    "\n",
    "mask = (dfDrop['sub'].str.contains(pat = '(Demande de prêt)'))\n",
    "dfDrop.loc[mask,'Status'] = 'DemandePret'\n",
    "\n",
    "mask = (dfDrop['sub'].str.contains(pat = '(Nouvelle demande)'))\n",
    "dfDrop.loc[mask,'Status'] = 'nouvelleDemande'\n",
    "\n",
    "mask = (dfDrop['sub'].str.contains(pat = '(Confirmation )'))\n",
    "dfDrop.loc[mask,'Status'] = 'confirmation'\n",
    "\n",
    "mask = (dfDrop['sub'].str.contains(pat = '( réservation an)'))\n",
    "dfDrop.loc[mask,'Status'] = 'annulee'\n",
    "\n",
    "mask = (dfDrop['sub'].str.contains(pat = '(est termin)'))\n",
    "dfDrop.loc[mask,'Status'] = 'terminee'\n",
    "\n",
    "\n",
    "mask = (dfDrop['sub'].str.contains(pat = '(réponse positive)'))\n",
    "dfDrop.loc[mask,'Status'] = 'réponsePos'\n",
    "\n",
    "mask = (dfDrop['sub'].str.contains(pat = '(réponse négative)'))\n",
    "dfDrop.loc[mask,'Status'] = 'réponseNeg'\n",
    "\n",
    "\n",
    "mask = (dfDrop['sub'].str.contains(pat = '(prise en compte)'))\n",
    "dfDrop.loc[mask,'Status'] = 'priseEnCompte'\n",
    "\n",
    "mask = (dfDrop['sub'].str.contains(pat = '( réservation an)'))\n",
    "dfDrop.loc[mask,'Status'] = 'ReservAnnulee'\n",
    "\n",
    "mask = (dfDrop['sub'].str.contains(pat = '(retenu)'))\n",
    "dfDrop.loc[mask,'Status'] = 'nonRetenu'\n",
    "\n",
    "\n",
    "mask = (dfDrop['sub'].str.contains(pat = '(pré-réservation)'))\n",
    "dfDrop.loc[mask,'Status'] = 'preReserv'\n",
    "\n",
    "mask = (dfDrop['sub'].str.contains(pat = '(a été annulée)'))\n",
    "dfDrop.loc[mask,'Status'] = 'commAnnulee'\n",
    "\n",
    "mask = (dfDrop['sub'].str.contains(pat = '(Aucun)'))\n",
    "dfDrop.loc[mask,'Status'] = 'aucun'\n",
    "\n",
    "mask = (dfDrop['sub'].str.contains(pat = '(réservation)'))\n",
    "dfDrop.loc[mask,'Status'] = 'reservation'\n",
    "\n",
    "mask = (dfDrop['sub'].str.contains(pat = '(Roxanne)'))\n",
    "dfDrop.loc[mask,'Status'] = 'meessageRoxanne'\n",
    "\n",
    "mask = (dfDrop['sub'].str.contains(pat = '(prêtA)'))\n",
    "dfDrop.loc[mask,'Status'] = 'pret'\n",
    "\n",
    "\n",
    "dfDrop['Status'].value_counts()\n"
   ]
  },
  {
   "cell_type": "code",
   "execution_count": 32,
   "metadata": {},
   "outputs": [
    {
     "data": {
      "text/plain": [
       "st_text        12\n",
       "ts         399927\n",
       "sub         73481\n",
       "frm             5\n",
       "email        1405\n",
       "tag             1\n",
       "mid         90969\n",
       "PretID      18004\n",
       "Status         18\n",
       "dtype: int64"
      ]
     },
     "execution_count": 32,
     "metadata": {},
     "output_type": "execute_result"
    }
   ],
   "source": [
    "dfDrop.nunique()"
   ]
  },
  {
   "cell_type": "code",
   "execution_count": 33,
   "metadata": {},
   "outputs": [],
   "source": [
    "dfDrop.drop(['tag','ts', 'mid','frm','email', 'sub' ], 1, inplace=True)"
   ]
  },
  {
   "cell_type": "code",
   "execution_count": 34,
   "metadata": {},
   "outputs": [
    {
     "data": {
      "text/html": [
       "<div>\n",
       "<style scoped>\n",
       "    .dataframe tbody tr th:only-of-type {\n",
       "        vertical-align: middle;\n",
       "    }\n",
       "\n",
       "    .dataframe tbody tr th {\n",
       "        vertical-align: top;\n",
       "    }\n",
       "\n",
       "    .dataframe thead th {\n",
       "        text-align: right;\n",
       "    }\n",
       "</style>\n",
       "<table border=\"1\" class=\"dataframe\">\n",
       "  <thead>\n",
       "    <tr style=\"text-align: right;\">\n",
       "      <th></th>\n",
       "      <th>st_text</th>\n",
       "      <th>PretID</th>\n",
       "      <th>Status</th>\n",
       "    </tr>\n",
       "  </thead>\n",
       "  <tbody>\n",
       "    <tr>\n",
       "      <td>0</td>\n",
       "      <td>Ouvert</td>\n",
       "      <td>A36518</td>\n",
       "      <td>DemandePret</td>\n",
       "    </tr>\n",
       "    <tr>\n",
       "      <td>1</td>\n",
       "      <td>Ouvert</td>\n",
       "      <td>A35996</td>\n",
       "      <td>nouvelleDemande</td>\n",
       "    </tr>\n",
       "    <tr>\n",
       "      <td>2</td>\n",
       "      <td>1ère ouverture</td>\n",
       "      <td>A34993</td>\n",
       "      <td>enlevement</td>\n",
       "    </tr>\n",
       "    <tr>\n",
       "      <td>3</td>\n",
       "      <td>Ouvert</td>\n",
       "      <td>A36518</td>\n",
       "      <td>DemandePret</td>\n",
       "    </tr>\n",
       "    <tr>\n",
       "      <td>4</td>\n",
       "      <td>Ouvert</td>\n",
       "      <td>A36518</td>\n",
       "      <td>DemandePret</td>\n",
       "    </tr>\n",
       "    <tr>\n",
       "      <td>5</td>\n",
       "      <td>Ouvert</td>\n",
       "      <td>A36518</td>\n",
       "      <td>DemandePret</td>\n",
       "    </tr>\n",
       "    <tr>\n",
       "      <td>6</td>\n",
       "      <td>Ouvert</td>\n",
       "      <td>A36518</td>\n",
       "      <td>DemandePret</td>\n",
       "    </tr>\n",
       "    <tr>\n",
       "      <td>7</td>\n",
       "      <td>Ouvert</td>\n",
       "      <td>A36518</td>\n",
       "      <td>DemandePret</td>\n",
       "    </tr>\n",
       "    <tr>\n",
       "      <td>8</td>\n",
       "      <td>Ouvert</td>\n",
       "      <td>A36518</td>\n",
       "      <td>DemandePret</td>\n",
       "    </tr>\n",
       "    <tr>\n",
       "      <td>9</td>\n",
       "      <td>Ouvert</td>\n",
       "      <td>A36518</td>\n",
       "      <td>DemandePret</td>\n",
       "    </tr>\n",
       "  </tbody>\n",
       "</table>\n",
       "</div>"
      ],
      "text/plain": [
       "          st_text  PretID           Status\n",
       "0          Ouvert  A36518      DemandePret\n",
       "1          Ouvert  A35996  nouvelleDemande\n",
       "2  1ère ouverture  A34993       enlevement\n",
       "3          Ouvert  A36518      DemandePret\n",
       "4          Ouvert  A36518      DemandePret\n",
       "5          Ouvert  A36518      DemandePret\n",
       "6          Ouvert  A36518      DemandePret\n",
       "7          Ouvert  A36518      DemandePret\n",
       "8          Ouvert  A36518      DemandePret\n",
       "9          Ouvert  A36518      DemandePret"
      ]
     },
     "metadata": {},
     "output_type": "display_data"
    },
    {
     "data": {
      "text/plain": [
       "(701751, 3)"
      ]
     },
     "metadata": {},
     "output_type": "display_data"
    },
    {
     "name": "stdout",
     "output_type": "stream",
     "text": [
      "<class 'pandas.core.frame.DataFrame'>\n",
      "Int64Index: 701751 entries, 0 to 717868\n",
      "Data columns (total 3 columns):\n",
      "st_text    701751 non-null object\n",
      "PretID     701751 non-null object\n",
      "Status     701751 non-null object\n",
      "dtypes: object(3)\n",
      "memory usage: 21.4+ MB\n"
     ]
    },
    {
     "data": {
      "text/plain": [
       "None"
      ]
     },
     "metadata": {},
     "output_type": "display_data"
    }
   ],
   "source": [
    "display(dfDrop.head(10))\n",
    "display(dfDrop.shape)\n",
    "display(dfDrop.info())"
   ]
  },
  {
   "cell_type": "code",
   "execution_count": 35,
   "metadata": {},
   "outputs": [],
   "source": [
    "dfDrop.to_csv(path_output+'sendInBlue.csv')"
   ]
  },
  {
   "cell_type": "code",
   "execution_count": 36,
   "metadata": {},
   "outputs": [
    {
     "data": {
      "text/html": [
       "<div>\n",
       "<style scoped>\n",
       "    .dataframe tbody tr th:only-of-type {\n",
       "        vertical-align: middle;\n",
       "    }\n",
       "\n",
       "    .dataframe tbody tr th {\n",
       "        vertical-align: top;\n",
       "    }\n",
       "\n",
       "    .dataframe thead th {\n",
       "        text-align: right;\n",
       "    }\n",
       "</style>\n",
       "<table border=\"1\" class=\"dataframe\">\n",
       "  <thead>\n",
       "    <tr style=\"text-align: right;\">\n",
       "      <th></th>\n",
       "      <th>st_text</th>\n",
       "      <th>PretID</th>\n",
       "      <th>Status</th>\n",
       "    </tr>\n",
       "  </thead>\n",
       "  <tbody>\n",
       "    <tr>\n",
       "      <td>0</td>\n",
       "      <td>Ouvert</td>\n",
       "      <td>A36518</td>\n",
       "      <td>DemandePret</td>\n",
       "    </tr>\n",
       "    <tr>\n",
       "      <td>1</td>\n",
       "      <td>Ouvert</td>\n",
       "      <td>A35996</td>\n",
       "      <td>nouvelleDemande</td>\n",
       "    </tr>\n",
       "    <tr>\n",
       "      <td>2</td>\n",
       "      <td>1ère ouverture</td>\n",
       "      <td>A34993</td>\n",
       "      <td>enlevement</td>\n",
       "    </tr>\n",
       "    <tr>\n",
       "      <td>3</td>\n",
       "      <td>Ouvert</td>\n",
       "      <td>A36518</td>\n",
       "      <td>DemandePret</td>\n",
       "    </tr>\n",
       "    <tr>\n",
       "      <td>4</td>\n",
       "      <td>Ouvert</td>\n",
       "      <td>A36518</td>\n",
       "      <td>DemandePret</td>\n",
       "    </tr>\n",
       "  </tbody>\n",
       "</table>\n",
       "</div>"
      ],
      "text/plain": [
       "          st_text  PretID           Status\n",
       "0          Ouvert  A36518      DemandePret\n",
       "1          Ouvert  A35996  nouvelleDemande\n",
       "2  1ère ouverture  A34993       enlevement\n",
       "3          Ouvert  A36518      DemandePret\n",
       "4          Ouvert  A36518      DemandePret"
      ]
     },
     "execution_count": 36,
     "metadata": {},
     "output_type": "execute_result"
    }
   ],
   "source": [
    "dfDrop.head()"
   ]
  },
  {
   "cell_type": "code",
   "execution_count": 37,
   "metadata": {},
   "outputs": [],
   "source": [
    "df = dfDrop.sort_values(by='PretID', ascending=True)\n",
    "df = df[df['PretID'] != 'A00000']\n",
    "df = df[df['PretID'] != 'Unknow']\n",
    "df = df[df['PretID'] != 'Error']"
   ]
  },
  {
   "cell_type": "code",
   "execution_count": 38,
   "metadata": {},
   "outputs": [
    {
     "data": {
      "text/html": [
       "<div>\n",
       "<style scoped>\n",
       "    .dataframe tbody tr th:only-of-type {\n",
       "        vertical-align: middle;\n",
       "    }\n",
       "\n",
       "    .dataframe tbody tr th {\n",
       "        vertical-align: top;\n",
       "    }\n",
       "\n",
       "    .dataframe thead th {\n",
       "        text-align: right;\n",
       "    }\n",
       "</style>\n",
       "<table border=\"1\" class=\"dataframe\">\n",
       "  <thead>\n",
       "    <tr style=\"text-align: right;\">\n",
       "      <th></th>\n",
       "      <th>st_text</th>\n",
       "      <th>PretID</th>\n",
       "      <th>Status</th>\n",
       "    </tr>\n",
       "  </thead>\n",
       "  <tbody>\n",
       "    <tr>\n",
       "      <td>650757</td>\n",
       "      <td>Délivré</td>\n",
       "      <td>A00419</td>\n",
       "      <td>reservation</td>\n",
       "    </tr>\n",
       "    <tr>\n",
       "      <td>650758</td>\n",
       "      <td>Délivré</td>\n",
       "      <td>A00419</td>\n",
       "      <td>reservation</td>\n",
       "    </tr>\n",
       "    <tr>\n",
       "      <td>650759</td>\n",
       "      <td>Délivré</td>\n",
       "      <td>A00419</td>\n",
       "      <td>reservation</td>\n",
       "    </tr>\n",
       "    <tr>\n",
       "      <td>650761</td>\n",
       "      <td>Envoyé</td>\n",
       "      <td>A00419</td>\n",
       "      <td>reservation</td>\n",
       "    </tr>\n",
       "    <tr>\n",
       "      <td>650760</td>\n",
       "      <td>Envoyé</td>\n",
       "      <td>A00419</td>\n",
       "      <td>reservation</td>\n",
       "    </tr>\n",
       "    <tr>\n",
       "      <td>650603</td>\n",
       "      <td>1ère ouverture</td>\n",
       "      <td>A00419</td>\n",
       "      <td>reservation</td>\n",
       "    </tr>\n",
       "    <tr>\n",
       "      <td>650762</td>\n",
       "      <td>Envoyé</td>\n",
       "      <td>A00419</td>\n",
       "      <td>reservation</td>\n",
       "    </tr>\n",
       "    <tr>\n",
       "      <td>650602</td>\n",
       "      <td>1ère ouverture</td>\n",
       "      <td>A00419</td>\n",
       "      <td>reservation</td>\n",
       "    </tr>\n",
       "    <tr>\n",
       "      <td>650518</td>\n",
       "      <td>1ère ouverture</td>\n",
       "      <td>A00419</td>\n",
       "      <td>reservation</td>\n",
       "    </tr>\n",
       "    <tr>\n",
       "      <td>716342</td>\n",
       "      <td>Délivré</td>\n",
       "      <td>A00420</td>\n",
       "      <td>reservation</td>\n",
       "    </tr>\n",
       "    <tr>\n",
       "      <td>716351</td>\n",
       "      <td>Délivré</td>\n",
       "      <td>A00420</td>\n",
       "      <td>réponsePos</td>\n",
       "    </tr>\n",
       "    <tr>\n",
       "      <td>712383</td>\n",
       "      <td>Ouvert</td>\n",
       "      <td>A00420</td>\n",
       "      <td>reservation</td>\n",
       "    </tr>\n",
       "    <tr>\n",
       "      <td>716350</td>\n",
       "      <td>1ère ouverture</td>\n",
       "      <td>A00420</td>\n",
       "      <td>réponsePos</td>\n",
       "    </tr>\n",
       "    <tr>\n",
       "      <td>716349</td>\n",
       "      <td>1ère ouverture</td>\n",
       "      <td>A00420</td>\n",
       "      <td>réponsePos</td>\n",
       "    </tr>\n",
       "    <tr>\n",
       "      <td>716346</td>\n",
       "      <td>Envoyé</td>\n",
       "      <td>A00420</td>\n",
       "      <td>reservation</td>\n",
       "    </tr>\n",
       "    <tr>\n",
       "      <td>716354</td>\n",
       "      <td>Envoyé</td>\n",
       "      <td>A00420</td>\n",
       "      <td>réponsePos</td>\n",
       "    </tr>\n",
       "    <tr>\n",
       "      <td>716353</td>\n",
       "      <td>Envoyé</td>\n",
       "      <td>A00420</td>\n",
       "      <td>réponsePos</td>\n",
       "    </tr>\n",
       "    <tr>\n",
       "      <td>716345</td>\n",
       "      <td>Envoyé</td>\n",
       "      <td>A00420</td>\n",
       "      <td>reservation</td>\n",
       "    </tr>\n",
       "    <tr>\n",
       "      <td>716352</td>\n",
       "      <td>Délivré</td>\n",
       "      <td>A00420</td>\n",
       "      <td>réponsePos</td>\n",
       "    </tr>\n",
       "    <tr>\n",
       "      <td>716341</td>\n",
       "      <td>Délivré</td>\n",
       "      <td>A00420</td>\n",
       "      <td>reservation</td>\n",
       "    </tr>\n",
       "  </tbody>\n",
       "</table>\n",
       "</div>"
      ],
      "text/plain": [
       "               st_text  PretID       Status\n",
       "650757         Délivré  A00419  reservation\n",
       "650758         Délivré  A00419  reservation\n",
       "650759         Délivré  A00419  reservation\n",
       "650761          Envoyé  A00419  reservation\n",
       "650760          Envoyé  A00419  reservation\n",
       "650603  1ère ouverture  A00419  reservation\n",
       "650762          Envoyé  A00419  reservation\n",
       "650602  1ère ouverture  A00419  reservation\n",
       "650518  1ère ouverture  A00419  reservation\n",
       "716342         Délivré  A00420  reservation\n",
       "716351         Délivré  A00420   réponsePos\n",
       "712383          Ouvert  A00420  reservation\n",
       "716350  1ère ouverture  A00420   réponsePos\n",
       "716349  1ère ouverture  A00420   réponsePos\n",
       "716346          Envoyé  A00420  reservation\n",
       "716354          Envoyé  A00420   réponsePos\n",
       "716353          Envoyé  A00420   réponsePos\n",
       "716345          Envoyé  A00420  reservation\n",
       "716352         Délivré  A00420   réponsePos\n",
       "716341         Délivré  A00420  reservation"
      ]
     },
     "execution_count": 38,
     "metadata": {},
     "output_type": "execute_result"
    }
   ],
   "source": [
    "df.head(20)"
   ]
  },
  {
   "cell_type": "code",
   "execution_count": 32,
   "metadata": {},
   "outputs": [],
   "source": [
    "df = df[['PretID', 'date', 'st_text', 'Status']]\n",
    "dfGroup = df.groupby(['PretID', 'Status', 'st_text', 'date'])"
   ]
  },
  {
   "cell_type": "code",
   "execution_count": 33,
   "metadata": {},
   "outputs": [
    {
     "data": {
      "text/html": [
       "<div>\n",
       "<style scoped>\n",
       "    .dataframe tbody tr th:only-of-type {\n",
       "        vertical-align: middle;\n",
       "    }\n",
       "\n",
       "    .dataframe tbody tr th {\n",
       "        vertical-align: top;\n",
       "    }\n",
       "\n",
       "    .dataframe thead th {\n",
       "        text-align: right;\n",
       "    }\n",
       "</style>\n",
       "<table border=\"1\" class=\"dataframe\">\n",
       "  <thead>\n",
       "    <tr style=\"text-align: right;\">\n",
       "      <th></th>\n",
       "      <th>PretID</th>\n",
       "      <th>date</th>\n",
       "      <th>st_text</th>\n",
       "      <th>Status</th>\n",
       "    </tr>\n",
       "  </thead>\n",
       "  <tbody>\n",
       "    <tr>\n",
       "      <th>650757</th>\n",
       "      <td>A00419</td>\n",
       "      <td>2019-07-05 09:18:24</td>\n",
       "      <td>Délivré</td>\n",
       "      <td>reservation</td>\n",
       "    </tr>\n",
       "    <tr>\n",
       "      <th>650758</th>\n",
       "      <td>A00419</td>\n",
       "      <td>2019-07-05 09:18:24</td>\n",
       "      <td>Délivré</td>\n",
       "      <td>reservation</td>\n",
       "    </tr>\n",
       "    <tr>\n",
       "      <th>650759</th>\n",
       "      <td>A00419</td>\n",
       "      <td>2019-07-05 09:18:24</td>\n",
       "      <td>Délivré</td>\n",
       "      <td>reservation</td>\n",
       "    </tr>\n",
       "    <tr>\n",
       "      <th>650761</th>\n",
       "      <td>A00419</td>\n",
       "      <td>2019-07-05 09:18:24</td>\n",
       "      <td>Envoyé</td>\n",
       "      <td>reservation</td>\n",
       "    </tr>\n",
       "    <tr>\n",
       "      <th>650760</th>\n",
       "      <td>A00419</td>\n",
       "      <td>2019-07-05 09:18:24</td>\n",
       "      <td>Envoyé</td>\n",
       "      <td>reservation</td>\n",
       "    </tr>\n",
       "    <tr>\n",
       "      <th>...</th>\n",
       "      <td>...</td>\n",
       "      <td>...</td>\n",
       "      <td>...</td>\n",
       "      <td>...</td>\n",
       "    </tr>\n",
       "    <tr>\n",
       "      <th>212747</th>\n",
       "      <td>G19385</td>\n",
       "      <td>2020-03-11 07:47:14</td>\n",
       "      <td>Délivré</td>\n",
       "      <td>Error</td>\n",
       "    </tr>\n",
       "    <tr>\n",
       "      <th>226566</th>\n",
       "      <td>G19385</td>\n",
       "      <td>2020-03-05 07:33:01</td>\n",
       "      <td>Délivré</td>\n",
       "      <td>Error</td>\n",
       "    </tr>\n",
       "    <tr>\n",
       "      <th>226567</th>\n",
       "      <td>G19385</td>\n",
       "      <td>2020-03-05 07:33:00</td>\n",
       "      <td>Envoyé</td>\n",
       "      <td>Error</td>\n",
       "    </tr>\n",
       "    <tr>\n",
       "      <th>214564</th>\n",
       "      <td>R12491</td>\n",
       "      <td>2020-03-10 12:48:28</td>\n",
       "      <td>Envoyé</td>\n",
       "      <td>Error</td>\n",
       "    </tr>\n",
       "    <tr>\n",
       "      <th>214563</th>\n",
       "      <td>R12491</td>\n",
       "      <td>2020-03-10 12:48:28</td>\n",
       "      <td>Délivré</td>\n",
       "      <td>Error</td>\n",
       "    </tr>\n",
       "  </tbody>\n",
       "</table>\n",
       "<p>621636 rows × 4 columns</p>\n",
       "</div>"
      ],
      "text/plain": [
       "        PretID                date  st_text       Status\n",
       "650757  A00419 2019-07-05 09:18:24  Délivré  reservation\n",
       "650758  A00419 2019-07-05 09:18:24  Délivré  reservation\n",
       "650759  A00419 2019-07-05 09:18:24  Délivré  reservation\n",
       "650761  A00419 2019-07-05 09:18:24   Envoyé  reservation\n",
       "650760  A00419 2019-07-05 09:18:24   Envoyé  reservation\n",
       "...        ...                 ...      ...          ...\n",
       "212747  G19385 2020-03-11 07:47:14  Délivré        Error\n",
       "226566  G19385 2020-03-05 07:33:01  Délivré        Error\n",
       "226567  G19385 2020-03-05 07:33:00   Envoyé        Error\n",
       "214564  R12491 2020-03-10 12:48:28   Envoyé        Error\n",
       "214563  R12491 2020-03-10 12:48:28  Délivré        Error\n",
       "\n",
       "[621636 rows x 4 columns]"
      ]
     },
     "execution_count": 33,
     "metadata": {},
     "output_type": "execute_result"
    }
   ],
   "source": [
    "dfGroup.head()"
   ]
  },
  {
   "cell_type": "code",
   "execution_count": 34,
   "metadata": {},
   "outputs": [
    {
     "data": {
      "text/plain": [
       "['Ouvert',\n",
       " '1ère ouverture',\n",
       " 'Délivré',\n",
       " 'Envoyé',\n",
       " 'Cliqué',\n",
       " 'Différé',\n",
       " 'Bloqué',\n",
       " 'Hard bounce',\n",
       " 'Soft bounce',\n",
       " 'Error',\n",
       " 'Désinscrit',\n",
       " 'Email invalide']"
      ]
     },
     "execution_count": 34,
     "metadata": {},
     "output_type": "execute_result"
    }
   ],
   "source": [
    "list(dfDrop['st_text'].unique())"
   ]
  }
 ],
 "metadata": {
  "kernelspec": {
   "display_name": "Python 3",
   "language": "python",
   "name": "python3"
  },
  "language_info": {
   "codemirror_mode": {
    "name": "ipython",
    "version": 3
   },
   "file_extension": ".py",
   "mimetype": "text/x-python",
   "name": "python",
   "nbconvert_exporter": "python",
   "pygments_lexer": "ipython3",
   "version": "3.7.4"
  },
  "toc": {
   "base_numbering": 1,
   "nav_menu": {},
   "number_sections": true,
   "sideBar": true,
   "skip_h1_title": true,
   "title_cell": "Table of Contents",
   "title_sidebar": "Contents",
   "toc_cell": true,
   "toc_position": {},
   "toc_section_display": true,
   "toc_window_display": true
  }
 },
 "nbformat": 4,
 "nbformat_minor": 4
}
