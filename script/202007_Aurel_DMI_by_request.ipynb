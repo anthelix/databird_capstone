{
 "cells": [
  {
   "cell_type": "markdown",
   "metadata": {},
   "source": [
    "---"
   ]
  },
  {
   "cell_type": "markdown",
   "metadata": {},
   "source": [
    "# Exploratory Data Analysis : <font color='tomato'>Give me Categorical material </font>"
   ]
  },
  {
   "cell_type": "code",
   "execution_count": null,
   "metadata": {
    "ExecuteTime": {
     "end_time": "2020-07-30T08:44:05.480215Z",
     "start_time": "2020-07-30T08:44:05.401046Z"
    }
   },
   "outputs": [],
   "source": [
    "import pandas as pd"
   ]
  },
  {
   "cell_type": "code",
   "execution_count": null,
   "metadata": {
    "ExecuteTime": {
     "end_time": "2020-07-24T09:04:39.639455Z",
     "start_time": "2020-07-24T09:04:39.633723Z"
    }
   },
   "outputs": [],
   "source": [
    "import matplotlib.pyplot as plt\n",
    "import seaborn as sns\n",
    "\n",
    "pd.set_option(\"display.max_columns\",None)\n",
    "\n",
    "path_input='./../data/data_raw/'\n",
    "path_output='./../data/data_created/' "
   ]
  },
  {
   "cell_type": "markdown",
   "metadata": {},
   "source": [
    "### input and output du notebook\n",
    "- Input\n",
    "    * Request.csv\n",
    "    * OperatingSpecialty.csv\n",
    "    * BodyLocation_modif.csv\n",
    "    * Laboratory.csv\n",
    "- Ouput\n",
    "    * SpecialtyAndCity3.csv\n",
    "    * Operation_Material_Rq_Final.csv\n",
    "    * Operation_Material_Rq.csv\n",
    "    * MainOperation.csv\n",
    "    * Operation_Material_Rq_Final.csv\n",
    "    "
   ]
  },
  {
   "cell_type": "markdown",
   "metadata": {},
   "source": [
    "## Import \n",
    "### table request\n",
    "#### df_request"
   ]
  },
  {
   "cell_type": "code",
   "execution_count": null,
   "metadata": {
    "ExecuteTime": {
     "end_time": "2020-07-30T08:44:25.759724Z",
     "start_time": "2020-07-30T08:44:24.944626Z"
    },
    "scrolled": true
   },
   "outputs": [],
   "source": [
    "df_request = pd.read_csv(path_input+\"Request.csv\", low_memory=False)\n",
    "df_request.head(2)"
   ]
  },
  {
   "cell_type": "code",
   "execution_count": null,
   "metadata": {
    "ExecuteTime": {
     "end_time": "2020-07-30T08:44:35.989890Z",
     "start_time": "2020-07-30T08:44:35.904938Z"
    }
   },
   "outputs": [],
   "source": [
    "df_request['Used Implants'].value_counts()"
   ]
  },
  {
   "cell_type": "markdown",
   "metadata": {},
   "source": [
    "#### Choix des colonnes table request"
   ]
  },
  {
   "cell_type": "code",
   "execution_count": null,
   "metadata": {
    "ExecuteTime": {
     "end_time": "2020-07-30T08:44:42.069924Z",
     "start_time": "2020-07-30T08:44:41.723246Z"
    }
   },
   "outputs": [],
   "source": [
    "df_rq = df_request[[\"ID\",\"Expected Material\", 'Chosen Laboratory ID',\n",
    "                    \"Location ID\", \"Operating Block User ID\",\"Specialty ID\",\"Surgeon\"]]"
   ]
  },
  {
   "cell_type": "code",
   "execution_count": null,
   "metadata": {
    "ExecuteTime": {
     "end_time": "2020-07-30T08:44:47.209645Z",
     "start_time": "2020-07-30T08:44:47.138259Z"
    }
   },
   "outputs": [],
   "source": [
    "mask = df_request['Specialty ID'].isna()\n",
    "df_nan = df_request.loc[mask,:]\n",
    "df_nan.shape"
   ]
  },
  {
   "cell_type": "markdown",
   "metadata": {},
   "source": [
    "#### Est-ce qu'il y a des NaN ?"
   ]
  },
  {
   "cell_type": "code",
   "execution_count": null,
   "metadata": {
    "ExecuteTime": {
     "end_time": "2020-07-24T09:04:48.323330Z",
     "start_time": "2020-07-24T09:04:48.259087Z"
    }
   },
   "outputs": [],
   "source": [
    "df_rq.isnull().sum().sort_values(ascending=False)"
   ]
  },
  {
   "cell_type": "code",
   "execution_count": null,
   "metadata": {
    "ExecuteTime": {
     "end_time": "2020-07-30T08:44:56.080305Z",
     "start_time": "2020-07-30T08:44:56.024730Z"
    }
   },
   "outputs": [],
   "source": [
    "df_nan.head(2)"
   ]
  },
  {
   "cell_type": "markdown",
   "metadata": {},
   "source": [
    "---"
   ]
  },
  {
   "cell_type": "markdown",
   "metadata": {},
   "source": [
    "### Import table Operating Specialty (les DMI)\n",
    "#### df_SpeOpe"
   ]
  },
  {
   "cell_type": "code",
   "execution_count": null,
   "metadata": {
    "ExecuteTime": {
     "end_time": "2020-07-30T08:45:03.880377Z",
     "start_time": "2020-07-30T08:45:03.794625Z"
    },
    "scrolled": true
   },
   "outputs": [],
   "source": [
    "df_SpeOpe = pd.read_csv(path_input+\"OperatingSpecialty.csv\")\n",
    "df_SpeOpe = df_SpeOpe.set_index(\"ID\")\n",
    "df_SpeOpe.head(2)"
   ]
  },
  {
   "cell_type": "markdown",
   "metadata": {},
   "source": [
    "---"
   ]
  },
  {
   "cell_type": "markdown",
   "metadata": {},
   "source": [
    "### `df_Spe` : Merge des specialités opérations & request"
   ]
  },
  {
   "cell_type": "code",
   "execution_count": null,
   "metadata": {
    "ExecuteTime": {
     "end_time": "2020-07-30T08:45:10.988168Z",
     "start_time": "2020-07-30T08:45:10.805995Z"
    },
    "scrolled": false
   },
   "outputs": [],
   "source": [
    "df_Spe = pd.merge(df_rq, df_SpeOpe, left_on = \"Specialty ID\", right_on = \"ID\" )\n",
    "df_Spe.head(3)"
   ]
  },
  {
   "cell_type": "code",
   "execution_count": null,
   "metadata": {
    "ExecuteTime": {
     "end_time": "2020-07-30T08:45:18.122996Z",
     "start_time": "2020-07-30T08:45:18.111271Z"
    }
   },
   "outputs": [],
   "source": [
    "df_Spe.shape"
   ]
  },
  {
   "cell_type": "markdown",
   "metadata": {},
   "source": [
    "#### `df_SplitMaterial`: Aggrégation : nb de requêtes par DMI : "
   ]
  },
  {
   "cell_type": "code",
   "execution_count": null,
   "metadata": {
    "ExecuteTime": {
     "end_time": "2020-07-30T08:45:26.045396Z",
     "start_time": "2020-07-30T08:45:25.845719Z"
    }
   },
   "outputs": [],
   "source": [
    "df_SpeMaterial = df_Spe.groupby('Name').count().reset_index()\n",
    "df_SpeMaterial.head(2)"
   ]
  },
  {
   "cell_type": "code",
   "execution_count": null,
   "metadata": {
    "ExecuteTime": {
     "end_time": "2020-07-30T08:45:32.663695Z",
     "start_time": "2020-07-30T08:45:32.622507Z"
    },
    "scrolled": true
   },
   "outputs": [],
   "source": [
    "df_SplitMaterial = df_SpeMaterial[[\"Name\",\"ID\"]]\n",
    "df_SplitMaterial = df_SplitMaterial.rename(columns = {\"Name\":\"Categorical_Material\",\"ID\" : \"Nb_requests\"})\n",
    "df_SplitMaterial = df_SplitMaterial.sort_values('Nb_requests',ascending=False)\n",
    "df_SplitMaterial.head(2)"
   ]
  },
  {
   "cell_type": "code",
   "execution_count": null,
   "metadata": {
    "ExecuteTime": {
     "end_time": "2020-07-30T08:45:39.280750Z",
     "start_time": "2020-07-30T08:45:39.267555Z"
    }
   },
   "outputs": [],
   "source": [
    "df_SplitMaterialGraph = df_SplitMaterial.set_index(\"Categorical_Material\")\n",
    "df_SplitMaterialGraph.head(3)"
   ]
  },
  {
   "cell_type": "markdown",
   "metadata": {},
   "source": [
    "#### Plot request per Categorical material"
   ]
  },
  {
   "cell_type": "code",
   "execution_count": null,
   "metadata": {
    "ExecuteTime": {
     "end_time": "2020-07-23T12:52:47.374385Z",
     "start_time": "2020-07-23T12:52:45.164496Z"
    },
    "scrolled": true
   },
   "outputs": [],
   "source": [
    "plt.figure(figsize=(10,5))\n",
    "df_SplitMaterialGraph['Nb_requests'].plot(kind = \"bar\",legend = False)\n",
    "\n",
    "plt.title(\"Number of request per Categorical material\")\n",
    "\n",
    "#xticks \n",
    "plt.xticks(rotation=70) \n",
    "#x-axis labels \n",
    "plt.xlabel('Categorical material') \n",
    "#y-axis labels \n",
    "\n",
    "#save plot \n",
    "plt.savefig('plot.png',dpi=300,bbox_inches='tight') \n",
    "#display \n",
    "\n",
    "plt.show()\n"
   ]
  },
  {
   "cell_type": "code",
   "execution_count": null,
   "metadata": {
    "ExecuteTime": {
     "end_time": "2020-07-23T12:52:53.286407Z",
     "start_time": "2020-07-23T12:52:52.937894Z"
    },
    "scrolled": true
   },
   "outputs": [],
   "source": [
    "plot = df_SplitMaterialGraph.plot.pie(y='Nb_requests', figsize=(5, 5))"
   ]
  },
  {
   "cell_type": "markdown",
   "metadata": {},
   "source": [
    "---"
   ]
  },
  {
   "cell_type": "markdown",
   "metadata": {},
   "source": [
    "###  `df_operation`n Merge avec body location : `df_bodyloc` & `df_Spe`\n",
    "Objectif => avoir le nb de requets par segment anatomique + matériel \n",
    "#### Check `df_Spe`"
   ]
  },
  {
   "cell_type": "code",
   "execution_count": null,
   "metadata": {
    "ExecuteTime": {
     "end_time": "2020-07-30T08:45:46.222444Z",
     "start_time": "2020-07-30T08:45:46.202796Z"
    }
   },
   "outputs": [],
   "source": [
    "df_Spe.head(2)"
   ]
  },
  {
   "cell_type": "markdown",
   "metadata": {},
   "source": [
    "#### Read BodyLocation"
   ]
  },
  {
   "cell_type": "code",
   "execution_count": null,
   "metadata": {
    "ExecuteTime": {
     "end_time": "2020-07-30T10:20:04.848255Z",
     "start_time": "2020-07-30T10:20:04.825878Z"
    }
   },
   "outputs": [],
   "source": [
    "df_bodyloc = pd.read_csv(path_input+\"BodyLocation_modif.csv\")\n",
    "df_bodyloc.head(2)"
   ]
  },
  {
   "cell_type": "markdown",
   "metadata": {},
   "source": [
    "#### `df_operation` Merge df_spe & df_bodyloc"
   ]
  },
  {
   "cell_type": "code",
   "execution_count": null,
   "metadata": {
    "ExecuteTime": {
     "end_time": "2020-07-30T10:20:16.776443Z",
     "start_time": "2020-07-30T10:20:16.372059Z"
    },
    "scrolled": true
   },
   "outputs": [],
   "source": [
    "df_operation1 = pd.merge(df_Spe, df_bodyloc, left_on = \"Location ID\", right_on = \"ID\" )\n",
    "df_operation1.head(2)\n"
   ]
  },
  {
   "cell_type": "code",
   "execution_count": null,
   "metadata": {},
   "outputs": [],
   "source": [
    "df_operation2 = pd.merge(df_Spe, df_bodyloc, left_on = \"Location ID\", right_on = \"ID\" )\n",
    "df_operation2.head(2)"
   ]
  },
  {
   "cell_type": "markdown",
   "metadata": {},
   "source": [
    "### `df_operationMore` \n",
    "#### : renommer les colonnes"
   ]
  },
  {
   "cell_type": "code",
   "execution_count": null,
   "metadata": {
    "ExecuteTime": {
     "end_time": "2020-07-30T10:20:49.933252Z",
     "start_time": "2020-07-30T10:20:49.893815Z"
    }
   },
   "outputs": [],
   "source": [
    "df_operationMore = df_operation1[[\"ID_x\",\"Name_x\",\"SegmentAnat\"]]\n",
    "df_operationMore = df_operation1.rename(columns = {\"ID_x\":\"Id_rq\",\"Name_x\" : \"DMI\"})\n",
    "df_operationMore.head()\n",
    "#df_operation = df_operation.rename(columns = {\"ID_x\":\"Id_rq\",\"Name_x\" : \"DMI\"})"
   ]
  },
  {
   "cell_type": "markdown",
   "metadata": {
    "ExecuteTime": {
     "end_time": "2020-07-30T08:28:55.053889Z",
     "start_time": "2020-07-30T08:28:54.505666Z"
    }
   },
   "source": [
    "---"
   ]
  },
  {
   "cell_type": "markdown",
   "metadata": {},
   "source": [
    "### `df_labo` :Upload table labo \n",
    "#### Read laboratory.csv"
   ]
  },
  {
   "cell_type": "code",
   "execution_count": null,
   "metadata": {
    "ExecuteTime": {
     "end_time": "2020-07-30T08:53:18.438249Z",
     "start_time": "2020-07-30T08:53:18.413796Z"
    }
   },
   "outputs": [],
   "source": [
    "df_labo = pd.read_csv(path_input+\"Laboratory.csv\")"
   ]
  },
  {
   "cell_type": "code",
   "execution_count": null,
   "metadata": {
    "ExecuteTime": {
     "end_time": "2020-07-30T08:53:24.987561Z",
     "start_time": "2020-07-30T08:53:24.980033Z"
    }
   },
   "outputs": [],
   "source": [
    "df_labo.shape"
   ]
  },
  {
   "cell_type": "code",
   "execution_count": null,
   "metadata": {
    "ExecuteTime": {
     "end_time": "2020-07-30T08:53:42.201457Z",
     "start_time": "2020-07-30T08:53:42.171841Z"
    }
   },
   "outputs": [],
   "source": [
    "df_labo.head(3)"
   ]
  },
  {
   "cell_type": "code",
   "execution_count": null,
   "metadata": {
    "ExecuteTime": {
     "end_time": "2020-07-30T08:54:10.524246Z",
     "start_time": "2020-07-30T08:54:10.461198Z"
    }
   },
   "outputs": [],
   "source": [
    "df_labo.isnull().sum().sort_values(ascending=False)"
   ]
  },
  {
   "cell_type": "markdown",
   "metadata": {},
   "source": [
    "#### Choix des colonnes "
   ]
  },
  {
   "cell_type": "code",
   "execution_count": null,
   "metadata": {
    "ExecuteTime": {
     "end_time": "2020-07-30T08:54:17.812302Z",
     "start_time": "2020-07-30T08:54:17.781245Z"
    }
   },
   "outputs": [],
   "source": [
    "df_labo = df_labo[[\"Name\",\"ID\",\"Zip Code\",\"City\"]]\n",
    "df_labo.head(3)"
   ]
  },
  {
   "cell_type": "code",
   "execution_count": null,
   "metadata": {
    "ExecuteTime": {
     "end_time": "2020-07-30T08:54:24.656290Z",
     "start_time": "2020-07-30T08:54:24.634428Z"
    }
   },
   "outputs": [],
   "source": [
    "df_labo = df_labo[df_labo['Name'] != \"TEST\"]\n",
    "df_labo.head(2)"
   ]
  },
  {
   "cell_type": "markdown",
   "metadata": {},
   "source": [
    "### `df_operationWithLabo`  :Merge labo & operation : "
   ]
  },
  {
   "cell_type": "code",
   "execution_count": null,
   "metadata": {
    "ExecuteTime": {
     "end_time": "2020-07-30T08:54:32.618844Z",
     "start_time": "2020-07-30T08:54:32.605331Z"
    },
    "scrolled": false
   },
   "outputs": [],
   "source": [
    "df_operation1.head(2)"
   ]
  },
  {
   "cell_type": "code",
   "execution_count": null,
   "metadata": {
    "ExecuteTime": {
     "end_time": "2020-07-30T08:59:31.437627Z",
     "start_time": "2020-07-30T08:59:31.305566Z"
    },
    "scrolled": true
   },
   "outputs": [],
   "source": [
    "df_operationWithLabo = pd.merge(df_operation1, df_labo, left_on =\"Chosen Laboratory ID\",right_on=\"ID\")\n",
    "df_operationWithLabo.head(2)"
   ]
  },
  {
   "cell_type": "code",
   "execution_count": null,
   "metadata": {
    "ExecuteTime": {
     "end_time": "2020-07-30T09:03:12.328958Z",
     "start_time": "2020-07-30T09:03:12.299833Z"
    },
    "scrolled": false
   },
   "outputs": [],
   "source": [
    "df_materialLabo = df_operationWithLabo [[\"ID_x\",\"Name_x\",\"SegmentAnat\",\"Name\",\"City\",\"Zip Code\"]]\n",
    "df_materialLabo.sample(2)"
   ]
  },
  {
   "cell_type": "code",
   "execution_count": null,
   "metadata": {
    "ExecuteTime": {
     "end_time": "2020-07-30T09:03:25.041102Z",
     "start_time": "2020-07-30T09:03:25.034828Z"
    }
   },
   "outputs": [],
   "source": [
    "df_materialLabo.shape"
   ]
  },
  {
   "cell_type": "markdown",
   "metadata": {},
   "source": [
    "#### OUTPUT `SpecialtyAndCity3.csv`"
   ]
  },
  {
   "cell_type": "code",
   "execution_count": null,
   "metadata": {
    "ExecuteTime": {
     "end_time": "2020-07-24T14:52:43.698422Z",
     "start_time": "2020-07-24T14:52:43.515379Z"
    }
   },
   "outputs": [],
   "source": [
    "#Dans le fichier .csv sur excel > j'ai rajouté une colonne département pour pouvoir localiser les labos sur Tableau\n",
    "df_materialLabo.to_csv(path_output+\"SpecialtyAndCity3.csv\")"
   ]
  },
  {
   "cell_type": "markdown",
   "metadata": {},
   "source": [
    "#### Exploration df_materialLabo"
   ]
  },
  {
   "cell_type": "code",
   "execution_count": null,
   "metadata": {
    "ExecuteTime": {
     "end_time": "2020-07-27T09:17:04.055236Z",
     "start_time": "2020-07-27T09:17:04.038577Z"
    }
   },
   "outputs": [],
   "source": [
    "df1 = df_materialLabo.groupby('Name').agg('count')"
   ]
  },
  {
   "cell_type": "code",
   "execution_count": null,
   "metadata": {
    "ExecuteTime": {
     "end_time": "2020-07-27T09:19:38.566923Z",
     "start_time": "2020-07-27T09:19:38.541114Z"
    }
   },
   "outputs": [],
   "source": [
    "df_materialLabo[df_materialLabo['Name']=='non désigné']"
   ]
  },
  {
   "cell_type": "code",
   "execution_count": null,
   "metadata": {
    "ExecuteTime": {
     "end_time": "2020-07-24T10:29:02.479429Z",
     "start_time": "2020-07-24T10:29:02.443857Z"
    }
   },
   "outputs": [],
   "source": [
    "df_materialLabo.isnull().sum().sort_values(ascending=False)"
   ]
  },
  {
   "cell_type": "markdown",
   "metadata": {},
   "source": [
    "---"
   ]
  },
  {
   "cell_type": "code",
   "execution_count": null,
   "metadata": {
    "ExecuteTime": {
     "end_time": "2020-07-30T10:12:57.228689Z",
     "start_time": "2020-07-30T10:12:57.194926Z"
    }
   },
   "outputs": [],
   "source": [
    "df_operation1.head(2)"
   ]
  },
  {
   "cell_type": "code",
   "execution_count": null,
   "metadata": {
    "ExecuteTime": {
     "end_time": "2020-07-30T10:22:50.261507Z",
     "start_time": "2020-07-30T10:22:50.186716Z"
    }
   },
   "outputs": [],
   "source": [
    "df_operationMore.head(2)"
   ]
  },
  {
   "cell_type": "code",
   "execution_count": null,
   "metadata": {
    "ExecuteTime": {
     "end_time": "2020-07-30T10:23:00.946014Z",
     "start_time": "2020-07-30T10:23:00.900509Z"
    }
   },
   "outputs": [],
   "source": [
    "df_MaterialOperation = df_operationMore[[\"Id_rq\",\"DMI\",\"SegmentAnat\"]]\n",
    "df_MaterialOperation.sample(2)\n",
    "                    "
   ]
  },
  {
   "cell_type": "code",
   "execution_count": null,
   "metadata": {
    "ExecuteTime": {
     "end_time": "2020-07-27T09:51:13.973033Z",
     "start_time": "2020-07-27T09:51:13.964015Z"
    }
   },
   "outputs": [],
   "source": [
    "df_MaterialOperation.shape"
   ]
  },
  {
   "cell_type": "markdown",
   "metadata": {},
   "source": [
    "#### OUTPOUT `Operation_Material_Rq_Final.csv`"
   ]
  },
  {
   "cell_type": "code",
   "execution_count": null,
   "metadata": {
    "ExecuteTime": {
     "end_time": "2020-07-30T10:31:25.969283Z",
     "start_time": "2020-07-30T10:31:25.847514Z"
    }
   },
   "outputs": [],
   "source": [
    "df_MaterialOperation.to_csv(path_output+\"Operation_Material_Rq_Final.csv\")"
   ]
  },
  {
   "cell_type": "markdown",
   "metadata": {},
   "source": [
    "---"
   ]
  },
  {
   "cell_type": "markdown",
   "metadata": {},
   "source": [
    "### Isoler 1ère intention et reprise : `df_FirstIntention` + `df_Reprise` =>> `df_Principals` (concat)"
   ]
  },
  {
   "cell_type": "code",
   "execution_count": null,
   "metadata": {
    "ExecuteTime": {
     "end_time": "2020-07-30T09:09:05.680259Z",
     "start_time": "2020-07-30T09:09:05.580959Z"
    }
   },
   "outputs": [],
   "source": [
    "df_FirstIntention = df_operation1[df_operation1[\"Name_x\"] == \"arthroplastie de 1ere intention\"]\n",
    "df_FirstIntention.sample(2)"
   ]
  },
  {
   "cell_type": "code",
   "execution_count": null,
   "metadata": {
    "ExecuteTime": {
     "end_time": "2020-07-30T09:09:13.133030Z",
     "start_time": "2020-07-30T09:09:13.099406Z"
    },
    "scrolled": true
   },
   "outputs": [],
   "source": [
    "df_Reprise = df_operation1[df_operation1[\"Name_x\"] == \"arthroplastie de reprise\"]\n",
    "df_Reprise.sample(2)"
   ]
  },
  {
   "cell_type": "code",
   "execution_count": null,
   "metadata": {
    "ExecuteTime": {
     "end_time": "2020-07-30T09:09:21.575253Z",
     "start_time": "2020-07-30T09:09:21.551919Z"
    }
   },
   "outputs": [],
   "source": [
    "df1 = pd.concat([df_FirstIntention,df_Reprise])\n",
    "df1.shape"
   ]
  },
  {
   "cell_type": "code",
   "execution_count": null,
   "metadata": {
    "ExecuteTime": {
     "end_time": "2020-07-30T09:09:29.918595Z",
     "start_time": "2020-07-30T09:09:29.876621Z"
    },
    "scrolled": true
   },
   "outputs": [],
   "source": [
    "df = df1[[\"ID_x\",\"Name_x\",\"SegmentAnat\"]]\n",
    "\n",
    "df = df.rename(columns = {\"ID_x\":\"Nb_requests\",\"Name_x\":\"Categorical_Material\",\"SegmentAnat\":\"Anatomic_Segment\"})\n",
    "df.head()"
   ]
  },
  {
   "cell_type": "code",
   "execution_count": null,
   "metadata": {
    "ExecuteTime": {
     "end_time": "2020-07-30T09:09:38.932005Z",
     "start_time": "2020-07-30T09:09:38.856697Z"
    }
   },
   "outputs": [],
   "source": [
    "df_Principals = df.groupby(['Categorical_Material','Anatomic_Segment']).count()\n",
    "df_Principals"
   ]
  },
  {
   "cell_type": "markdown",
   "metadata": {},
   "source": [
    "### A METTRE DANS TABLEAU : "
   ]
  },
  {
   "cell_type": "code",
   "execution_count": null,
   "metadata": {
    "ExecuteTime": {
     "end_time": "2020-07-30T09:09:47.827514Z",
     "start_time": "2020-07-30T09:09:47.806877Z"
    },
    "scrolled": true
   },
   "outputs": [],
   "source": [
    "df_PrincipalsV2 = df.groupby(['Anatomic_Segment','Categorical_Material']).count()\n",
    "df_PrincipalsV2"
   ]
  },
  {
   "cell_type": "code",
   "execution_count": null,
   "metadata": {},
   "outputs": [],
   "source": [
    "df_MaterialOperation2 = df_operationMore[[\"Id_rq\",\"DMI\",\"SegmentAnat\"]]\n",
    "df_MaterialOperation2.sample(2)"
   ]
  },
  {
   "cell_type": "code",
   "execution_count": null,
   "metadata": {
    "ExecuteTime": {
     "end_time": "2020-07-23T13:54:46.961817Z",
     "start_time": "2020-07-23T13:54:46.949893Z"
    }
   },
   "outputs": [],
   "source": [
    "df_MaterialOperation2[\"Id_rq\"].count()"
   ]
  },
  {
   "cell_type": "code",
   "execution_count": null,
   "metadata": {
    "ExecuteTime": {
     "end_time": "2020-07-30T09:09:57.068075Z",
     "start_time": "2020-07-30T09:09:57.016892Z"
    }
   },
   "outputs": [],
   "source": [
    "df_MaterialOperation2 = df_MaterialOperation2.rename(columns = {\"Id_rq\":\"Nb_requests\",\"DMI\":\"Categorical_Material\",\"SegmentAnat\":\"Anatomic Segment\"})\n",
    "df_MaterialOperation2.head()"
   ]
  },
  {
   "cell_type": "code",
   "execution_count": null,
   "metadata": {
    "ExecuteTime": {
     "end_time": "2020-07-30T09:10:06.999948Z",
     "start_time": "2020-07-30T09:10:06.968451Z"
    },
    "scrolled": true
   },
   "outputs": [],
   "source": [
    "df_final = df_MaterialOperation2.groupby(['Anatomic Segment','Categorical_Material']).count()\n",
    "df_final"
   ]
  },
  {
   "cell_type": "code",
   "execution_count": null,
   "metadata": {},
   "outputs": [],
   "source": [
    "df_MaterialOperation.sample(10)"
   ]
  },
  {
   "cell_type": "code",
   "execution_count": null,
   "metadata": {},
   "outputs": [],
   "source": [
    "df_operation1.sample(2)"
   ]
  },
  {
   "cell_type": "code",
   "execution_count": null,
   "metadata": {},
   "outputs": [],
   "source": [
    "df_operationMore.head(2)"
   ]
  },
  {
   "cell_type": "code",
   "execution_count": null,
   "metadata": {},
   "outputs": [],
   "source": [
    "df_MaterialOperation = df_operationMore[[\"Id_rq\",\"DMI\",\"SegmentAnat\"]]\n",
    "df_MaterialOperation.sample(5)"
   ]
  },
  {
   "cell_type": "code",
   "execution_count": null,
   "metadata": {},
   "outputs": [],
   "source": [
    "df_final = df_MaterialOperation.groupby([\"DMI\",'SegmentAnat']).count()\n",
    "df_final.sample(2)"
   ]
  },
  {
   "cell_type": "code",
   "execution_count": null,
   "metadata": {},
   "outputs": [],
   "source": [
    "df_final[\"Id_rq\"].sum()"
   ]
  },
  {
   "cell_type": "code",
   "execution_count": null,
   "metadata": {},
   "outputs": [],
   "source": [
    "df_final3 = df_MaterialOperation.groupby(['SegmentAnat',\"DMI\"]).count()\n",
    "df_final3.sample(2)"
   ]
  },
  {
   "cell_type": "markdown",
   "metadata": {},
   "source": [
    "#### OUPUT `Operation_Material_Rq_Final.csv`"
   ]
  },
  {
   "cell_type": "code",
   "execution_count": null,
   "metadata": {},
   "outputs": [],
   "source": [
    "df_MaterialOperation.to_csv(path_output+\"Operation_Material_Rq_Final.csv\", sep=\";\")"
   ]
  },
  {
   "cell_type": "code",
   "execution_count": null,
   "metadata": {},
   "outputs": [],
   "source": [
    "df_final3.to_csv(path_output+\"Nb_requests_by_DMI_by_SegmentAnat.csv\")"
   ]
  },
  {
   "cell_type": "code",
   "execution_count": null,
   "metadata": {},
   "outputs": [],
   "source": []
  },
  {
   "cell_type": "markdown",
   "metadata": {},
   "source": [
    "# <font color='red'>Final csv.files : </font> "
   ]
  },
  {
   "cell_type": "markdown",
   "metadata": {},
   "source": [
    "### Operation_Material => DMI "
   ]
  },
  {
   "cell_type": "code",
   "execution_count": null,
   "metadata": {
    "ExecuteTime": {
     "end_time": "2020-07-23T14:18:37.254964Z",
     "start_time": "2020-07-23T14:18:37.144242Z"
    }
   },
   "outputs": [],
   "source": [
    "df_final.to_csv(path_output+\"Operation_Material_Rq.csv\")"
   ]
  },
  {
   "cell_type": "markdown",
   "metadata": {},
   "source": [
    "### Material Labo = details des labos avec les DMI et segments anatomiques"
   ]
  },
  {
   "cell_type": "code",
   "execution_count": null,
   "metadata": {
    "ExecuteTime": {
     "end_time": "2020-07-24T14:52:43.698422Z",
     "start_time": "2020-07-24T14:52:43.515379Z"
    }
   },
   "outputs": [],
   "source": [
    "#Dans le fichier .csv sur excel > j'ai rajouté une colonne département pour pouvoir localiser les labos sur Tableau\n",
    "df_materialLabo.to_csv(path_output+\"SpecialtyAndCity3.csv\")"
   ]
  },
  {
   "cell_type": "markdown",
   "metadata": {},
   "source": [
    "### Principals => main operation \"DMI\" => focus sur reprise et 1ère intention "
   ]
  },
  {
   "cell_type": "code",
   "execution_count": null,
   "metadata": {
    "ExecuteTime": {
     "end_time": "2020-07-24T13:23:13.585651Z",
     "start_time": "2020-07-24T13:23:13.471547Z"
    }
   },
   "outputs": [],
   "source": [
    "df_PrincipalsV2.to_csv(path_output+\"MainOperation.csv\")"
   ]
  },
  {
   "cell_type": "markdown",
   "metadata": {},
   "source": [
    "---"
   ]
  },
  {
   "cell_type": "code",
   "execution_count": null,
   "metadata": {},
   "outputs": [],
   "source": []
  },
  {
   "cell_type": "code",
   "execution_count": null,
   "metadata": {},
   "outputs": [],
   "source": [
    "#df_SpeMaterial = df_Spe.groupby('Name').count().reset_index()\n",
    "#df_SpeMaterial.head(2)"
   ]
  },
  {
   "cell_type": "code",
   "execution_count": null,
   "metadata": {},
   "outputs": [],
   "source": [
    "#df_SplitMaterial = df_SpeMaterial[[\"Name\",\"ID\"]]\n",
    "#df_SplitMaterial = df_SplitMaterial.rename(columns = {\"Name\":\"Categorical_Material\",\"ID\" : \"Nb_requests\"})\n",
    "#df_SplitMaterial = df_SplitMaterial.sort_values('Nb_requests',ascending=False)\n",
    "#df_SplitMaterial.head(2)"
   ]
  },
  {
   "cell_type": "markdown",
   "metadata": {},
   "source": [
    "---"
   ]
  },
  {
   "cell_type": "markdown",
   "metadata": {},
   "source": [
    "#### Merge  labo & specialty type => majoritairement orthopedique"
   ]
  },
  {
   "cell_type": "code",
   "execution_count": null,
   "metadata": {
    "ExecuteTime": {
     "end_time": "2020-07-23T09:06:47.072528Z",
     "start_time": "2020-07-23T09:06:47.046501Z"
    }
   },
   "outputs": [],
   "source": [
    "df_speType = pd.read_csv(path_input+\"Specialty.csv\")\n",
    "df_speType.head()"
   ]
  },
  {
   "cell_type": "markdown",
   "metadata": {},
   "source": [
    "---"
   ]
  },
  {
   "cell_type": "markdown",
   "metadata": {},
   "source": [
    "# <font color='tomato'>Annexes </font> "
   ]
  },
  {
   "cell_type": "markdown",
   "metadata": {},
   "source": [
    "###### convert to .CSV : `df.to_csv(\"nom_du_doc.csv\")`"
   ]
  },
  {
   "cell_type": "code",
   "execution_count": null,
   "metadata": {
    "ExecuteTime": {
     "end_time": "2020-07-23T09:04:09.630959Z",
     "start_time": "2020-07-23T09:03:58.338Z"
    }
   },
   "outputs": [],
   "source": [
    "#1ère table : merge des operating specialty avec request : \n",
    "df_Spe.to_csv(path_output+\"MergeRequestSpecialty.csv\")"
   ]
  },
  {
   "cell_type": "code",
   "execution_count": null,
   "metadata": {
    "ExecuteTime": {
     "end_time": "2020-07-23T09:04:09.632881Z",
     "start_time": "2020-07-23T09:03:58.342Z"
    }
   },
   "outputs": [],
   "source": [
    "#2ème table : nb de demandes par material category : \n",
    "df_SplitMaterial.to_csv(path_output+\"MaterialSplit.csv\")"
   ]
  },
  {
   "cell_type": "markdown",
   "metadata": {},
   "source": [
    "---"
   ]
  },
  {
   "cell_type": "markdown",
   "metadata": {},
   "source": [
    "##### `df_nan` => df de request avec uniquement les NaN de `df_request`"
   ]
  },
  {
   "cell_type": "code",
   "execution_count": null,
   "metadata": {
    "ExecuteTime": {
     "end_time": "2020-07-23T09:06:53.951589Z",
     "start_time": "2020-07-23T09:06:53.902997Z"
    }
   },
   "outputs": [],
   "source": [
    "df_nan.head(2)"
   ]
  },
  {
   "cell_type": "code",
   "execution_count": null,
   "metadata": {
    "ExecuteTime": {
     "end_time": "2020-07-23T09:04:09.637344Z",
     "start_time": "2020-07-23T09:03:58.356Z"
    }
   },
   "outputs": [],
   "source": [
    "df_users = pd.read_csv(path_input+\"FosUserUser.csv\")\n",
    "df_users.head()"
   ]
  },
  {
   "cell_type": "code",
   "execution_count": null,
   "metadata": {
    "ExecuteTime": {
     "end_time": "2020-07-23T09:04:09.639295Z",
     "start_time": "2020-07-23T09:03:58.361Z"
    },
    "scrolled": true
   },
   "outputs": [],
   "source": [
    "df_users.shape"
   ]
  },
  {
   "cell_type": "code",
   "execution_count": null,
   "metadata": {},
   "outputs": [],
   "source": []
  },
  {
   "cell_type": "markdown",
   "metadata": {},
   "source": [
    "---"
   ]
  },
  {
   "cell_type": "markdown",
   "metadata": {},
   "source": [
    "#### `df_hi` : Table : Request, HI, Labos, Users"
   ]
  },
  {
   "cell_type": "code",
   "execution_count": null,
   "metadata": {
    "ExecuteTime": {
     "end_time": "2020-07-23T09:14:36.407409Z",
     "start_time": "2020-07-23T09:14:36.095674Z"
    }
   },
   "outputs": [],
   "source": [
    "#df_hi = pd.read_csv(path_output+\"Req_HI_Lab_Users.csv\")\n",
    "#df_hi.head(3)"
   ]
  },
  {
   "cell_type": "code",
   "execution_count": null,
   "metadata": {},
   "outputs": [],
   "source": []
  }
 ],
 "metadata": {
  "hide_input": false,
  "kernelspec": {
   "display_name": "Python 3",
   "language": "python",
   "name": "python3"
  },
  "language_info": {
   "codemirror_mode": {
    "name": "ipython",
    "version": 3
   },
   "file_extension": ".py",
   "mimetype": "text/x-python",
   "name": "python",
   "nbconvert_exporter": "python",
   "pygments_lexer": "ipython3",
   "version": "3.7.4"
  },
  "toc": {
   "base_numbering": 1,
   "nav_menu": {},
   "number_sections": true,
   "sideBar": true,
   "skip_h1_title": false,
   "title_cell": "Table of Contents",
   "title_sidebar": "Contents",
   "toc_cell": false,
   "toc_position": {
    "height": "calc(100% - 180px)",
    "left": "10px",
    "top": "150px",
    "width": "299px"
   },
   "toc_section_display": true,
   "toc_window_display": false
  },
  "varInspector": {
   "cols": {
    "lenName": 16,
    "lenType": 16,
    "lenVar": 40
   },
   "kernels_config": {
    "python": {
     "delete_cmd_postfix": "",
     "delete_cmd_prefix": "del ",
     "library": "var_list.py",
     "varRefreshCmd": "print(var_dic_list())"
    },
    "r": {
     "delete_cmd_postfix": ") ",
     "delete_cmd_prefix": "rm(",
     "library": "var_list.r",
     "varRefreshCmd": "cat(var_dic_list()) "
    }
   },
   "types_to_exclude": [
    "module",
    "function",
    "builtin_function_or_method",
    "instance",
    "_Feature"
   ],
   "window_display": false
  }
 },
 "nbformat": 4,
 "nbformat_minor": 4
}
