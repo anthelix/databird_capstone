{
 "cells": [
  {
   "cell_type": "markdown",
   "metadata": {},
   "source": [
    "# \"Give me les commandes par labos\"\n",
    "\n",
    "Jointure entre les tables REQUEST, LABORATORY, HEALTHINSTITUTION, OPERATINGBLOCK et FOSUSERUSER \n",
    "\n",
    "Par Fahmi le 22/07/2020"
   ]
  },
  {
   "cell_type": "markdown",
   "metadata": {},
   "source": [
    "### input and output du notebook\n",
    "- Input\n",
    "    * Request.csv\n",
    "    * OperatingBlock.csv\n",
    "    * HealthInstitution.csv\n",
    "    * Laboratory.csv\n",
    "    * FosUserUser.csv\n",
    "- Ouput\n",
    "    * Req_HI_Lab_Users.csv\n"
   ]
  },
  {
   "cell_type": "markdown",
   "metadata": {},
   "source": [
    "# Imports and settings"
   ]
  },
  {
   "cell_type": "code",
   "execution_count": null,
   "metadata": {
    "ExecuteTime": {
     "end_time": "2020-07-21T15:37:15.096123Z",
     "start_time": "2020-07-21T15:37:06.530068Z"
    },
    "hide_input": false,
    "scrolled": true
   },
   "outputs": [],
   "source": [
    "import pandas as pd\n",
    "#from dataprep.eda import plot\n",
    "import missingno as msno\n",
    "#from pandas_profiling import ProfileReport"
   ]
  },
  {
   "cell_type": "code",
   "execution_count": null,
   "metadata": {
    "ExecuteTime": {
     "end_time": "2020-07-22T11:48:34.163876Z",
     "start_time": "2020-07-22T11:48:34.147770Z"
    }
   },
   "outputs": [],
   "source": [
    "#Display all the columns\n",
    "pd.set_option('display.max_columns', None)"
   ]
  },
  {
   "cell_type": "markdown",
   "metadata": {},
   "source": [
    "# Data loading"
   ]
  },
  {
   "cell_type": "code",
   "execution_count": null,
   "metadata": {},
   "outputs": [],
   "source": [
    "path_input='./../data/data_raw/'\n",
    "path_output='./../data/data_created/' "
   ]
  },
  {
   "cell_type": "code",
   "execution_count": null,
   "metadata": {
    "ExecuteTime": {
     "end_time": "2020-07-22T16:00:17.995883Z",
     "start_time": "2020-07-22T16:00:17.563709Z"
    }
   },
   "outputs": [],
   "source": [
    "df_rq = pd.read_csv(path_input+\"Request.csv\")\n",
    "df_lab = pd.read_csv(path_input+\"Laboratory.csv\")\n",
    "df_hi = pd.read_csv(path_input+\"HealthInstitution.csv\")\n",
    "df_ob = pd.read_csv(path_input+\"OperatingBlock.csv\")\n",
    "df_user = pd.read_csv(path_input+\"FosUserUser.csv\", low_memory=False)"
   ]
  },
  {
   "cell_type": "markdown",
   "metadata": {},
   "source": [
    "# Columns selection"
   ]
  },
  {
   "cell_type": "code",
   "execution_count": null,
   "metadata": {
    "ExecuteTime": {
     "end_time": "2020-07-22T16:00:23.862052Z",
     "start_time": "2020-07-22T16:00:23.851652Z"
    },
    "hide_input": false
   },
   "outputs": [],
   "source": [
    "df = df_rq[['ID', 'Chosen Laboratory ID', 'Date', 'Date Receipt', 'Date Take Back', 'Deleted', \n",
    "            'Deleted Date', 'End Date', 'Expected Material',\n",
    "            'Laboratory Set ID', 'Laboratory Set Is Here',\n",
    "            'Location ID', 'Operating Block User ID']]"
   ]
  },
  {
   "cell_type": "code",
   "execution_count": null,
   "metadata": {
    "ExecuteTime": {
     "end_time": "2020-07-22T16:00:24.615190Z",
     "start_time": "2020-07-22T16:00:24.602107Z"
    }
   },
   "outputs": [],
   "source": [
    "df_lab = df_lab[['ID','Name','Bloc ID']]"
   ]
  },
  {
   "cell_type": "code",
   "execution_count": null,
   "metadata": {
    "ExecuteTime": {
     "end_time": "2020-07-22T16:00:25.084498Z",
     "start_time": "2020-07-22T16:00:25.078799Z"
    }
   },
   "outputs": [],
   "source": [
    "df_hi=df_hi[[\"ID\",\"Name\",\"City\",\"Zip Code\"]]"
   ]
  },
  {
   "cell_type": "code",
   "execution_count": null,
   "metadata": {
    "ExecuteTime": {
     "end_time": "2020-07-22T16:00:25.416042Z",
     "start_time": "2020-07-22T16:00:25.406841Z"
    }
   },
   "outputs": [],
   "source": [
    "df_ob = df_ob[[\"ID\", \"Name\", \"City\", \"Health Institution ID\", \"Zip Code\"]]"
   ]
  },
  {
   "cell_type": "code",
   "execution_count": null,
   "metadata": {
    "ExecuteTime": {
     "end_time": "2020-07-22T16:00:25.769241Z",
     "start_time": "2020-07-22T16:00:25.753874Z"
    }
   },
   "outputs": [],
   "source": [
    "df_user = df_user[[\"ID\", \"Created At\", \"Dt Y Pe\",\n",
    "                   \"Laboratory ID\", \"Last Login\", \"Operating Block ID\", \"Surgeon\"]]"
   ]
  },
  {
   "cell_type": "markdown",
   "metadata": {},
   "source": [
    "# Merging"
   ]
  },
  {
   "cell_type": "code",
   "execution_count": null,
   "metadata": {
    "ExecuteTime": {
     "end_time": "2020-07-22T16:00:27.993644Z",
     "start_time": "2020-07-22T16:00:27.984641Z"
    }
   },
   "outputs": [],
   "source": [
    "df.shape"
   ]
  },
  {
   "cell_type": "code",
   "execution_count": null,
   "metadata": {
    "ExecuteTime": {
     "end_time": "2020-07-22T16:00:30.875988Z",
     "start_time": "2020-07-22T16:00:30.822020Z"
    }
   },
   "outputs": [],
   "source": [
    "df = df.merge(df_lab, left_on=\"Chosen Laboratory ID\", right_on=\"ID\")"
   ]
  },
  {
   "cell_type": "code",
   "execution_count": null,
   "metadata": {
    "ExecuteTime": {
     "end_time": "2020-07-22T16:00:31.199415Z",
     "start_time": "2020-07-22T16:00:31.193040Z"
    },
    "scrolled": false
   },
   "outputs": [],
   "source": [
    "df.shape"
   ]
  },
  {
   "cell_type": "code",
   "execution_count": null,
   "metadata": {
    "ExecuteTime": {
     "end_time": "2020-07-22T16:00:31.679750Z",
     "start_time": "2020-07-22T16:00:31.647507Z"
    }
   },
   "outputs": [],
   "source": [
    "df = df.rename(columns={'ID_x': 'ID_rq', 'ID_y': 'ID_lab'})"
   ]
  },
  {
   "cell_type": "code",
   "execution_count": null,
   "metadata": {
    "ExecuteTime": {
     "end_time": "2020-07-22T16:00:32.131882Z",
     "start_time": "2020-07-22T16:00:32.079904Z"
    }
   },
   "outputs": [],
   "source": [
    "df = df.merge(df_user, left_on=\"Operating Block User ID\", right_on=\"ID\")"
   ]
  },
  {
   "cell_type": "code",
   "execution_count": null,
   "metadata": {
    "ExecuteTime": {
     "end_time": "2020-07-22T16:00:32.497396Z",
     "start_time": "2020-07-22T16:00:32.451084Z"
    }
   },
   "outputs": [],
   "source": [
    "df = df.rename(columns={'ID': 'ID_user'})"
   ]
  },
  {
   "cell_type": "code",
   "execution_count": null,
   "metadata": {
    "ExecuteTime": {
     "end_time": "2020-07-22T16:00:32.906361Z",
     "start_time": "2020-07-22T16:00:32.828325Z"
    }
   },
   "outputs": [],
   "source": [
    "df = df.merge(df_ob, left_on=\"Operating Block ID\", right_on=\"ID\")"
   ]
  },
  {
   "cell_type": "code",
   "execution_count": null,
   "metadata": {
    "ExecuteTime": {
     "end_time": "2020-07-22T16:00:33.462666Z",
     "start_time": "2020-07-22T16:00:33.417311Z"
    }
   },
   "outputs": [],
   "source": [
    "df = df.rename(columns={'Name_x': 'Name_lab',\n",
    "                        'Name_y': 'Name_ob', 'ID': 'ID_ob'})"
   ]
  },
  {
   "cell_type": "code",
   "execution_count": null,
   "metadata": {
    "ExecuteTime": {
     "end_time": "2020-07-22T16:00:33.895903Z",
     "start_time": "2020-07-22T16:00:33.800994Z"
    }
   },
   "outputs": [],
   "source": [
    "df = df.merge(df_hi, left_on=\"Health Institution ID\", right_on=\"ID\")"
   ]
  },
  {
   "cell_type": "code",
   "execution_count": null,
   "metadata": {
    "ExecuteTime": {
     "end_time": "2020-07-22T16:00:34.248163Z",
     "start_time": "2020-07-22T16:00:34.194765Z"
    }
   },
   "outputs": [],
   "source": [
    "df = df.rename(columns={'City_x': 'City_ob', 'Zip Code_x': 'Zip Code_ob',\n",
    "                        'City_y': 'City_hi', 'Zip Code_y': 'Zip Code_hi',\n",
    "                        'Name': 'Name_hi', 'ID': 'ID_hi'})"
   ]
  },
  {
   "cell_type": "code",
   "execution_count": null,
   "metadata": {
    "ExecuteTime": {
     "end_time": "2020-07-22T16:00:34.622116Z",
     "start_time": "2020-07-22T16:00:34.527830Z"
    }
   },
   "outputs": [],
   "source": [
    "df"
   ]
  },
  {
   "cell_type": "markdown",
   "metadata": {},
   "source": [
    "# NaN Exploration"
   ]
  },
  {
   "cell_type": "code",
   "execution_count": null,
   "metadata": {
    "ExecuteTime": {
     "end_time": "2020-07-22T16:00:40.821439Z",
     "start_time": "2020-07-22T16:00:39.973916Z"
    },
    "scrolled": false
   },
   "outputs": [],
   "source": [
    "msno.matrix(df)"
   ]
  },
  {
   "cell_type": "code",
   "execution_count": null,
   "metadata": {
    "ExecuteTime": {
     "end_time": "2020-07-22T16:11:55.854893Z",
     "start_time": "2020-07-22T16:11:55.792668Z"
    }
   },
   "outputs": [],
   "source": [
    "#Drop empty columns\n",
    "df_filter = df.dropna(how='all', axis=1)"
   ]
  },
  {
   "cell_type": "code",
   "execution_count": null,
   "metadata": {
    "ExecuteTime": {
     "end_time": "2020-07-22T16:11:57.329573Z",
     "start_time": "2020-07-22T16:11:57.322763Z"
    }
   },
   "outputs": [],
   "source": [
    "df_filter.shape"
   ]
  },
  {
   "cell_type": "code",
   "execution_count": null,
   "metadata": {
    "ExecuteTime": {
     "end_time": "2020-07-22T16:11:58.932674Z",
     "start_time": "2020-07-22T16:11:58.879810Z"
    }
   },
   "outputs": [],
   "source": [
    "#Drop columns w/ more than 25% NA\n",
    "thresh = len(df)*0.25\n",
    "df_filter = df.dropna(how='all', axis=1, thresh=thresh)"
   ]
  },
  {
   "cell_type": "code",
   "execution_count": null,
   "metadata": {
    "ExecuteTime": {
     "end_time": "2020-07-22T16:12:44.334075Z",
     "start_time": "2020-07-22T16:12:44.325855Z"
    }
   },
   "outputs": [],
   "source": [
    "df_filter.shape"
   ]
  },
  {
   "cell_type": "code",
   "execution_count": null,
   "metadata": {
    "ExecuteTime": {
     "end_time": "2020-07-22T16:12:47.028312Z",
     "start_time": "2020-07-22T16:12:46.259551Z"
    }
   },
   "outputs": [],
   "source": [
    "msno.matrix(df_filter)"
   ]
  },
  {
   "cell_type": "code",
   "execution_count": null,
   "metadata": {
    "ExecuteTime": {
     "end_time": "2020-07-22T12:44:30.182240Z",
     "start_time": "2020-07-22T12:44:29.977535Z"
    }
   },
   "outputs": [],
   "source": [
    "df_filter.sample(10)"
   ]
  },
  {
   "cell_type": "code",
   "execution_count": null,
   "metadata": {
    "ExecuteTime": {
     "end_time": "2020-07-22T16:13:56.254890Z",
     "start_time": "2020-07-22T16:13:07.917809Z"
    }
   },
   "outputs": [],
   "source": [
    "#ProfileReport(df_filter)"
   ]
  },
  {
   "cell_type": "code",
   "execution_count": null,
   "metadata": {
    "ExecuteTime": {
     "end_time": "2020-07-22T16:16:01.913799Z",
     "start_time": "2020-07-22T16:16:00.949020Z"
    }
   },
   "outputs": [],
   "source": [
    "df_filter.to_csv(path_output+\"Req_HI_Lab_Users.csv\")"
   ]
  },
  {
   "cell_type": "code",
   "execution_count": null,
   "metadata": {},
   "outputs": [],
   "source": []
  }
 ],
 "metadata": {
  "kernelspec": {
   "display_name": "Python 3",
   "language": "python",
   "name": "python3"
  },
  "language_info": {
   "codemirror_mode": {
    "name": "ipython",
    "version": 3
   },
   "file_extension": ".py",
   "mimetype": "text/x-python",
   "name": "python",
   "nbconvert_exporter": "python",
   "pygments_lexer": "ipython3",
   "version": "3.7.4"
  },
  "toc": {
   "base_numbering": 1,
   "nav_menu": {},
   "number_sections": false,
   "sideBar": true,
   "skip_h1_title": false,
   "title_cell": "Table of Contents",
   "title_sidebar": "Contents",
   "toc_cell": false,
   "toc_position": {},
   "toc_section_display": true,
   "toc_window_display": true
  },
  "varInspector": {
   "cols": {
    "lenName": 16,
    "lenType": 16,
    "lenVar": 40
   },
   "kernels_config": {
    "python": {
     "delete_cmd_postfix": "",
     "delete_cmd_prefix": "del ",
     "library": "var_list.py",
     "varRefreshCmd": "print(var_dic_list())"
    },
    "r": {
     "delete_cmd_postfix": ") ",
     "delete_cmd_prefix": "rm(",
     "library": "var_list.r",
     "varRefreshCmd": "cat(var_dic_list()) "
    }
   },
   "types_to_exclude": [
    "module",
    "function",
    "builtin_function_or_method",
    "instance",
    "_Feature"
   ],
   "window_display": false
  }
 },
 "nbformat": 4,
 "nbformat_minor": 4
}
