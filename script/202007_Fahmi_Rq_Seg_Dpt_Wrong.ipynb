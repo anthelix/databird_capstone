{
 "cells": [
  {
   "cell_type": "markdown",
   "metadata": {},
   "source": [
    "# \"Give me\" le nombre de requêtes par segment anatomique par département"
   ]
  },
  {
   "cell_type": "code",
   "execution_count": null,
   "metadata": {
    "ExecuteTime": {
     "end_time": "2020-07-30T08:57:12.563453Z",
     "start_time": "2020-07-30T08:57:05.327446Z"
    }
   },
   "outputs": [],
   "source": [
    "import pandas as pd\n",
    "from dataprep.eda import plot\n",
    "import missingno as msno\n",
    "from pandas_profiling import ProfileReport\n",
    "import matplotlib.pyplot as plt\n",
    "import seaborn as sns\n",
    "\n",
    "# Display all the columns\n",
    "pd.set_option('display.max_columns', None)"
   ]
  },
  {
   "cell_type": "code",
   "execution_count": null,
   "metadata": {
    "ExecuteTime": {
     "end_time": "2020-07-30T08:57:12.756819Z",
     "start_time": "2020-07-30T08:57:12.567411Z"
    }
   },
   "outputs": [],
   "source": [
    "df = pd.read_csv(\"../outputs/SurgeonSpecilaity.csv\")"
   ]
  },
  {
   "cell_type": "code",
   "execution_count": null,
   "metadata": {
    "ExecuteTime": {
     "end_time": "2020-07-30T08:57:12.859218Z",
     "start_time": "2020-07-30T08:57:12.761532Z"
    }
   },
   "outputs": [],
   "source": [
    "df_dates = pd.read_csv(\"../outputs/Dates.csv\")"
   ]
  },
  {
   "cell_type": "code",
   "execution_count": null,
   "metadata": {
    "ExecuteTime": {
     "end_time": "2020-07-30T08:57:12.884902Z",
     "start_time": "2020-07-30T08:57:12.861399Z"
    }
   },
   "outputs": [],
   "source": [
    "df.drop('Unnamed: 0', axis=1, inplace=True)"
   ]
  },
  {
   "cell_type": "code",
   "execution_count": null,
   "metadata": {
    "ExecuteTime": {
     "end_time": "2020-07-30T08:57:12.911317Z",
     "start_time": "2020-07-30T08:57:12.893007Z"
    }
   },
   "outputs": [],
   "source": [
    "df_dates.drop('Unnamed: 0', axis=1, inplace=True)"
   ]
  },
  {
   "cell_type": "code",
   "execution_count": null,
   "metadata": {
    "ExecuteTime": {
     "end_time": "2020-07-30T08:57:12.935318Z",
     "start_time": "2020-07-30T08:57:12.914069Z"
    }
   },
   "outputs": [],
   "source": [
    "df = df.merge(df_dates, left_index=True, right_index=True)"
   ]
  },
  {
   "cell_type": "code",
   "execution_count": null,
   "metadata": {
    "ExecuteTime": {
     "end_time": "2020-07-30T08:57:12.993743Z",
     "start_time": "2020-07-30T08:57:12.941581Z"
    }
   },
   "outputs": [],
   "source": [
    "df = df[df[\"Name\"] != \"TEST\"]"
   ]
  },
  {
   "cell_type": "code",
   "execution_count": null,
   "metadata": {
    "ExecuteTime": {
     "end_time": "2020-07-30T08:57:13.006252Z",
     "start_time": "2020-07-30T08:57:13.000652Z"
    }
   },
   "outputs": [],
   "source": [
    "#df.drop('Dt Y Pe', axis=1, inplace=True)"
   ]
  },
  {
   "cell_type": "code",
   "execution_count": null,
   "metadata": {
    "ExecuteTime": {
     "end_time": "2020-07-30T08:57:13.017683Z",
     "start_time": "2020-07-30T08:57:13.013841Z"
    }
   },
   "outputs": [],
   "source": [
    "# Dropping 'Centre hospitalier du Pélican' -> Testing rows\n",
    "#df = df[df['Name_hi'] != 'Centre hospitalier du Pélican']"
   ]
  },
  {
   "cell_type": "code",
   "execution_count": null,
   "metadata": {
    "ExecuteTime": {
     "end_time": "2020-07-30T08:57:13.035469Z",
     "start_time": "2020-07-30T08:57:13.023572Z"
    }
   },
   "outputs": [],
   "source": [
    "#df = df[df['Name_lab'] != 'TEST']"
   ]
  },
  {
   "cell_type": "code",
   "execution_count": null,
   "metadata": {
    "ExecuteTime": {
     "end_time": "2020-07-30T08:57:13.228412Z",
     "start_time": "2020-07-30T08:57:13.040012Z"
    }
   },
   "outputs": [],
   "source": [
    "df['Date'] = df['Date'].str[:10]\n",
    "df['Date'] = pd.to_datetime(df['Date'], format='%Y/%m/%d')"
   ]
  },
  {
   "cell_type": "code",
   "execution_count": null,
   "metadata": {
    "ExecuteTime": {
     "end_time": "2020-07-30T08:57:13.297799Z",
     "start_time": "2020-07-30T08:57:13.246688Z"
    }
   },
   "outputs": [],
   "source": [
    "seg = pd.read_csv(\"../outputs/segment_hi2.csv\", sep=\";\")"
   ]
  },
  {
   "cell_type": "code",
   "execution_count": null,
   "metadata": {
    "ExecuteTime": {
     "end_time": "2020-07-30T08:57:13.331876Z",
     "start_time": "2020-07-30T08:57:13.302558Z"
    }
   },
   "outputs": [],
   "source": [
    "tmp = seg.groupby([\"Departement\",\"SegmentAnat\"]).agg('count')[\"ID_rq\"]"
   ]
  },
  {
   "cell_type": "code",
   "execution_count": null,
   "metadata": {
    "ExecuteTime": {
     "end_time": "2020-07-30T08:57:13.377020Z",
     "start_time": "2020-07-30T08:57:13.343817Z"
    }
   },
   "outputs": [],
   "source": [
    "tmp = tmp.to_frame()"
   ]
  },
  {
   "cell_type": "code",
   "execution_count": null,
   "metadata": {
    "ExecuteTime": {
     "end_time": "2020-07-30T08:57:13.425310Z",
     "start_time": "2020-07-30T08:57:13.380370Z"
    }
   },
   "outputs": [],
   "source": [
    "tmp = tmp.rename({\"ID_rq\":\"Nb_Rq\"}, axis=1)"
   ]
  },
  {
   "cell_type": "code",
   "execution_count": null,
   "metadata": {
    "ExecuteTime": {
     "end_time": "2020-07-30T08:57:13.517291Z",
     "start_time": "2020-07-30T08:57:13.430899Z"
    }
   },
   "outputs": [],
   "source": [
    "tmp"
   ]
  },
  {
   "cell_type": "code",
   "execution_count": null,
   "metadata": {
    "ExecuteTime": {
     "end_time": "2020-07-30T08:57:13.585907Z",
     "start_time": "2020-07-30T08:57:13.580053Z"
    }
   },
   "outputs": [],
   "source": [
    "# tmp.to_csv(\"../outputs/segment_dpt.csv\")"
   ]
  }
 ],
 "metadata": {
  "kernelspec": {
   "display_name": "Python 3",
   "language": "python",
   "name": "python3"
  },
  "language_info": {
   "codemirror_mode": {
    "name": "ipython",
    "version": 3
   },
   "file_extension": ".py",
   "mimetype": "text/x-python",
   "name": "python",
   "nbconvert_exporter": "python",
   "pygments_lexer": "ipython3",
   "version": "3.7.4"
  },
  "toc": {
   "base_numbering": 1,
   "nav_menu": {},
   "number_sections": true,
   "sideBar": true,
   "skip_h1_title": false,
   "title_cell": "Table of Contents",
   "title_sidebar": "Contents",
   "toc_cell": false,
   "toc_position": {},
   "toc_section_display": true,
   "toc_window_display": false
  },
  "varInspector": {
   "cols": {
    "lenName": 16,
    "lenType": 16,
    "lenVar": 40
   },
   "kernels_config": {
    "python": {
     "delete_cmd_postfix": "",
     "delete_cmd_prefix": "del ",
     "library": "var_list.py",
     "varRefreshCmd": "print(var_dic_list())"
    },
    "r": {
     "delete_cmd_postfix": ") ",
     "delete_cmd_prefix": "rm(",
     "library": "var_list.r",
     "varRefreshCmd": "cat(var_dic_list()) "
    }
   },
   "types_to_exclude": [
    "module",
    "function",
    "builtin_function_or_method",
    "instance",
    "_Feature"
   ],
   "window_display": false
  }
 },
 "nbformat": 4,
 "nbformat_minor": 4
}
