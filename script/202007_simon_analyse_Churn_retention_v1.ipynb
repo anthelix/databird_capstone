{
 "cells": [
  {
   "cell_type": "markdown",
   "metadata": {
    "toc": true
   },
   "source": [
    "<h1>Table of Contents<span class=\"tocSkip\"></span></h1>\n",
    "<div class=\"toc\"><ul class=\"toc-item\"></ul></div>"
   ]
  },
  {
   "cell_type": "code",
   "execution_count": null,
   "metadata": {
    "ExecuteTime": {
     "end_time": "2020-07-28T09:06:57.457972Z",
     "start_time": "2020-07-28T09:06:06.214071Z"
    }
   },
   "outputs": [],
   "source": [
    "import pandas as pd\n",
    "import datetime as dt\n",
    "import numpy as np\n",
    "import matplotlib\n",
    "import matplotlib.pyplot as plt\n",
    "import seaborn as sns"
   ]
  },
  {
   "cell_type": "code",
   "execution_count": null,
   "metadata": {
    "ExecuteTime": {
     "end_time": "2020-07-28T09:07:01.368174Z",
     "start_time": "2020-07-28T09:07:01.168954Z"
    }
   },
   "outputs": [],
   "source": [
    "#load file\n",
    "date_columns = ['Date', 'Begin', 'End']\n",
    "df_clean = pd.read_csv('HistoryCa.csv', index_col=[0], parse_dates=date_columns)"
   ]
  },
  {
   "cell_type": "code",
   "execution_count": null,
   "metadata": {
    "ExecuteTime": {
     "end_time": "2020-07-28T09:07:02.340987Z",
     "start_time": "2020-07-28T09:07:02.184956Z"
    }
   },
   "outputs": [],
   "source": [
    "df_clean.head()"
   ]
  },
  {
   "cell_type": "code",
   "execution_count": null,
   "metadata": {
    "ExecuteTime": {
     "end_time": "2020-07-28T09:07:06.276940Z",
     "start_time": "2020-07-28T09:07:06.005854Z"
    }
   },
   "outputs": [],
   "source": [
    "df_clean.value_counts()"
   ]
  },
  {
   "cell_type": "code",
   "execution_count": null,
   "metadata": {
    "ExecuteTime": {
     "end_time": "2020-07-28T09:07:08.479792Z",
     "start_time": "2020-07-28T09:07:08.468012Z"
    }
   },
   "outputs": [],
   "source": [
    "df_clean.groupby('Year_Begin')['Client'].count()"
   ]
  },
  {
   "cell_type": "code",
   "execution_count": null,
   "metadata": {
    "ExecuteTime": {
     "end_time": "2020-07-28T09:07:11.626483Z",
     "start_time": "2020-07-28T09:07:11.548703Z"
    }
   },
   "outputs": [],
   "source": [
    "#Evo CA par HI\n",
    "\n",
    "df_clean.groupby('Client')['HT'].sum()"
   ]
  },
  {
   "cell_type": "code",
   "execution_count": null,
   "metadata": {
    "ExecuteTime": {
     "end_time": "2020-07-28T09:07:15.280366Z",
     "start_time": "2020-07-28T09:07:14.662671Z"
    }
   },
   "outputs": [],
   "source": [
    "table = pd.pivot_table(df_clean, values='HT', index=['Client'], columns=['Year_Begin'], aggfunc=np.sum, fill_value=0)\n",
    "\n",
    "new_df = pd.DataFrame(table.to_records()).rename(columns={'c':'index'})\n",
    "new_df"
   ]
  },
  {
   "cell_type": "code",
   "execution_count": null,
   "metadata": {
    "ExecuteTime": {
     "end_time": "2020-07-28T09:07:20.216391Z",
     "start_time": "2020-07-28T09:07:19.243606Z"
    }
   },
   "outputs": [],
   "source": [
    "new_df['2018var%'] = ((new_df['2018'] / new_df['2017']) - 1).round(2)\n",
    "new_df['2019var%'] = ((new_df['2019'] / new_df['2018']) - 1).round(2)\n",
    "new_df['2020var%'] = ((new_df['2020'] / new_df['2019']) - 1).round(2)"
   ]
  },
  {
   "cell_type": "code",
   "execution_count": null,
   "metadata": {
    "ExecuteTime": {
     "end_time": "2020-07-28T09:07:20.963456Z",
     "start_time": "2020-07-28T09:07:20.958660Z"
    }
   },
   "outputs": [],
   "source": [
    "new_df.columns"
   ]
  },
  {
   "cell_type": "code",
   "execution_count": null,
   "metadata": {
    "ExecuteTime": {
     "end_time": "2020-07-28T09:07:23.149470Z",
     "start_time": "2020-07-28T09:07:23.101677Z"
    }
   },
   "outputs": [],
   "source": [
    "new_df"
   ]
  },
  {
   "cell_type": "code",
   "execution_count": null,
   "metadata": {
    "ExecuteTime": {
     "end_time": "2020-07-28T09:08:50.636999Z",
     "start_time": "2020-07-28T09:08:50.252088Z"
    }
   },
   "outputs": [],
   "source": [
    "new_df.to_csv(\"20200728_simon_CAperClient\")"
   ]
  },
  {
   "cell_type": "code",
   "execution_count": null,
   "metadata": {},
   "outputs": [],
   "source": []
  },
  {
   "cell_type": "code",
   "execution_count": null,
   "metadata": {},
   "outputs": [],
   "source": []
  },
  {
   "cell_type": "code",
   "execution_count": null,
   "metadata": {},
   "outputs": [],
   "source": []
  },
  {
   "cell_type": "code",
   "execution_count": null,
   "metadata": {
    "ExecuteTime": {
     "end_time": "2020-07-27T14:00:46.547126Z",
     "start_time": "2020-07-27T14:00:46.529604Z"
    }
   },
   "outputs": [],
   "source": [
    "new_df['2018var%'] = (new_df['2018var%'] * 100).astype(str) + '%'\n",
    "new_df['2019var%'] = (new_df['2019var%'] * 100).astype(str) + '%'\n",
    "new_df['2020var%'] = (new_df['2020var%'] * 100).astype(str) + '%'"
   ]
  },
  {
   "cell_type": "code",
   "execution_count": null,
   "metadata": {
    "ExecuteTime": {
     "end_time": "2020-07-27T14:00:47.186899Z",
     "start_time": "2020-07-27T14:00:47.145564Z"
    }
   },
   "outputs": [],
   "source": [
    "new_df"
   ]
  },
  {
   "cell_type": "code",
   "execution_count": null,
   "metadata": {
    "ExecuteTime": {
     "end_time": "2020-07-27T14:03:18.920122Z",
     "start_time": "2020-07-27T14:03:18.881845Z"
    }
   },
   "outputs": [],
   "source": [
    "new_df2 = new_df[['Client', '2017', '2018', '2018var%', '2019', '2019var%', '2020', '2020var%']]"
   ]
  },
  {
   "cell_type": "code",
   "execution_count": null,
   "metadata": {
    "ExecuteTime": {
     "end_time": "2020-07-27T14:03:23.501592Z",
     "start_time": "2020-07-27T14:03:23.353967Z"
    }
   },
   "outputs": [],
   "source": [
    "new_df2"
   ]
  },
  {
   "cell_type": "code",
   "execution_count": null,
   "metadata": {},
   "outputs": [],
   "source": []
  }
 ],
 "metadata": {
  "kernelspec": {
   "display_name": "Python 3",
   "language": "python",
   "name": "python3"
  },
  "language_info": {
   "codemirror_mode": {
    "name": "ipython",
    "version": 3
   },
   "file_extension": ".py",
   "mimetype": "text/x-python",
   "name": "python",
   "nbconvert_exporter": "python",
   "pygments_lexer": "ipython3",
   "version": "3.7.4"
  },
  "toc": {
   "base_numbering": 1,
   "nav_menu": {},
   "number_sections": true,
   "sideBar": true,
   "skip_h1_title": true,
   "title_cell": "Table of Contents",
   "title_sidebar": "Contents",
   "toc_cell": true,
   "toc_position": {},
   "toc_section_display": true,
   "toc_window_display": true
  },
  "varInspector": {
   "cols": {
    "lenName": 16,
    "lenType": 16,
    "lenVar": 40
   },
   "kernels_config": {
    "python": {
     "delete_cmd_postfix": "",
     "delete_cmd_prefix": "del ",
     "library": "var_list.py",
     "varRefreshCmd": "print(var_dic_list())"
    },
    "r": {
     "delete_cmd_postfix": ") ",
     "delete_cmd_prefix": "rm(",
     "library": "var_list.r",
     "varRefreshCmd": "cat(var_dic_list()) "
    }
   },
   "types_to_exclude": [
    "module",
    "function",
    "builtin_function_or_method",
    "instance",
    "_Feature"
   ],
   "window_display": false
  }
 },
 "nbformat": 4,
 "nbformat_minor": 4
}
