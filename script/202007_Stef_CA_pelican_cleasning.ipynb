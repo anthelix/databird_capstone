{
 "cells": [
  {
   "cell_type": "markdown",
   "metadata": {
    "toc": true
   },
   "source": [
    "<h1>Table of Contents<span class=\"tocSkip\"></span></h1>\n",
    "<div class=\"toc\"><ul class=\"toc-item\"><li><span><a href=\"#Clean-the-'city'-column\" data-toc-modified-id=\"Clean-the-'city'-column-1\"><span class=\"toc-item-num\">1&nbsp;&nbsp;</span>Clean the 'city' column</a></span></li><li><span><a href=\"#Clean-the-'zip'-column\" data-toc-modified-id=\"Clean-the-'zip'-column-2\"><span class=\"toc-item-num\">2&nbsp;&nbsp;</span>Clean the 'zip' column</a></span></li><li><span><a href=\"#Clean-the-'SendFacture'-column\" data-toc-modified-id=\"Clean-the-'SendFacture'-column-3\"><span class=\"toc-item-num\">3&nbsp;&nbsp;</span>Clean the 'SendFacture' column</a></span></li><li><span><a href=\"#Prepare-date-to-stack-overflow\" data-toc-modified-id=\"Prepare-date-to-stack-overflow-4\"><span class=\"toc-item-num\">4&nbsp;&nbsp;</span>Prepare date to stack overflow</a></span></li></ul></div>"
   ]
  },
  {
   "cell_type": "code",
   "execution_count": null,
   "metadata": {},
   "outputs": [],
   "source": [
    "import pandas as pd\n",
    "from pandas import Timestamp\n",
    "import re\n",
    "import matplotlib.pyplot as plt\n",
    "import datetime\n"
   ]
  },
  {
   "cell_type": "code",
   "execution_count": null,
   "metadata": {},
   "outputs": [],
   "source": [
    "path_input='./../data/data_raw/'\n",
    "path_output='./../data/data_created/' \n",
    "#path =''\n",
    "#pd.set_option('display.max_colwidth', None)\n",
    "pd.set_option('display.expand_frame_repr', False)"
   ]
  },
  {
   "cell_type": "code",
   "execution_count": null,
   "metadata": {},
   "outputs": [],
   "source": [
    "#lod file\n",
    "df_fact_raw = pd.read_excel(path_input+'factures.xls')"
   ]
  },
  {
   "cell_type": "code",
   "execution_count": null,
   "metadata": {},
   "outputs": [],
   "source": [
    "df_fact_raw.describe()"
   ]
  },
  {
   "cell_type": "code",
   "execution_count": null,
   "metadata": {},
   "outputs": [],
   "source": [
    "df_fact_raw.info()\n"
   ]
  },
  {
   "cell_type": "code",
   "execution_count": null,
   "metadata": {},
   "outputs": [],
   "source": []
  },
  {
   "cell_type": "code",
   "execution_count": null,
   "metadata": {},
   "outputs": [],
   "source": [
    "df_fact_raw.head(2)"
   ]
  },
  {
   "cell_type": "code",
   "execution_count": null,
   "metadata": {},
   "outputs": [],
   "source": [
    "df_fact = df_fact_raw.copy()\n",
    "df_fact.drop('Adresse du client', axis=1, inplace=True)"
   ]
  },
  {
   "cell_type": "code",
   "execution_count": null,
   "metadata": {},
   "outputs": [],
   "source": [
    "\n",
    "df_fact= df_fact.rename(columns={'Numero de facture': 'FactureID', \\\n",
    "                        'Titre': 'Subscription Period' , \\\n",
    "                        'Montant HT': 'HT', \\\n",
    "                        'Montant TTC' : 'TTC', \\\n",
    "                        'Taux de TVA' : 'TxTva', \\\n",
    "                        'Montant TVA': 'TVA', \\\n",
    "                        'Facture envoyée le': 'SendFacture' ,\\\n",
    "                        'Code postal du client' : 'Zip', \\\n",
    "                        'Ville du client' : 'City'})\n",
    "df_fact['Zip'] = df_fact['Zip'].fillna(0).astype(int)"
   ]
  },
  {
   "cell_type": "code",
   "execution_count": null,
   "metadata": {},
   "outputs": [],
   "source": [
    "df_fact = df_fact.sort_values(by='Client', ascending=False)"
   ]
  },
  {
   "cell_type": "code",
   "execution_count": null,
   "metadata": {},
   "outputs": [],
   "source": [
    "df_fact.loc[55, 'Subscription Period'] = 'Abonnement Arsenal chirurgical : du 01/07/2019 au 30/06/2020'\n"
   ]
  },
  {
   "cell_type": "code",
   "execution_count": null,
   "metadata": {},
   "outputs": [],
   "source": []
  },
  {
   "cell_type": "code",
   "execution_count": null,
   "metadata": {},
   "outputs": [],
   "source": [
    "df_fact.loc[90, 'HT'] = 5400\n",
    "df_fact.drop(93, axis=0, inplace=True)"
   ]
  },
  {
   "cell_type": "markdown",
   "metadata": {},
   "source": [
    "#### Clean the 'city' column"
   ]
  },
  {
   "cell_type": "code",
   "execution_count": null,
   "metadata": {},
   "outputs": [],
   "source": [
    "df_fact.loc[df_fact.Client.str.contains(r'AMIENS'), [\"Zip\", \"City\"]] = 80000, 'Amiens'\n",
    "df_fact.loc[df_fact.Client.str.contains(r'ELSAN NANTES'), [\"Zip\", \"City\"]] = 44000, 'Nantes'"
   ]
  },
  {
   "cell_type": "code",
   "execution_count": null,
   "metadata": {},
   "outputs": [],
   "source": [
    "df_fact['City'] = df_fact['City'].str.title().str.replace(r'(\\bCedex\\s?\\d?\\d?)',\"\" )"
   ]
  },
  {
   "cell_type": "markdown",
   "metadata": {},
   "source": [
    "#### Clean the 'zip' column"
   ]
  },
  {
   "cell_type": "code",
   "execution_count": null,
   "metadata": {},
   "outputs": [],
   "source": [
    "# fill with 0 at the start if note lenght 5\n",
    "df_fact['Zip']=df_fact['Zip'].astype(str).str.zfill(5)"
   ]
  },
  {
   "cell_type": "code",
   "execution_count": null,
   "metadata": {},
   "outputs": [],
   "source": []
  },
  {
   "cell_type": "markdown",
   "metadata": {},
   "source": [
    "#### Clean the 'SendFacture' column"
   ]
  },
  {
   "cell_type": "code",
   "execution_count": null,
   "metadata": {},
   "outputs": [],
   "source": [
    "# fill the NaT with the date 2000 01 01.\n",
    "df_fact['SendFacture'] = df_fact['SendFacture'].fillna(Timestamp('20000101'))"
   ]
  },
  {
   "cell_type": "code",
   "execution_count": null,
   "metadata": {},
   "outputs": [],
   "source": []
  },
  {
   "cell_type": "code",
   "execution_count": null,
   "metadata": {},
   "outputs": [],
   "source": [
    "#df_fact = df_fact.sort_values(by='Client')\n",
    "len(df_fact)"
   ]
  },
  {
   "cell_type": "markdown",
   "metadata": {},
   "source": [
    "#### Prepare date to stack overflow"
   ]
  },
  {
   "cell_type": "raw",
   "metadata": {},
   "source": [
    "# Data preparation to stack overflow 1\n",
    "df = df_fact.sample(20)\n",
    "df1 = df.copy()\n",
    "df1.reset_index(inplace=True)\n",
    "df1.drop(['index', 'Client', 'SendFacture'], axis=1, inplace=True)\n",
    "df1.sample(2)"
   ]
  },
  {
   "cell_type": "raw",
   "metadata": {},
   "source": [
    "# Data preparation to stack overflow 2\n",
    "df1.drop([2, 6, 7, 8,9, 10, 12, 15, 16, 17, 18, 19], inplace=True)\n",
    "df1.reset_index(inplace=True)\n",
    "df1.drop(['index'], axis=1, inplace=True)\n",
    "df1['Subscription Period'] = df1['Subscription Period'].str.replace(r'Arsenal [c|C]hirurgical', 'Hospital')\n",
    "df1['Subscription Period'] = df1['Subscription Period'].str.replace(r\"prise d'effet au |à partir du \", 'effective ')\n",
    "df1['Subscription Period'] = df1['Subscription Period'].str.replace(r'Abonnement annuel', 'Yearly Subscription')\n",
    "df1['Subscription Period'] = df1['Subscription Period'].str.replace(r'Abonnement', 'Subscription')\n",
    "df1['Subscription Period'] = df1['Subscription Period'].str.replace(r'\\bdu\\b', 'from')\n",
    "df1['Subscription Period'] = df1['Subscription Period'].str.replace(r'\\bau\\b', 'to')\n"
   ]
  },
  {
   "cell_type": "raw",
   "metadata": {},
   "source": [
    "df2 = clean_Subscription(df1)\n",
    "data = df2.to_dict()\n",
    "df2 = pd.DataFrame.from_dict(data)"
   ]
  },
  {
   "cell_type": "code",
   "execution_count": null,
   "metadata": {},
   "outputs": [],
   "source": []
  },
  {
   "cell_type": "code",
   "execution_count": null,
   "metadata": {},
   "outputs": [],
   "source": [
    "def clean_Subscription(df_fact):\n",
    "    # clean if date begin and end in SubscriptionPeriod\n",
    "    # create 3 new colonnes\n",
    "    df_period = df_fact['Subscription Period'] \\\n",
    "        .str.extractall(r'(?P<Period>(?P<Begin>(0[1-9]|[12][0-9]|3[01])[/](0[1-9]|1[012])[/](19|20)?\\d\\d).+(?P<End>(0[1-9]|[12][0-9]|3[01])[/](0[1-9]|1[012])[/](19|20)?\\d\\d))')\n",
    "    df_fact['Period'] = df_period['Period'].unstack()\n",
    "    df_fact['Begin'] = df_period['Begin'].unstack()\n",
    "    df_fact['Begin'] = df_fact['Begin'].str.replace(r'((\\d{2})/(\\d{2})/(\\d{2,4}))', r'\\4-\\3-\\2' )\n",
    "    df_fact['End'] = df_period['End'].unstack()\n",
    "    df_fact['End'] = df_fact['End'].str.replace(r'((\\d{2})/(\\d{2})/(\\d{2,4}))', r'\\4-\\3-\\2' )\n",
    "    \n",
    "    return(df_fact)\n",
    "\n",
    "    "
   ]
  },
  {
   "cell_type": "raw",
   "metadata": {},
   "source": [
    "# clean if date begin and end in Subscription Period\n",
    "\n",
    "#(0[1-9]|[12][0-9]|3[01])[/](0[1-9]|1[012])[/](19|20)\\d\\d\n",
    "\n",
    "df_period = df_fact['Subscription Period'].str.extractall(r'(?P<Periode>(?P<Begin>(0[1-9]|[12][0-9]|3[01])[/](0[1-9]|1[012])[/](19|20)?\\d\\d).+(?P<End>(0[1-9]|[12][0-9]|3[01])[/](0[1-9]|1[012])[/](19|20)?\\d\\d))')\n",
    "df_fact['Period'] = df_period['Periode'].unstack()\n",
    "df_fact['Begin'] = df_period['Begin'].unstack()\n",
    "df_fact['End'] = df_period['End'].unstack()\n",
    "\n",
    "# clean if only begin in Subscription Period format dd/mm/aaaa\n",
    "#mask = df_fact['Subscription Period'].str.contains(r'(\\d{2}/\\d{2}/\\d{2,4})[)]?$')\n",
    "#df_fact.loc[mask, 'Begin'] = df_fact['Subscription Period'].str.contains(r'(\\d{2}/\\d{2}/\\d{2,4})[)]?$')\n",
    "\n"
   ]
  },
  {
   "cell_type": "code",
   "execution_count": null,
   "metadata": {},
   "outputs": [],
   "source": [
    "df_clean = clean_Subscription(df_fact)"
   ]
  },
  {
   "cell_type": "code",
   "execution_count": null,
   "metadata": {},
   "outputs": [],
   "source": [
    "begin2 = df_clean['Subscription Period'].str.extract(r'(\\d{2}/\\d{2}/\\d{2,4})[)]?$').rename({0:'Begin2'}, axis=1)\n",
    "begin2 = begin2.Begin2.str.replace(r'((\\d{2})/(\\d{2})/(\\d{2,4}))', r'\\4-\\3-\\2' )\n",
    "df_clean = pd.concat([df_clean, begin2], axis=1)\n",
    "df_clean.Begin = df_clean.Begin.combine_first(df_clean.Begin2)\n",
    "df_clean = df_clean.drop('Begin2', axis=1)"
   ]
  },
  {
   "cell_type": "code",
   "execution_count": null,
   "metadata": {},
   "outputs": [],
   "source": [
    "begin3 = df_clean['Subscription Period'].str.extract(r'(\\d{2}\\s\\w+\\s\\d{2,4})[)]?$').rename({0:'Begin3'}, axis=1)\n",
    "df_clean = pd.concat([df_clean, begin3], axis=1)"
   ]
  },
  {
   "cell_type": "code",
   "execution_count": null,
   "metadata": {},
   "outputs": [],
   "source": [
    "df_clean.Begin = df_clean.Begin.combine_first(df_clean.Begin3)"
   ]
  },
  {
   "cell_type": "code",
   "execution_count": null,
   "metadata": {},
   "outputs": [],
   "source": [
    "\n",
    "df_clean = df_clean.drop('Begin3', axis=1)"
   ]
  },
  {
   "cell_type": "code",
   "execution_count": null,
   "metadata": {},
   "outputs": [],
   "source": [
    "df_clean['Begin'].replace(r'01 janvier 2019', '2019-01-01', inplace=True)\n",
    "df_clean['Begin'].replace(r'01 octobre 2018', '2018-10-01', inplace=True)"
   ]
  },
  {
   "cell_type": "code",
   "execution_count": null,
   "metadata": {},
   "outputs": [],
   "source": [
    "df_clean['Date'] = df_clean['Date'].astype(str)"
   ]
  },
  {
   "cell_type": "code",
   "execution_count": null,
   "metadata": {},
   "outputs": [],
   "source": [
    "df_clean.Begin = df_clean.Begin.combine_first(df_clean.Date)"
   ]
  },
  {
   "cell_type": "code",
   "execution_count": null,
   "metadata": {},
   "outputs": [],
   "source": [
    "df_clean['Begin'].replace(r'01 janvier 2019', '2019-01-01', inplace=True)\n",
    "df_clean['Begin'].replace(r'01 octobre 2018', '2018-10-01', inplace=True)\n",
    "df_clean['Begin'].replace(r'18-11-22', '2018-11-22', inplace=True)\n",
    "df_clean['End'].replace(r'18-12-31', '2018-12-31', inplace=True)"
   ]
  },
  {
   "cell_type": "code",
   "execution_count": null,
   "metadata": {},
   "outputs": [],
   "source": [
    "df_clean['Begin'] = pd.to_datetime(df_clean['Begin'], format ='%Y-%m-%d')\n",
    "df_clean['Date'] = pd.to_datetime(df_clean['Date'], format ='%Y-%m-%d')\n",
    "df_clean['End'] = pd.to_datetime(df_clean['End'], format ='%Y-%m-%d')"
   ]
  },
  {
   "cell_type": "code",
   "execution_count": null,
   "metadata": {},
   "outputs": [],
   "source": [
    "End2 = df_clean['Begin'] + pd.offsets.DateOffset(years=1) -  pd.offsets.DateOffset(days=1)"
   ]
  },
  {
   "cell_type": "code",
   "execution_count": null,
   "metadata": {},
   "outputs": [],
   "source": [
    "End2 = End2.to_frame()"
   ]
  },
  {
   "cell_type": "code",
   "execution_count": null,
   "metadata": {},
   "outputs": [],
   "source": [
    "End2.rename({'Begin': 'End2'}, axis=1, inplace=True)"
   ]
  },
  {
   "cell_type": "code",
   "execution_count": null,
   "metadata": {},
   "outputs": [],
   "source": [
    "df_clean = pd.concat([df_clean, End2], axis=1)"
   ]
  },
  {
   "cell_type": "code",
   "execution_count": null,
   "metadata": {},
   "outputs": [],
   "source": [
    "df_clean.End = df_clean.End.combine_first(df_clean.End2)\n",
    "df_clean = df_clean.drop('End2', axis=1)"
   ]
  },
  {
   "cell_type": "code",
   "execution_count": null,
   "metadata": {},
   "outputs": [],
   "source": [
    "df_clean.info()"
   ]
  },
  {
   "cell_type": "code",
   "execution_count": null,
   "metadata": {},
   "outputs": [],
   "source": [
    "df_clean = df_clean.drop(['Subscription Period', 'FactureID', 'SendFacture', 'Period'], axis=1)"
   ]
  },
  {
   "cell_type": "code",
   "execution_count": null,
   "metadata": {},
   "outputs": [],
   "source": [
    "df_clean.info()"
   ]
  },
  {
   "cell_type": "code",
   "execution_count": null,
   "metadata": {},
   "outputs": [],
   "source": [
    "df_clean['Week_Number_Begin'] = df_clean['Begin'].dt.week\n",
    "df_clean['Year_Begin'] = df_clean['Begin'].dt.year\n",
    "df_clean[df_clean[['Client', 'Year_Begin']].duplicated(keep=False)]"
   ]
  },
  {
   "cell_type": "code",
   "execution_count": null,
   "metadata": {},
   "outputs": [],
   "source": []
  },
  {
   "cell_type": "code",
   "execution_count": null,
   "metadata": {},
   "outputs": [],
   "source": [
    "df_clean.to_csv(path_output+'HistoryCa.csv')"
   ]
  },
  {
   "cell_type": "code",
   "execution_count": null,
   "metadata": {},
   "outputs": [],
   "source": []
  },
  {
   "cell_type": "code",
   "execution_count": null,
   "metadata": {},
   "outputs": [],
   "source": []
  },
  {
   "cell_type": "code",
   "execution_count": null,
   "metadata": {},
   "outputs": [],
   "source": []
  },
  {
   "cell_type": "code",
   "execution_count": null,
   "metadata": {},
   "outputs": [],
   "source": []
  }
 ],
 "metadata": {
  "kernelspec": {
   "display_name": "Python 3",
   "language": "python",
   "name": "python3"
  },
  "language_info": {
   "codemirror_mode": {
    "name": "ipython",
    "version": 3
   },
   "file_extension": ".py",
   "mimetype": "text/x-python",
   "name": "python",
   "nbconvert_exporter": "python",
   "pygments_lexer": "ipython3",
   "version": "3.7.4"
  },
  "toc": {
   "base_numbering": 1,
   "nav_menu": {},
   "number_sections": true,
   "sideBar": true,
   "skip_h1_title": true,
   "title_cell": "Table of Contents",
   "title_sidebar": "Contents",
   "toc_cell": true,
   "toc_position": {},
   "toc_section_display": true,
   "toc_window_display": false
  }
 },
 "nbformat": 4,
 "nbformat_minor": 4
}
